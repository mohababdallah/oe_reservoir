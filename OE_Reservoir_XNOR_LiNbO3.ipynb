{
 "cells": [
  {
   "cell_type": "code",
   "execution_count": 1,
   "id": "classical-depression",
   "metadata": {},
   "outputs": [],
   "source": [
    "#import sys\n",
    "#sys.path.append('C:\\\\Users\\\\mabdalla\\\\OneDrive - ec-lyon.fr\\\\Documents\\\\Python Scripts\\\\packages')\n",
    "import torch\n",
    "import numpy as np\n",
    "import photontorch as pt\n",
    "from photontorch.environment import current_environment\n",
    "import matplotlib.pyplot as plt\n",
    "from scipy.signal import butter#, lfilter\n",
    "#from torch_lfilter import lfilter\n",
    "import pandas as pd\n",
    "from photontorch import BoundedParameter\n",
    "from ipywidgets import interact\n",
    "from tqdm.notebook import trange"
   ]
  },
  {
   "cell_type": "markdown",
   "id": "acceptable-wagner",
   "metadata": {},
   "source": [
    "### Now we proceed to construct the missing components: PD, 3-Port MZI, Electronic Combiner, AWG, Optical Attenuator. In additon we need to construct a CW Laser as Photontorch networks do not handle different instances of sources independently within the same simulation"
   ]
  },
  {
   "cell_type": "code",
   "execution_count": 2,
   "id": "spectacular-array",
   "metadata": {},
   "outputs": [],
   "source": [
    "class PD(pt.Component):\n",
    "    \"\"\"\n",
    "    A photodector which acts instantaneously on the input optical power,\n",
    "    converting it to current according to the input wavelength-independendt responsivity.\n",
    "    Note: At R=1, this is the equivalent component of the built-in detector term.\n",
    "    An optional Resistance can be added to output a voltage instead, to model a simple TIA operating at DC.\n",
    "\n",
    "    Terms: \n",
    "        0 ---- 1 \n",
    "    \n",
    "    \"\"\"    \n",
    "    num_ports = 2\n",
    "    \n",
    "    def __init__(\n",
    "        self,\n",
    "        R = 1, #Responsivity\n",
    "        Z = 1, #TIA Impedence (Resistance)\n",
    "        name = None,  \n",
    "        ):\n",
    "        \n",
    "        super(PD,self).__init__(name=name)    \n",
    "        self.R = float(R)\n",
    "        self.Z = float(Z)\n",
    "        \n",
    "    def action(self, t, x_in, x_out):\n",
    "        \n",
    "        a_in, _ = x_in\n",
    "\n",
    "        x_out[0] = a_in  #Nothing happens to input node\n",
    "        \n",
    "        \n",
    "        x_out[1,0] = self.R*self.Z*(a_in[0]**2+a_in[1]**2)  #PD Equation\n",
    "        \n",
    "        x_out[1,1] = 0  #lose the phase information\n",
    "        \n",
    "        #print(x_out[1,0])  #for debugging\n",
    "        \n",
    "    def set_actions_at(self, actions_at):\n",
    "        actions_at[:] = 1\n",
    "        \n",
    "    def set_S(self, S):\n",
    "        S[0,:,0,0] = 1.0\n",
    "        S[0,:,1,1] = 1.0\n",
    "        return S"
   ]
  },
  {
   "cell_type": "code",
   "execution_count": 3,
   "id": "assumed-necessity",
   "metadata": {},
   "outputs": [],
   "source": [
    "class MZI(pt.Component):\n",
    "    \"\"\"\n",
    "    This is a 3 port implementation of symmetric MZI-based (equal arm-lengths) Intensity modulator. \n",
    "    An input voltage adds a phase to the phase induced by one of the arms.\n",
    "    Note: This implementation assumes it will be connected to a real source.\n",
    "\n",
    "    Terms: \n",
    "  Optical  0 ----- 2  Optical\n",
    "               |\n",
    "               |\n",
    "               1 \n",
    "           Electrical\n",
    "    \n",
    "    \"\"\"    \n",
    "    num_ports = 3\n",
    "    \n",
    "    def __init__(\n",
    "        self,\n",
    "        vpi = 3.0, #Voltage to acquire Pi phase shift\n",
    "        neff = 2.34, #effective index\n",
    "        ng = 3.40, #group index\n",
    "        wl0 = 1.55e-6, #wavelength for defined neff\n",
    "        length = 1.5e-6, #waveguide length (m)\n",
    "        loss = 0, #The loss would be both Y-jun loss + both waveguide losses\n",
    "        name = None,  \n",
    "        ):\n",
    "        \n",
    "        super(MZI,self).__init__(name=name)    \n",
    "        self.vpi=float(vpi)\n",
    "        self.neff = float(neff)\n",
    "        self.ng = float(ng)\n",
    "        self.length = float(length)\n",
    "        self.loss = float(loss)\n",
    "        self.wl0 = float(wl0)\n",
    "        \n",
    "    #def set_delays(self,delays):\n",
    "        #delays[:] = self.ng * self.length/self.env.c\n",
    "        \n",
    "    def action(self, t, x_in, x_out):\n",
    "        \n",
    "        a_in, v_in, _ = x_in     #Port0: input optical amplitude, Port1: input Voltage, Port2: O/p node (no need to store)\n",
    "        \n",
    "        v = v_in[0]  #The 'real' part of voltage signal \n",
    "        #print(a_in)  #for debugging\n",
    "        \n",
    "        x_out[0] = a_in  #Nothing happens to optical input node\n",
    "        \n",
    "        x_out[1] = v_in #Nothing happens to electrical input port\n",
    "        \n",
    "        wls = torch.tensor(self.env.wl, dtype=torch.float64, device=self.device)\n",
    "\n",
    "        # neff depends on the wavelength:\n",
    "        neff = self.neff - (wls - self.wl0) * (self.ng - self.neff) / self.wl0\n",
    "        \n",
    "        phase = (2 * np.pi * neff * self.length / wls) #% (2 * np.pi) #Phase due to waveguide propagation\n",
    "        \n",
    "        Ei = torch.sqrt(a_in[0]**2 + a_in[1]**2) #Input amplitude\n",
    "\n",
    "        mzi_eq_re = 0.5 * Ei * (torch.cos(phase) + torch.cos(phase + np.pi * (v / self.vpi)))  #Real\n",
    "        mzi_eq_im = 0.5 * Ei * (torch.sin(phase) + torch.sin(phase + np.pi * (v / self.vpi))) #Imaginary\n",
    "        \n",
    "        x_out[2,0] = mzi_eq_re  \n",
    "        x_out[2,1] = mzi_eq_im\n",
    "        \n",
    "        #print(x_out[2])  #for debugging\n",
    "        \n",
    "    def set_actions_at(self, actions_at):\n",
    "        actions_at[:] = 1  #Actions must be defined for all ports in active devices\n",
    "        \n",
    "    def set_S(self, S):\n",
    "        S[0,:,0,0] = 1.0\n",
    "        S[0,:,1,1] = 1.0\n",
    "        S[0,:,2,2] = 1.0\n",
    "        return S"
   ]
  },
  {
   "cell_type": "code",
   "execution_count": 4,
   "id": "complicated-salmon",
   "metadata": {},
   "outputs": [],
   "source": [
    "class optAtten(pt.Component):\n",
    "    \"\"\"\n",
    "    The optical attenuator is a 2 port component that attenuates the signal. It is bounded from 0 to 1.\n",
    "    The attenuation is trainable.\n",
    "    \n",
    "    Terms: \n",
    "    Optical  0 ----- 1  Optical\n",
    "            \n",
    "    \"\"\"      \n",
    "    num_ports = 2\n",
    "    \n",
    "    def __init__(\n",
    "    self,\n",
    "    trainable = True,\n",
    "    attenuation = 0.0,\n",
    "    name=None,\n",
    "    ): \n",
    "        #self.attenuation = float(attenuation)\n",
    "        super(optAtten, self).__init__(name=name)\n",
    "        if trainable:\n",
    "            self.attenuation = BoundedParameter(\n",
    "            data=torch.tensor(attenuation, device=self.device),\n",
    "            bounds=(0.0, 1.0),\n",
    "            requires_grad=True,\n",
    "            )\n",
    "        else:\n",
    "            self.attenuation = Buffer(\n",
    "            data=torch.tensor(attenuation, device=self.device), requires_grad=False\n",
    "            )\n",
    "    \n",
    "    def set_S(self, S):\n",
    "        S[0,:,0,1] = S[0,:,1,0] = (1.0-self.attenuation) ** 0.5\n",
    "\n",
    "        return S"
   ]
  },
  {
   "cell_type": "raw",
   "id": "civil-casino",
   "metadata": {},
   "source": [
    "class test_att(pt.Network):\n",
    "    def __init__(self):\n",
    "        super(test_att,self).__init__()\n",
    "        self.src = pt.Source()\n",
    "        self.att = optAtten(attenuation=0.5)\n",
    "        self.wg = pt.Waveguide()\n",
    "        self.det = pt.Detector()\n",
    "        self.link(\"src:0\", \"0:wg:1\", \"0:att:1\", \"0:det\")"
   ]
  },
  {
   "cell_type": "raw",
   "id": "graphic-detection",
   "metadata": {},
   "source": [
    "att_Circuit = test_att()\n",
    "\n",
    "time_env = pt.Environment(dt=1e-15, t1=1e-12, wl=1.55e-6)\n",
    "\n",
    "print(time_env.time)\n",
    "\n",
    "sin_source = torch.tensor(np.sin(time_env.time*4e13), dtype=torch.float32, names=[\"t\"]) # lower dimensional source should have named dimensions.\n",
    "\n",
    "with time_env:\n",
    "    detected = att_Circuit(source=1)\n",
    "    att_Circuit.plot(detected)\n",
    "    plt.show() "
   ]
  },
  {
   "cell_type": "code",
   "execution_count": 5,
   "id": "interim-airline",
   "metadata": {},
   "outputs": [],
   "source": [
    "class Combiner(pt.Component):\n",
    "    \"\"\"\n",
    "    The electronic combiner is a 3 port component that linearly combines 2 signals then multiplies both by a gain factor.\n",
    "    The gain is trainable. Note: The circuit is not symmetric.\n",
    "    Note: The signals entering the i/p ports must be real (Electrical)\n",
    "    \n",
    "    Terms: \n",
    "  Electrical i/p  0 ----- 2  Electrical o/p\n",
    "                      |\n",
    "                      |\n",
    "                      1 \n",
    "                 Electrical i/p\n",
    "            \n",
    "    \"\"\"      \n",
    "    num_ports = 3\n",
    "    \n",
    "    def __init__(\n",
    "    self,\n",
    "    trainable = True,\n",
    "    gain = 1.0,\n",
    "    name=None,\n",
    "    ): \n",
    "        super(Combiner, self).__init__(name=name)\n",
    "        if trainable:\n",
    "            self.gain = BoundedParameter(\n",
    "            data=torch.tensor(gain, device=self.device),\n",
    "            bounds=(1.0, 30.0),\n",
    "            requires_grad=True,\n",
    "            )\n",
    "        else:\n",
    "            self.gain = Buffer(\n",
    "            data=torch.tensor(gain, device=self.device), requires_grad=False\n",
    "            )\n",
    "    \n",
    "    def set_S(self, S):\n",
    "        S[0,:,2,0] = S[0,:,2,1] = self.gain ** 0.5\n",
    "        return S"
   ]
  },
  {
   "cell_type": "raw",
   "id": "neither-spank",
   "metadata": {},
   "source": [
    "class test_comb(pt.Network):\n",
    "    def __init__(self):\n",
    "        super(test_comb,self).__init__()\n",
    "        self.src = pt.Source()\n",
    "        self.comb = Combiner(gain=2)\n",
    "        self.wg = pt.Waveguide()\n",
    "        self.det = pt.Detector()\n",
    "        self.link(\"src:0\", \"0:comb:2\", \"0:det\")\n",
    "        self.link(\"src:0\", \"1:comb\")"
   ]
  },
  {
   "cell_type": "raw",
   "id": "other-elizabeth",
   "metadata": {},
   "source": [
    "comb_Circuit = test_comb()\n",
    "time_env = pt.Environment(dt=1e-15, t1=1e-12, wl=1.55e-6)\n",
    "\n",
    "with time_env:\n",
    "    detected2 = comb_Circuit(source=np.sqrt(1)) ##Input desired Power\n",
    "    comb_Circuit.plot(detected2)\n",
    "    plt.show() "
   ]
  },
  {
   "cell_type": "code",
   "execution_count": 6,
   "id": "successful-marina",
   "metadata": {},
   "outputs": [],
   "source": [
    "class AWG(pt.Component):\n",
    "    \"\"\"\n",
    "    The AWG produces a sinusoidal signal matching the environment timestep. It is used as an electronic waveform.\n",
    "\n",
    "    Terms: \n",
    "        0 ---- 1 \n",
    "    \n",
    "    \"\"\"    \n",
    "    num_ports = 2\n",
    "    \n",
    "    def __init__(\n",
    "        self,\n",
    "        delay = 0,\n",
    "        name = None,  \n",
    "        ):\n",
    "        \n",
    "        super(AWG,self).__init__(name=name) \n",
    "        self.delay = float(delay)\n",
    "        \n",
    "    def action(self, t, x_in, x_out):\n",
    "        \n",
    "        sin_source = np.sin(t*4e13)\n",
    "        \n",
    "        if t<self.delay:\n",
    "            x_out[1,0] = 0 \n",
    "        else:\n",
    "            x_out[1,0] = sin_source\n",
    "        \n",
    "        x_out[1,1] = 0  #no phase information\n",
    "        \n",
    "        #print(x_out[1,0])  #for debugging\n",
    "        \n",
    "    def set_actions_at(self, actions_at):\n",
    "        actions_at[:] = 1\n",
    "        \n",
    "    def set_S(self, S):\n",
    "        S[0,:,0,0] = 1.0\n",
    "        S[0,:,1,1] = 1.0\n",
    "        return S"
   ]
  },
  {
   "cell_type": "raw",
   "id": "complete-objective",
   "metadata": {},
   "source": [
    "class test_AWG(pt.Network):\n",
    "    def __init__(self):\n",
    "        super(test_AWG,self).__init__()\n",
    "        self.src = pt.Source()\n",
    "        self.awg = AWG()\n",
    "        self.det = pt.Detector()\n",
    "        self.link(\"src:0\", \"0:awg:1\", \"0:det\")\n",
    "        \n",
    "class test_AWG2(pt.Network):\n",
    "    def __init__(self):\n",
    "        super(test_AWG2,self).__init__()\n",
    "        self.src = pt.Source()\n",
    "        self.awg = AWG()\n",
    "        self.term = pt.Term()\n",
    "        self.det = self.det2 = pt.Detector()\n",
    "        self.link(\"src:0\", \"0:det\")\n",
    "        self.link(\"term:0\",\"0:awg:1\", \"0:det2\")"
   ]
  },
  {
   "cell_type": "raw",
   "id": "dependent-contamination",
   "metadata": {},
   "source": [
    "awg_Circuit = test_AWG()\n",
    "awg_Circuit2 = test_AWG2()\n",
    "\n",
    "sin_source1 = torch.tensor(np.sin(time_env.time*4e13), dtype=torch.float32, names=[\"t\"]) # lower dimensional source should have named dimensions.\n",
    "\n",
    "with time_env:\n",
    "    detected2 = awg_Circuit(source=1) ##Input desired Power\n",
    "    awg_Circuit.plot(detected2)\n",
    "    plt.show() \n",
    "\n",
    "with time_env:\n",
    "    detected3 = awg_Circuit2(source=1) ##Input desired Power\n",
    "    awg_Circuit2.plot(detected3)\n",
    "    plt.show() \n",
    "    \n",
    "plt.plot(time_env.time, sin_source1.numpy())"
   ]
  },
  {
   "cell_type": "code",
   "execution_count": 7,
   "id": "crucial-lender",
   "metadata": {},
   "outputs": [],
   "source": [
    "class CW_Laser(pt.Component):\n",
    "    \"\"\"\n",
    "    A CW Laser used when multiple sources are desired in a network. Note: When linking, terminate the component's 0 port.\n",
    "\n",
    "    Terms: \n",
    "        0 ---- 1 \n",
    "    \n",
    "    \"\"\"    \n",
    "    num_ports = 2\n",
    "    \n",
    "    def __init__(\n",
    "        self,\n",
    "        Power = 1,  #Input the laser power here\n",
    "        delay=0,\n",
    "        name = None,  \n",
    "        ):\n",
    "        \n",
    "        super(CW_Laser,self).__init__(name=name) \n",
    "        self.Power = float(Power)\n",
    "        self.delay = float(delay)\n",
    "            \n",
    "    def action(self, t, x_in, x_out):\n",
    "        \n",
    "        if t<self.delay:\n",
    "            x_out[1,0] = 0.0001  #Zero noise floor\n",
    "        else:\n",
    "            x_out[1,0] = self.Power ** 0.5\n",
    "        \n",
    "        x_out[1,1] = 0  #no phase information, this is a real source\n",
    "        \n",
    "        #print(x_out[1,0])  #for debugging\n",
    "        \n",
    "    def set_actions_at(self, actions_at):\n",
    "        actions_at[:] = 1\n",
    "        \n",
    "    def set_S(self, S):\n",
    "        S[0,:,0,0] = 1.0\n",
    "        S[0,:,1,1] = 1.0\n",
    "        return S"
   ]
  },
  {
   "cell_type": "markdown",
   "id": "declared-multiple",
   "metadata": {},
   "source": [
    "### After testing each component successfully, now let us proceed to construct our optoelectronic reservoir"
   ]
  },
  {
   "cell_type": "raw",
   "id": "retained-shipping",
   "metadata": {},
   "source": [
    "class oe_reservoir(pt.Network):\n",
    "    def __init__(self,gain=1,attenuation=0,awg_delay=0, wg_delay=150e-15, wg_ng=2.34):\n",
    "        super(oe_reservoir, self).__init__()\n",
    "        self.src = pt.Source()\n",
    "        self.det = pt.Detector()\n",
    "        self.pd = PD(Z=1)\n",
    "        self.comb = Combiner(gain=gain)\n",
    "        self.att = optAtten(attenuation=attenuation)\n",
    "        self.awg = AWG(delay=awg_delay)\n",
    "        self.term = pt.Term()\n",
    "        self.mmi = pt.Mmi()\n",
    "        self.wg = pt.Waveguide(ng=wg_ng,length=299792458*wg_delay/wg_ng)\n",
    "        self.mzi = MZI()\n",
    "        self.link(\"src:0\", \"0:mzi:2\", \"0:mmi:1\", \"0:att:1\", \"0:wg:1\", \"0:pd:1\", \"0:comb:2\", \"1:mzi\")\n",
    "        self.link(\"mmi:2\", \"0:det\")\n",
    "        self.link(\"term:0\",\"0:awg:1\",\"1:comb\")\n",
    "print(torch.where(oe_reservoir().free_ports_at)[0])     "
   ]
  },
  {
   "cell_type": "raw",
   "id": "incoming-oracle",
   "metadata": {},
   "source": [
    "#Reservoir Parameters\n",
    "delay_wg = 1e-9  #Delay line, it automatically controls the waveguide length (Along with group index below)\n",
    "ng = 2.10  #To use the parameters of LNOI\n",
    "delay_awg = 25e-9  #useful to observe memory capacity by apply delay to input data to only monitoring the feedback\n",
    "gain = 20 #feedback gain\n",
    "att = 0.3  #optical attenuator\n",
    "\n",
    "#Simulation parameters -- Control the number of samples here\n",
    "N = 1000 # no. of 'virtual' nodes in the reservoir\n",
    "sim_time = 25e-9\n",
    "wl = 1.55e-6\n",
    "dt = sim_time/N\n",
    "\n",
    "Reservoir = oe_reservoir(gain,att,delay_awg,delay_wg,ng)\n",
    "\n",
    "\n",
    "time_env = pt.Environment(dt=dt, t1=sim_time, wl=wl)\n",
    "\n",
    "with time_env:\n",
    "    detected = Reservoir(source=np.sqrt(1))  ###Write the desired input Power value here\n",
    "    Reservoir.plot(detected)\n",
    "    plt.show()"
   ]
  },
  {
   "cell_type": "markdown",
   "id": "spectacular-graduate",
   "metadata": {},
   "source": [
    "\n",
    "#### Fading Memory Property is demonstrated above: The AWG delay is set for the entire simulation duration, such that only the feedback state appears at the output. Tweaking the attenuation + gain should result in different linear (and possibly nonlinear) memory capacities."
   ]
  },
  {
   "cell_type": "code",
   "execution_count": 8,
   "id": "developmental-patrol",
   "metadata": {},
   "outputs": [
    {
     "name": "stdout",
     "output_type": "stream",
     "text": [
      "tensor([], dtype=torch.int64)\n"
     ]
    }
   ],
   "source": [
    "class oe_reservoir(pt.Network):\n",
    "    def __init__(self,gain=3, las_pow = 1, attenuation=0.3, wg_delay=0.1e-9, wg_ng=2.6734):\n",
    "        super(oe_reservoir, self).__init__()\n",
    "        self.src = pt.Source()\n",
    "        self.det = pt.Detector()\n",
    "        self.pd = PD(Z=1)\n",
    "        self.comb = Combiner(gain=np.random.uniform(low=1.0,high=30.0), trainable = True)\n",
    "        self.att = optAtten(attenuation=0.999, trainable = True) #np.random.uniform(low=0.0,high=1.0)\n",
    "        self.laser = CW_Laser(Power=las_pow, delay=0) #0.15e-9\n",
    "        self.term = pt.Term()\n",
    "        self.mmi = pt.Mmi(trainable=False)\n",
    "        self.wg = pt.Waveguide(ng=wg_ng,length=299792458*wg_delay/wg_ng, trainable = False)\n",
    "        self.mzi = MZI()\n",
    "        self.link(\"term:0\",\"0:laser:1\", \"0:mzi:2\", \"0:mmi:1\", \"0:att:1\", \"0:wg:1\", \"0:pd:1\", \"0:comb:2\", \"1:mzi\")\n",
    "        self.link(\"mmi:2\", \"0:det\")\n",
    "        self.link(\"src:0\",\"1:comb\")\n",
    "print(torch.where(oe_reservoir().free_ports_at)[0]) \n",
    "\n",
    "#(1/(299792458*2e-11/2.34))*(299792458/2.34)\n",
    "#(299792458*2e-11/2.34)\n",
    "#299792458/(0.0025623287008547007*2.34)"
   ]
  },
  {
   "cell_type": "code",
   "execution_count": 9,
   "id": "revised-firmware",
   "metadata": {},
   "outputs": [
    {
     "name": "stdout",
     "output_type": "stream",
     "text": [
      "BoundedParameter in [1.00, 30.00] representing:\n",
      "tensor(16.2755)\n",
      "BoundedParameter in [0.00, 1.00] representing:\n",
      "tensor(0.9990)\n"
     ]
    },
    {
     "data": {
      "image/png": "[encoded data removed]",
      "text/plain": [
       "<Figure size 432x288 with 1 Axes>"
      ]
     },
     "metadata": {
      "needs_background": "light"
     },
     "output_type": "display_data"
    }
   ],
   "source": [
    "#Reservoir Parameters\n",
    "delay_wg = 2e-11  #Delay line, it automatically controls the waveguide length (Along with group index below)\n",
    "ng = 2.34  #To use the parameters of LNOI\n",
    "gain = 5 #feedback gain\n",
    "att = 0.4  #optical attenuator\n",
    "las_pow = 1 #Laser Power\n",
    "\n",
    "#Simulation parameters -- Control the number of samples here\n",
    "N = 1000     #no. of 'virtual' nodes in the reservoir\n",
    "sim_time = 1e-12\n",
    "wl = 1.55e-6\n",
    "dt = sim_time/N #timestep\n",
    "\n",
    "Reservoir = oe_reservoir(gain,las_pow,att,delay_wg,ng)\n",
    "\n",
    "time_env = pt.Environment(dt=dt, t1=sim_time, wl=wl)\n",
    "\n",
    "sin_source = torch.tensor(np.sin(time_env.time*4e13), dtype=torch.float32, names=[\"t\"]) # lower dimensional source \n",
    "\n",
    "for p in Reservoir.parameters():\n",
    "    print(p)\n",
    "with time_env:\n",
    "    detected = Reservoir(source=0)  ###Write the desired input Power value here\n",
    "    Reservoir.plot(detected)\n",
    "    plt.show()"
   ]
  },
  {
   "cell_type": "markdown",
   "id": "owned-fellow",
   "metadata": {},
   "source": [
    "# We now proceed to train the circuit for XOR with 2 subsequent bits"
   ]
  },
  {
   "cell_type": "code",
   "execution_count": 10,
   "id": "measured-latin",
   "metadata": {},
   "outputs": [
    {
     "name": "stdout",
     "output_type": "stream",
     "text": [
      "0.11213902072267526\n"
     ]
    }
   ],
   "source": [
    "c = 299792458.0 #[m/s] speed of light\n",
    "Rb = 1e9 #[1/s] bitrate\n",
    "Rs = 50e9 #[1/s] samplerate  e9 originally\n",
    "fc = 1e9 #[1/s] cutoff frequency for bit generation\n",
    "wl0 = 1550e-9 #[m] center wavelength\n",
    "neff = 2.34 #[1] effective index\n",
    "ng = 2.6734 #[1] group index\n",
    "N = 100 #[1] number of bits per bit stream\n",
    "B = 10 #[1] number of bit streams in training batch\n",
    "Str, Sva, Ste = (1, 2, 3) #[1] train seed, validation seed, test seed\n",
    "Lr = (1/Rb) * (c/ng) #[m] reference length (distance the bit travels during one bit period)\n",
    "device = torch.device(\"cpu\") # default device used\n",
    "torch.set_default_dtype(torch.float32) # default dtype used\n",
    "torch.manual_seed(123) # pytorch seed\n",
    "np.random.seed(42) # numpy seed\n",
    "print(Lr)"
   ]
  },
  {
   "cell_type": "code",
   "execution_count": 11,
   "id": "fallen-organic",
   "metadata": {},
   "outputs": [],
   "source": [
    "class BitGenerator(np.random.RandomState):\n",
    "    def __call__(self, N, B=1):\n",
    "        \"\"\" generate a bit sequence\n",
    "\n",
    "        Args:\n",
    "            N: number of bits per sequence\n",
    "            B: number of sequences in batch\n",
    "        \"\"\"\n",
    "        bits = self.rand(N,B) > 0.5\n",
    "        return bits"
   ]
  },
  {
   "cell_type": "code",
   "execution_count": 12,
   "id": "covered-antenna",
   "metadata": {},
   "outputs": [],
   "source": [
    "def COPY(bits):\n",
    "    return bits.copy()\n",
    "def XOR(bits):\n",
    "    XOR_res = (np.concatenate([bits, np.zeros_like(bits[-1:])], 0) ^ np.concatenate([np.zeros_like(bits[:1]), bits], 0))[:-1]\n",
    "    return np.invert(XOR_res)\n",
    "def AND(bits):\n",
    "    return (np.concatenate([bits, np.zeros_like(bits[-1:])], 0) & np.concatenate([np.zeros_like(bits[:1]), bits], 0))[:-1]\n",
    "\n",
    "TARGET = XOR\n",
    "#TARGET(bits)"
   ]
  },
  {
   "cell_type": "code",
   "execution_count": 13,
   "id": "informed-feature",
   "metadata": {},
   "outputs": [
    {
     "data": {
      "image/png": "[encoded data removed]",
      "text/plain": [
       "<Figure size 432x288 with 1 Axes>"
      ]
     },
     "metadata": {
      "needs_background": "light"
     },
     "output_type": "display_data"
    }
   ],
   "source": [
    "bits = BitGenerator(seed=23)(10)\n",
    "streamgen = pt.BitStreamGenerator(bitrate=Rb, samplerate=Rs, cutoff_frequency=fc, device=device)\n",
    "stream = streamgen(bits)\n",
    "target = streamgen(TARGET(bits))\n",
    "t = np.arange(stream.shape[0])*(1/Rs)\n",
    "plt.plot(1e9*t, stream.data.cpu().numpy())\n",
    "plt.plot(1e9*t, target.data.cpu().numpy())\n",
    "plt.xlabel(\"t [ns]\")\n",
    "plt.show()\n",
    "#streamgen(TARGET(bits))"
   ]
  },
  {
   "cell_type": "code",
   "execution_count": 14,
   "id": "miniature-substitute",
   "metadata": {},
   "outputs": [],
   "source": [
    "# train streams\n",
    "trbits = BitGenerator(seed=Str)(N, B) # N bits per train stream, B train streams per batch.\n",
    "trstream = streamgen(trbits)\n",
    "trtarget = streamgen(TARGET(trbits))**2\n",
    "t = np.arange(trstream.shape[0])*(1/Rs)\n",
    "#print(t)\n",
    "# validation streams\n",
    "vabits = BitGenerator(seed=Sva)(N, 1) # N bits per validation stream, 1 validation stream per batch.\n",
    "vastream = streamgen(vabits)\n",
    "vatarget = streamgen(TARGET(vabits))**2\n",
    "\n",
    "# test streams\n",
    "tebits = BitGenerator(seed=Ste)(N*B, 1) # N*B bits per teststream\n",
    "testream = streamgen(tebits)\n",
    "tetarget = streamgen(TARGET(tebits))**2"
   ]
  },
  {
   "cell_type": "code",
   "execution_count": 15,
   "id": "precise-hepatitis",
   "metadata": {},
   "outputs": [
    {
     "data": {
      "image/png": "[encoded data removed]",
      "text/plain": [
       "<Figure size 432x288 with 1 Axes>"
      ]
     },
     "metadata": {
      "needs_background": "light"
     },
     "output_type": "display_data"
    }
   ],
   "source": [
    "#Reservoir Parameters\n",
    "delay_wg = 2e-11  #Delay line, it automatically controls the waveguide length (Along with group index below)\n",
    "ng = 2.34  #To use the parameters of LNOI\n",
    "gain = 5 #feedback gain\n",
    "att = 0.4  #optical attenuator\n",
    "las_pow = 1 #Laser Power\n",
    "\n",
    "#Simulation parameters -- Control the number of samples here\n",
    "N = 1000     #no. of 'virtual' nodes in the reservoir\n",
    "sim_time = 10e-12\n",
    "wl = 1.55e-6\n",
    "dt = sim_time/N #timestep\n",
    "\n",
    "Reservoir = oe_reservoir()\n",
    "\n",
    "time_env = pt.Environment(dt=dt, t1=sim_time, wl=wl)\n",
    "\n",
    "sin_source = torch.tensor(np.sin(time_env.time*4e13), dtype=torch.float32, names=[\"t\"]) # lower dimensional source \n",
    "\n",
    "\n",
    "with pt.Environment(t=t):\n",
    "    detected = Reservoir(source=vastream.rename(\"t\", \"b\"))[:,0,0,:] # lower dimensional sources should have named dimensions\n",
    "    Reservoir.plot(detected)\n",
    "    plt.show()"
   ]
  },
  {
   "cell_type": "code",
   "execution_count": 16,
   "id": "polar-capability",
   "metadata": {},
   "outputs": [
    {
     "data": {
      "application/vnd.jupyter.widget-view+json": {
       "model_id": "db9a81324b4541a9aad50ea900a55dec",
       "version_major": 2,
       "version_minor": 0
      },
      "text/plain": [
       "interactive(children=(FloatSlider(value=1.0, description='latency', max=3.0, step=0.5), Output()), _dom_classe…"
      ]
     },
     "metadata": {},
     "output_type": "display_data"
    }
   ],
   "source": [
    "res = oe_reservoir()\n",
    "with pt.Environment(t=t):\n",
    "    detected = res(source=vastream.rename(\"t\", \"b\"))[:,0,0,:] # lower dimensional sources should have named dimensions\n",
    "#The 2 times as we sample from reservoir at half total power (due to splitting)\n",
    "\n",
    "mse = pt.MSELoss(latency=0.0, warmup=0.0, bitrate=Rb, samplerate=Rs)\n",
    "@interact(latency=(0,3,0.5))\n",
    "def _(latency=1.0):\n",
    "    mse.plot(vastream, label=\"input\")\n",
    "    mse.plot(vatarget, label=\"target\")\n",
    "    mse.plot(detected, latency=latency, label=\"detected\")\n",
    "    plt.legend()\n",
    "    plt.xlim(0,10)\n",
    "    plt.show()"
   ]
  },
  {
   "cell_type": "code",
   "execution_count": 17,
   "id": "determined-japanese",
   "metadata": {},
   "outputs": [],
   "source": [
    "mse = pt.MSELoss(latency=0.0, warmup=0.0, bitrate=Rb, samplerate=Rs)\n",
    "ber = pt.BERLoss(latency=0.0, threshold=0.5, warmup=0.0, bitrate=Rb, samplerate=Rs)"
   ]
  },
  {
   "cell_type": "code",
   "execution_count": 18,
   "id": "digital-justice",
   "metadata": {},
   "outputs": [
    {
     "data": {
      "application/vnd.jupyter.widget-view+json": {
       "model_id": "163c162cad954399894e971fffd810cc",
       "version_major": 2,
       "version_minor": 0
      },
      "text/plain": [
       "  0%|          | 0/46 [00:00<?, ?it/s]"
      ]
     },
     "metadata": {},
     "output_type": "display_data"
    }
   ],
   "source": [
    "scale = torch.tensor(1.0, requires_grad=True)\n",
    "bias = torch.tensor(0.0, requires_grad=True)\n",
    "optim = torch.optim.Adam([scale, bias, *res.parameters()], lr=0.2)\n",
    "range_ = trange(46)\n",
    "with pt.Environment(t=t, enable_grad=True):\n",
    "    for i in range_:\n",
    "        optim.zero_grad()\n",
    "        trdet = res(source=trstream.rename(\"t\", \"b\"))[:,0,0,:]*scale + bias\n",
    "        loss = mse(trdet, trtarget)\n",
    "        loss.backward()\n",
    "        optim.step()\n",
    "        range_.set_postfix(loss=loss.item(), ber=ber(trdet, trtarget))"
   ]
  },
  {
   "cell_type": "code",
   "execution_count": 19,
   "id": "pressed-namibia",
   "metadata": {},
   "outputs": [
    {
     "name": "stdout",
     "output_type": "stream",
     "text": [
      "BoundedParameter in [1.00, 30.00] representing:\n",
      "tensor(26.2622)\n",
      "BoundedParameter in [0.00, 1.00] representing:\n",
      "tensor(0.8138)\n",
      "ber:\t0.0\n",
      "mse:\t0.18013398349285126\n"
     ]
    },
    {
     "data": {
      "image/png": "[encoded data removed]",
      "text/plain": [
       "<Figure size 432x288 with 1 Axes>"
      ]
     },
     "metadata": {
      "needs_background": "light"
     },
     "output_type": "display_data"
    }
   ],
   "source": [
    "for p in res.parameters():\n",
    "    print(p)\n",
    "\n",
    "with pt.Environment(t=t):\n",
    "    vadet = res(source=vastream.rename(\"t\", \"b\"))[:,0,0,:]\n",
    "    ber_err = ber(vadet, vatarget, threshold=float((0.5-bias)/scale))\n",
    "    mse_err = mse(scale*vadet+bias, vatarget)\n",
    "\n",
    "    print(f\"ber:\\t{ber_err}\")\n",
    "    print(f\"mse:\\t{mse_err.item()}\")\n",
    "\n",
    "    mse.plot(vadet)\n",
    "    mse.plot(vatarget, latency=0.0)\n",
    "    plt.xlim(0,30)\n",
    "    plt.xlabel(\"t [ns]\")\n",
    "    plt.show()"
   ]
  },
  {
   "cell_type": "markdown",
   "id": "reported-south",
   "metadata": {},
   "source": [
    "#Export to be plotted in MATLAB\n",
    "\n",
    "#vadet = vadet.numpy()\n",
    "det_data = pd.DataFrame(vadet)\n",
    "det_data.to_csv('det.csv')\n",
    "\n",
    "#vatarget = vatarget.numpy()\n",
    "target_data = pd.DataFrame(vatarget)\n",
    "target_data.to_csv('target.csv')"
   ]
  },
  {
   "cell_type": "markdown",
   "id": "nuclear-surfing",
   "metadata": {},
   "source": [
    "#Export to be plotted in MATLAB\n",
    "\n",
    "#vadet = vadet.numpy()\n",
    "det_data = pd.DataFrame(vadet)\n",
    "det_data.to_csv('det1.csv')\n",
    "\n",
    "#vatarget = vatarget.numpy()\n",
    "target_data = pd.DataFrame(vatarget)\n",
    "target_data.to_csv('target1.csv')"
   ]
  }
 ],
 "metadata": {
  "kernelspec": {
   "display_name": "Python 3",
   "language": "python",
   "name": "python3"
  },
  "language_info": {
   "codemirror_mode": {
    "name": "ipython",
    "version": 3
   },
   "file_extension": ".py",
   "mimetype": "text/x-python",
   "name": "python",
   "nbconvert_exporter": "python",
   "pygments_lexer": "ipython3",
   "version": "3.8.5"
  }
 },
 "nbformat": 4,
 "nbformat_minor": 5
}
