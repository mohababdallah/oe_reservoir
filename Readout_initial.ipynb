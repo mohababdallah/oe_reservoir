{
 "cells": [
  {
   "cell_type": "code",
   "execution_count": 85,
   "id": "classical-depression",
   "metadata": {},
   "outputs": [],
   "source": [
    "#import sys\n",
    "#sys.path.append('C:\\\\Users\\\\mabdalla\\\\OneDrive - ec-lyon.fr\\\\Documents\\\\Python Scripts\\\\packages')\n",
    "import torch\n",
    "import numpy as np\n",
    "import photontorch as pt\n",
    "from photontorch.environment import current_environment\n",
    "import matplotlib.pyplot as plt\n",
    "from scipy.signal import butter#, lfilter\n",
    "#from torch_lfilter import lfilter\n",
    "import pandas as pd\n",
    "from photontorch import BoundedParameter\n",
    "from ipywidgets import interact\n",
    "from tqdm.notebook import trange"
   ]
  },
  {
   "cell_type": "markdown",
   "id": "acceptable-wagner",
   "metadata": {},
   "source": [
    "### Components: PD, MZ Intensity Modulator, Electronic combiner, Optical Attenuator, Readout, CW Laser"
   ]
  },
  {
   "cell_type": "code",
   "execution_count": 86,
   "id": "spectacular-array",
   "metadata": {},
   "outputs": [],
   "source": [
    "class PD(pt.Component):\n",
    "    \"\"\"\n",
    "    A photodector which acts instantaneously on the input optical power,\n",
    "    converting it to current according to the input wavelength-independendt responsivity.\n",
    "    Note: At R=1, this is the equivalent component of the built-in detector term.\n",
    "    An optional Resistance can be added to output a voltage instead, to model a simple TIA operating at DC.\n",
    "\n",
    "    Terms: \n",
    "        0 ---- 1 \n",
    "    \n",
    "    \"\"\"    \n",
    "    num_ports = 2\n",
    "    \n",
    "    def __init__(\n",
    "        self,\n",
    "        R = 1, #Responsivity\n",
    "        Z = 1, #TIA Impedence (Resistance)\n",
    "        name = None,  \n",
    "        ):\n",
    "        \n",
    "        super(PD,self).__init__(name=name)    \n",
    "        self.R = float(R)\n",
    "        self.Z = float(Z)\n",
    "        \n",
    "    def action(self, t, x_in, x_out):\n",
    "        \n",
    "        a_in, _ = x_in\n",
    "\n",
    "        x_out[0] = a_in  #Nothing happens to input node\n",
    "        \n",
    "        \n",
    "        x_out[1,0] = self.R*self.Z*(a_in[0]**2+a_in[1]**2)  #PD Equation\n",
    "        \n",
    "        x_out[1,1] = 0  #lose the phase information\n",
    "        \n",
    "        #print(x_out[1,0])  #for debugging\n",
    "        \n",
    "    def set_actions_at(self, actions_at):\n",
    "        actions_at[:] = 1\n",
    "        \n",
    "    def set_S(self, S):\n",
    "        S[0,:,0,0] = 1.0\n",
    "        S[0,:,1,1] = 1.0\n",
    "        return S"
   ]
  },
  {
   "cell_type": "code",
   "execution_count": 87,
   "id": "assumed-necessity",
   "metadata": {},
   "outputs": [],
   "source": [
    "class mzm(pt.Component):\n",
    "    \"\"\"\n",
    "    This is a 3 port implementation of symmetric mzm-based (equal arm-lengths) Intensity modulator. \n",
    "    An input voltage adds a phase to the phase induced by one of the arms.\n",
    "    Note: This implementation assumes it will be connected to a direct optical source.\n",
    "\n",
    "    Terms: \n",
    "  Optical  0 ----- 2  Optical\n",
    "               |\n",
    "               |\n",
    "               1 \n",
    "           Electrical\n",
    "    \n",
    "    \"\"\"    \n",
    "    num_ports = 3\n",
    "    \n",
    "    def __init__(\n",
    "        self,\n",
    "        trainable = False,\n",
    "        vpi = 3.0, #Voltage to acquire Pi phase shift\n",
    "        bias=0.0, #Input bias phase \n",
    "        neff = 2.34, #effective index\n",
    "        ng = 3.40, #group index\n",
    "        wl0 = 1.55e-6, #wavelength for defined neff\n",
    "        length = 1.5e-9, #waveguide length (m)\n",
    "        loss = 0, #The loss would be both Y-jun loss + both waveguide losses\n",
    "        name = None,  \n",
    "        ):\n",
    "        \n",
    "        super(mzm,self).__init__(name=name)    \n",
    "        self.vpi = float(vpi)\n",
    "        self.neff = float(neff)\n",
    "        self.ng = float(ng)\n",
    "        self.length = float(length)\n",
    "        self.loss = float(loss)\n",
    "        self.wl0 = float(wl0)\n",
    "        if trainable:\n",
    "            self.bias = BoundedParameter(\n",
    "            data=torch.tensor(bias, device=self.device),\n",
    "            bounds=(0.0, 2*np.pi),\n",
    "            requires_grad=True,\n",
    "            )\n",
    "        else:\n",
    "            self.bias = pt.Buffer(\n",
    "            data=torch.tensor(bias, device=self.device), requires_grad=False\n",
    "            )\n",
    "    #def set_delays(self,delays):\n",
    "        #delays[:] = self.ng * self.length/self.env.c\n",
    "        \n",
    "    def action(self, t, x_in, x_out):\n",
    "        \n",
    "        a_in, v_in, _ = x_in     #Port0: input optical amplitude, Port1: input Voltage, Port2: O/p node (no need to store)\n",
    "        \n",
    "        v = v_in[0]  #The 'real' part of voltage signal \n",
    "        #print(a_in)  #for debugging\n",
    "        \n",
    "        x_out[0] = a_in  #Nothing happens to optical input node\n",
    "        \n",
    "        x_out[1] = v_in #Nothing happens to electrical input port\n",
    "        \n",
    "        wls = torch.tensor(self.env.wl, dtype=torch.float64, device=self.device)\n",
    "\n",
    "        # neff depends on the wavelength:\n",
    "        neff = self.neff - (wls - self.wl0) * (self.ng - self.neff) / self.wl0\n",
    "        \n",
    "        phase = (2 * np.pi * neff * self.length / wls) # Phase due to waveguide propagation \n",
    "        \n",
    "        Ei = torch.sqrt(a_in[0]**2 + a_in[1]**2) #Input amplitude\n",
    "\n",
    "        mzm_eq_re = 0.5 * Ei * (torch.cos(phase) + torch.cos(phase + np.pi * (v / self.vpi)+ self.bias))  #Real\n",
    "        mzm_eq_im = 0.5 * Ei * (torch.sin(phase) + torch.sin(phase + np.pi * (v / self.vpi)+ self.bias)) #Imaginary\n",
    "        \n",
    "        x_out[2,0] = mzm_eq_re  \n",
    "        x_out[2,1] = mzm_eq_im\n",
    "        \n",
    "        #print(x_out[2])  #for debugging\n",
    "        \n",
    "    def set_actions_at(self, actions_at):\n",
    "        actions_at[:] = 1  #Actions must be defined for all ports in active devices\n",
    "        \n",
    "    def set_S(self, S):\n",
    "        S[0,:,0,0] = 1.0\n",
    "        S[0,:,1,1] = 1.0\n",
    "        S[0,:,2,2] = 1.0\n",
    "        return S"
   ]
  },
  {
   "cell_type": "code",
   "execution_count": 88,
   "id": "complicated-salmon",
   "metadata": {},
   "outputs": [],
   "source": [
    "class attenuator(pt.Component):\n",
    "    \"\"\"\n",
    "    The optical attenuator is a 2 port component that attenuates the signal. It is bounded from 0 to 1.\n",
    "    The attenuation is trainable.\n",
    "    \n",
    "    Terms: \n",
    "    Optical  0 ----- 1  Optical\n",
    "            \n",
    "    \"\"\"      \n",
    "    num_ports = 2\n",
    "    \n",
    "    def __init__(\n",
    "    self,\n",
    "    trainable = True,\n",
    "    attenuation = 0.0,\n",
    "    name=None,\n",
    "    ): \n",
    "        #self.attenuation = float(attenuation)\n",
    "        super(attenuator, self).__init__(name=name)\n",
    "        if trainable:\n",
    "            self.attenuation = BoundedParameter(\n",
    "            data=torch.tensor(attenuation, device=self.device),\n",
    "            bounds=(0.0, 1.0),\n",
    "            requires_grad=True,\n",
    "            )\n",
    "        else:\n",
    "            self.attenuation = Buffer(\n",
    "            data=torch.tensor(attenuation, device=self.device), requires_grad=False\n",
    "            )\n",
    "    \n",
    "    def set_S(self, S):\n",
    "        S[0,:,0,1] = S[0,:,1,0] = (1.0-self.attenuation) ** 0.5\n",
    "\n",
    "        return S"
   ]
  },
  {
   "cell_type": "code",
   "execution_count": 89,
   "id": "interim-airline",
   "metadata": {},
   "outputs": [],
   "source": [
    "class combiner(pt.Component):\n",
    "    \"\"\"\n",
    "    The electronic combiner is a 3 port component that linearly combines 2 signals then multiplies both by a gain factor.\n",
    "    The gain is trainable. Note: The circuit is not symmetric.\n",
    "    Note: The signals entering the i/p ports must be real (Electrical)\n",
    "    \n",
    "    Terms: \n",
    "  Electrical i/p  0 ----- 2  Electrical o/p\n",
    "                      |\n",
    "                      |\n",
    "                      1 \n",
    "                 Electrical i/p\n",
    "            \n",
    "    \"\"\"      \n",
    "    num_ports = 3\n",
    "    \n",
    "    def __init__(\n",
    "    self,\n",
    "    trainable = True,\n",
    "    gain = 1.0,\n",
    "    name=None,\n",
    "    ): \n",
    "        super(combiner, self).__init__(name=name)\n",
    "        if trainable:\n",
    "            self.gain = BoundedParameter(\n",
    "            data=torch.tensor(gain, device=self.device),\n",
    "            bounds=(1.0, 30.0),\n",
    "            requires_grad=True,\n",
    "            )\n",
    "        else:\n",
    "            self.gain = Buffer(\n",
    "            data=torch.tensor(gain, device=self.device), requires_grad=False\n",
    "            )\n",
    "    \n",
    "    def set_S(self, S):\n",
    "        S[0,:,2,0] = S[0,:,2,1] = self.gain ** 0.5\n",
    "        return S"
   ]
  },
  {
   "cell_type": "code",
   "execution_count": 90,
   "id": "violent-plate",
   "metadata": {},
   "outputs": [],
   "source": [
    "class readout(pt.Component):\n",
    "    \"\"\"\n",
    "    This component contains the readout weights, which is trainable. Depending on the number of nodes N in the reservoir,\n",
    "    the output, which is an weighted sum of every N timesteps, is sampled once every N timesteps (i.e. every discrete \n",
    "    timestep of the system). This output is the expected value predicted by the reservoir.\n",
    "\n",
    "\n",
    "    Terms: \n",
    "        0 ---- 1 \n",
    "    \n",
    "    \"\"\"    \n",
    "    num_ports = 2\n",
    "    \n",
    "    def __init__(\n",
    "        self,\n",
    "        N = 10, \n",
    "        samples = 10,\n",
    "        weights = torch.rand(10, dtype=torch.float64),\n",
    "        trainable = False,\n",
    "        name = None,  \n",
    "        ):\n",
    "                \n",
    "        super(readout,self).__init__(name=name) \n",
    "        self.N = float(N)                   #Number of virtual nodes\n",
    "        self.samples = float(samples)       #Number of total samples in simulation -- This corresponds to each sample from each virtual node (if sim timestep corresponds to virtual node spacing)\n",
    "        self.counter = int()                #To count for every discrete timestep\n",
    "        self.index = int()                  #To access the weight matrix\n",
    "        self.y_hat_stored = float()         #Linear combination of previous reservoir state\n",
    "        self.y_hat = float()                #Linear combination of current reservoir state (Predicted Value)\n",
    "        \n",
    "        if trainable:\n",
    "            self.weights = BoundedParameter(\n",
    "            data=torch.tensor(weights, device=self.device),\n",
    "            bounds=(0.0, 1.0),\n",
    "            requires_grad=True,\n",
    "            )\n",
    "        else:\n",
    "            self.weights = pt.Buffer(\n",
    "            data=torch.tensor(weights, device=self.device), requires_grad=False\n",
    "            )        \n",
    "        \n",
    "        \n",
    "    def action(self, t, x_in, x_out):\n",
    "            \n",
    "        #Input port actions\n",
    "        a_in, _ = x_in\n",
    "        x_out[0] = a_in  #Nothing happens to input node\n",
    "        \n",
    "        #Initialization\n",
    "        if t == 0:\n",
    "            self.counter = -1  \n",
    "            self.index = -1\n",
    "            self.y_hat_stored=0\n",
    "            self.y_hat = 0\n",
    "\n",
    "        #Updates\n",
    "        self.counter = self.counter + 1\n",
    "        self.index = self.index + 1 \n",
    "        self.y_hat = self.y_hat + (a_in*self.weights[self.index])  #Weighted linear Combination of states of virtual nodes\n",
    "\n",
    "        if self.counter == self.N - 1:\n",
    "            self.y_hat_stored = self.y_hat\n",
    "            self.y_hat = 0\n",
    "            self.counter = -1\n",
    "\n",
    "        x_out[1] = self.y_hat_stored\n",
    "        \n",
    "    def set_actions_at(self, actions_at):\n",
    "        actions_at[:] = 1\n",
    "        \n",
    "    def set_S(self, S):\n",
    "        S[0,:,0,0] = 1.0\n",
    "        S[0,:,1,1] = 1.0\n",
    "        return S\n",
    "    \n",
    "    \"\"\"\n",
    "    For Testing only:\n",
    "    \n",
    "    #print(self.counter)        \n",
    "    #print(self.y_hat_stored)\n",
    "    #print(self.index)\n",
    "    \n",
    "    \"\"\"\n",
    "    "
   ]
  },
  {
   "cell_type": "raw",
   "id": "realistic-health",
   "metadata": {},
   "source": [
    "seed = np.random.seed(12)\n",
    "seed_tensor = torch.manual_seed(10)\n",
    "np.random.rand(10)\n",
    "mohab=torch.rand(10)\n",
    "mohab.clone().detach()"
   ]
  },
  {
   "cell_type": "raw",
   "id": "nuclear-cover",
   "metadata": {},
   "source": [
    "class test_readout(pt.Network):\n",
    "    def __init__(self,N=10, samples=1000, weights = torch.rand(1000, dtype=torch.float64)):\n",
    "        super(test_readout,self).__init__()\n",
    "        self.src = pt.Source()\n",
    "        self.det = pt.Detector()\n",
    "        self.r_out = readout(N=N, samples=samples, weights=weights,trainable=True)\n",
    "        self.link(\"src:0\", \"0:r_out:1\", \"0:det\")\n",
    "        \n",
    "print(torch.where(test_readout().free_ports_at)[0]) \n",
    "\n",
    "time_env = pt.Environment(dt=1e-9, t1=1e-6, wl=1.55e-6)\n",
    "\n",
    "circuit = test_readout()\n",
    "\n",
    "with time_env:\n",
    "    detected = circuit(source=1)\n",
    "    circuit.plot(detected)"
   ]
  },
  {
   "cell_type": "code",
   "execution_count": 92,
   "id": "crucial-lender",
   "metadata": {},
   "outputs": [],
   "source": [
    "class cw_laser(pt.Component):\n",
    "    \"\"\"\n",
    "    A CW Laser used when multiple sources are desired in a network. Note: When linking, terminate the component's \n",
    "    0 port.\n",
    "\n",
    "    Terms: \n",
    "        0 ---- 1 \n",
    "    \n",
    "    \"\"\"    \n",
    "    num_ports = 2\n",
    "    \n",
    "    def __init__(\n",
    "        self,\n",
    "        Power = 1,  #Input the laser power here\n",
    "        delay=0,\n",
    "        name = None,  \n",
    "        ):\n",
    "        \n",
    "        super(cw_laser,self).__init__(name=name) \n",
    "        self.Power = float(Power)\n",
    "        self.delay = float(delay)\n",
    "            \n",
    "    def action(self, t, x_in, x_out):\n",
    "        \n",
    "        if t<self.delay:\n",
    "            x_out[1,0] = 0.0001  #Zero noise floor\n",
    "        else:\n",
    "            x_out[1,0] = self.Power ** 0.5\n",
    "        \n",
    "        x_out[1,1] = 0  #no phase information, this is a real source\n",
    "        \n",
    "        #print(x_out[1,0])  #for debugging\n",
    "        \n",
    "    def set_actions_at(self, actions_at):\n",
    "        actions_at[:] = 1\n",
    "        \n",
    "    def set_S(self, S):\n",
    "        S[0,:,0,0] = 1.0\n",
    "        S[0,:,1,1] = 1.0\n",
    "        return S"
   ]
  },
  {
   "cell_type": "markdown",
   "id": "declared-multiple",
   "metadata": {},
   "source": [
    "### Optoelectronic reservoir"
   ]
  },
  {
   "cell_type": "code",
   "execution_count": 95,
   "id": "developmental-patrol",
   "metadata": {},
   "outputs": [
    {
     "name": "stdout",
     "output_type": "stream",
     "text": [
      "Buffer containing:\n",
      "tensor([], dtype=torch.int64)\n"
     ]
    },
    {
     "name": "stderr",
     "output_type": "stream",
     "text": [
      "<ipython-input-90-94476455c1a6>:31: UserWarning: To copy construct from a tensor, it is recommended to use sourceTensor.clone().detach() or sourceTensor.clone().detach().requires_grad_(True), rather than torch.tensor(sourceTensor).\n",
      "  data=torch.tensor(weights, device=self.device),\n"
     ]
    }
   ],
   "source": [
    "class oe_reservoir(pt.Network):\n",
    "    def __init__(self,gain=3, las_pow = 1, attenuation=0.3, wg_delay=0.1e-9, wg_ng=2.6734, nodes=10, samples=1000, weights = torch.rand(10, dtype=torch.float64)):\n",
    "        super(oe_reservoir, self).__init__()\n",
    "        self.src = pt.Source()\n",
    "        self.det = pt.Detector()\n",
    "        self.pd = PD(Z=1)\n",
    "        self.comb = combiner(gain=np.random.uniform(low=1.0,high=30.0), trainable = True)\n",
    "        self.att = attenuator(attenuation=0.999, trainable = True) #np.random.uniform(low=0.0,high=1.0)\n",
    "        self.laser = cw_laser(Power=las_pow, delay=0) #0.15e-9\n",
    "        self.term = pt.Term()\n",
    "        self.mmi = pt.Mmi(trainable=False)\n",
    "        self.wg = pt.Waveguide(ng=wg_ng,length=299792458*wg_delay/wg_ng, trainable = False)\n",
    "        self.mzm = mzm()\n",
    "        self.readout = readout(N=nodes, samples=samples, weights=weights, trainable=True)\n",
    "        self.link(\"term:0\",\"0:laser:1\", \"0:mzm:2\", \"0:mmi:1\", \"0:att:1\", \"0:wg:1\", \"0:pd:1\", \"0:comb:2\", \"1:mzm\")\n",
    "        self.link(\"mmi:2\", \"0:readout:1\", \"0:det\")\n",
    "        self.link(\"src:0\",\"1:comb\")\n",
    "print(torch.where(oe_reservoir().free_ports_at)[0]) \n",
    "\n",
    "#299792458*0.1e-9/2.6734"
   ]
  },
  {
   "cell_type": "code",
   "execution_count": 96,
   "id": "revised-firmware",
   "metadata": {},
   "outputs": [
    {
     "name": "stderr",
     "output_type": "stream",
     "text": [
      "<ipython-input-90-94476455c1a6>:31: UserWarning: To copy construct from a tensor, it is recommended to use sourceTensor.clone().detach() or sourceTensor.clone().detach().requires_grad_(True), rather than torch.tensor(sourceTensor).\n",
      "  data=torch.tensor(weights, device=self.device),\n"
     ]
    },
    {
     "data": {
      "image/png": "[encoded data removed]",
      "text/plain": [
       "<Figure size 432x288 with 1 Axes>"
      ]
     },
     "metadata": {
      "needs_background": "light"
     },
     "output_type": "display_data"
    }
   ],
   "source": [
    "#Reservoir Parameters\n",
    "wg_delay = 0.1e-9  #Delay line, it automatically controls the waveguide length (Along with group index below)\n",
    "ng = 2.6734  #To use the parameters of LNOI\n",
    "gain = 5 #feedback gain\n",
    "att = 0.4  #optical attenuator\n",
    "las_pow = 1 #Laser Power\n",
    "\n",
    "#Simulation parameters\n",
    "N = 10                                             #no. of 'virtual' nodes in the reservoir\n",
    "sim_time = 10e-9                                   #Simulation time [s]\n",
    "dt = wg_delay/N                                    #timestep [s] - also the virtual node distance\n",
    "samples = np.int(np.ceil(sim_time/dt))             #Number of samples from the reservoir\n",
    "weights = torch.rand(samples, dtype=torch.float64) #Initialized Weights\n",
    "wl = 1.55e-6                                       #Center Wavelength [m]\n",
    "\n",
    "Reservoir = oe_reservoir(gain=gain, las_pow=las_pow, attenuation=att, wg_delay=wg_delay, wg_ng=ng, nodes=N,samples=samples, weights=weights)\n",
    "\n",
    "time_env = pt.Environment(dt=dt, t1=sim_time, wl=wl)\n",
    "\n",
    "#for p in Reservoir.parameters():\n",
    "    #print(p)\n",
    "    \n",
    "with time_env:\n",
    "    detected = Reservoir(source=1)  ###Write the desired input Power value here\n",
    "    Reservoir.plot(detected)\n",
    "    plt.show()"
   ]
  },
  {
   "cell_type": "markdown",
   "id": "owned-fellow",
   "metadata": {},
   "source": [
    "# We now proceed to train the circuit for XOR with 2 subsequent bits"
   ]
  },
  {
   "cell_type": "code",
   "execution_count": 98,
   "id": "fallen-organic",
   "metadata": {},
   "outputs": [],
   "source": [
    "class BitGenerator(np.random.RandomState):\n",
    "    def __call__(self, N, B=1):\n",
    "        \"\"\" generate a bit sequence\n",
    "\n",
    "        Args:\n",
    "            N: number of bits per sequence\n",
    "            B: number of sequences in batch\n",
    "        \"\"\"\n",
    "        bits = self.rand(N,B) > 0.5\n",
    "        return bits"
   ]
  },
  {
   "cell_type": "code",
   "execution_count": 99,
   "id": "covered-antenna",
   "metadata": {},
   "outputs": [],
   "source": [
    "def COPY(bits):\n",
    "    return bits.copy()\n",
    "def XOR(bits):\n",
    "    XOR_res = (np.concatenate([bits, np.zeros_like(bits[-1:])], 0) ^ np.concatenate([np.zeros_like(bits[:1]), bits], 0))[:-1]\n",
    "    return np.invert(XOR_res)\n",
    "def AND(bits):\n",
    "    return (np.concatenate([bits, np.zeros_like(bits[-1:])], 0) & np.concatenate([np.zeros_like(bits[:1]), bits], 0))[:-1]\n",
    "\n",
    "TARGET = XOR\n",
    "#TARGET(bits)"
   ]
  },
  {
   "cell_type": "code",
   "execution_count": 100,
   "id": "measured-latin",
   "metadata": {},
   "outputs": [
    {
     "name": "stdout",
     "output_type": "stream",
     "text": [
      "0.11213902072267526\n"
     ]
    },
    {
     "name": "stderr",
     "output_type": "stream",
     "text": [
      "<ipython-input-90-94476455c1a6>:31: UserWarning: To copy construct from a tensor, it is recommended to use sourceTensor.clone().detach() or sourceTensor.clone().detach().requires_grad_(True), rather than torch.tensor(sourceTensor).\n",
      "  data=torch.tensor(weights, device=self.device),\n"
     ]
    }
   ],
   "source": [
    "#General Parameters\n",
    "c = 299792458.0 #[m/s] speed of light\n",
    "Rb = 1e9 #[1/s] bitrate\n",
    "Rs = 50e9 #[1/s] samplerate  e9 originally\n",
    "fc = 1e9 #[1/s] cutoff frequency for bit generation\n",
    "wl0 = 1550e-9 #[m] center wavelength\n",
    "neff = 2.34 #[1] effective index\n",
    "ng = 2.6734 #[1] group index\n",
    "N = 100 #[1] number of bits per bit stream\n",
    "B = 10 #[1] number of bit streams in training batch\n",
    "Str, Sva, Ste = (1, 2, 3) #[1] train seed, validation seed, test seed\n",
    "Lr = (1/Rb) * (c/ng) #[m] reference length (distance the bit travels during one bit period)\n",
    "device = torch.device(\"cpu\") # default device used\n",
    "torch.set_default_dtype(torch.float32) # default dtype used\n",
    "torch.manual_seed(123) # pytorch seed\n",
    "np.random.seed(42) # numpy seed\n",
    "print(Lr)\n",
    "\n",
    "#Reservoir Parameters\n",
    "wg_delay = 0.1e-9  #Delay line, it automatically controls the waveguide length (Along with group index below)\n",
    "ng = 2.6734  #To use the parameters of LNOI\n",
    "gain = 5 #feedback gain\n",
    "att = 0.4  #optical attenuator\n",
    "las_pow = 1 #Laser Power\n",
    "N = 10                                             #no. of 'virtual' nodes in the reservoir\n",
    "sim_time = 10e-9                                   #Simulation time [s]\n",
    "dt = wg_delay/N                                    #timestep [s] - also the virtual node distance\n",
    "samples = np.int(np.ceil(sim_time/dt))             #Number of samples from the reservoir\n",
    "weights = torch.rand(samples, dtype=torch.float64) #Initialized Weights\n",
    "wl = 1.55e-6                                       #Center Wavelength [m]\n",
    "\n",
    "Reservoir = oe_reservoir(gain=gain, las_pow=las_pow, attenuation=att, wg_delay=wg_delay, wg_ng=ng, nodes=N,samples=samples, weights=weights)"
   ]
  },
  {
   "cell_type": "code",
   "execution_count": 101,
   "id": "informed-feature",
   "metadata": {},
   "outputs": [
    {
     "data": {
      "image/png": "[encoded data removed]",
      "text/plain": [
       "<Figure size 432x288 with 1 Axes>"
      ]
     },
     "metadata": {
      "needs_background": "light"
     },
     "output_type": "display_data"
    }
   ],
   "source": [
    "bits = BitGenerator(seed=23)(10)\n",
    "streamgen = pt.BitStreamGenerator(bitrate=Rb, samplerate=Rs, cutoff_frequency=fc, device=device)\n",
    "stream = streamgen(bits)\n",
    "target = streamgen(TARGET(bits))\n",
    "t = np.arange(stream.shape[0])*(1/Rs)\n",
    "plt.plot(1e9*t, stream.data.cpu().numpy())\n",
    "plt.plot(1e9*t, target.data.cpu().numpy())\n",
    "plt.xlabel(\"t [ns]\")\n",
    "plt.show()\n",
    "#streamgen(TARGET(bits))"
   ]
  },
  {
   "cell_type": "code",
   "execution_count": 102,
   "id": "miniature-substitute",
   "metadata": {},
   "outputs": [],
   "source": [
    "# train streams\n",
    "trbits = BitGenerator(seed=Str)(N, B) # N bits per train stream, B train streams per batch.\n",
    "trstream = streamgen(trbits)\n",
    "trtarget = streamgen(TARGET(trbits))**2\n",
    "t = np.arange(trstream.shape[0])*(1/Rs)\n",
    "#print(t)\n",
    "# validation streams\n",
    "vabits = BitGenerator(seed=Sva)(N, 1) # N bits per validation stream, 1 validation stream per batch.\n",
    "vastream = streamgen(vabits)\n",
    "vatarget = streamgen(TARGET(vabits))**2\n",
    "\n",
    "# test streams\n",
    "tebits = BitGenerator(seed=Ste)(N*B, 1) # N*B bits per teststream\n",
    "testream = streamgen(tebits)\n",
    "tetarget = streamgen(TARGET(tebits))**2"
   ]
  },
  {
   "cell_type": "code",
   "execution_count": 104,
   "id": "precise-hepatitis",
   "metadata": {},
   "outputs": [
    {
     "data": {
      "image/png": "[encoded data removed]",
      "text/plain": [
       "<Figure size 432x288 with 1 Axes>"
      ]
     },
     "metadata": {
      "needs_background": "light"
     },
     "output_type": "display_data"
    }
   ],
   "source": [
    "with pt.Environment(t=t):\n",
    "    detected = Reservoir(source=vastream.rename(\"t\", \"b\"))[:,0,0,:] # lower dimensional sources should have named dimensions\n",
    "    Reservoir.plot(detected)\n",
    "    plt.show()"
   ]
  },
  {
   "cell_type": "code",
   "execution_count": 106,
   "id": "polar-capability",
   "metadata": {},
   "outputs": [
    {
     "data": {
      "application/vnd.jupyter.widget-view+json": {
       "model_id": "21adafb16ae4476a8a19f6b60fc8c4d0",
       "version_major": 2,
       "version_minor": 0
      },
      "text/plain": [
       "interactive(children=(FloatSlider(value=1.0, description='latency', max=3.0, step=0.5), Output()), _dom_classe…"
      ]
     },
     "metadata": {},
     "output_type": "display_data"
    }
   ],
   "source": [
    "with pt.Environment(t=t):\n",
    "    detected = Reservoir(source=vastream.rename(\"t\", \"b\"))[:,0,0,:] # lower dimensional sources should have named dimensions\n",
    "\n",
    "mse = pt.MSELoss(latency=0.0, warmup=0.0, bitrate=Rb, samplerate=Rs)\n",
    "@interact(latency=(0,3,0.5))\n",
    "def _(latency=1.0):\n",
    "    mse.plot(vastream, label=\"input\")\n",
    "    mse.plot(vatarget, label=\"target\")\n",
    "    mse.plot(detected, latency=latency, label=\"detected\")\n",
    "    plt.legend()\n",
    "    plt.xlim(0,10)\n",
    "    plt.show()"
   ]
  },
  {
   "cell_type": "code",
   "execution_count": 107,
   "id": "determined-japanese",
   "metadata": {},
   "outputs": [],
   "source": [
    "mse = pt.MSELoss(latency=0.0, warmup=0.0, bitrate=Rb, samplerate=Rs)\n",
    "ber = pt.BERLoss(latency=0.0, threshold=0.5, warmup=0.0, bitrate=Rb, samplerate=Rs)"
   ]
  },
  {
   "cell_type": "code",
   "execution_count": 112,
   "id": "digital-justice",
   "metadata": {},
   "outputs": [
    {
     "data": {
      "application/vnd.jupyter.widget-view+json": {
       "model_id": "03d4162fb8b142edac44943f07b67999",
       "version_major": 2,
       "version_minor": 0
      },
      "text/plain": [
       "  0%|          | 0/250 [00:00<?, ?it/s]"
      ]
     },
     "metadata": {},
     "output_type": "display_data"
    }
   ],
   "source": [
    "scale = torch.tensor(1.0, requires_grad=True)\n",
    "bias = torch.tensor(0.0, requires_grad=True)\n",
    "optim = torch.optim.Adam([scale, bias, *Reservoir.parameters()], lr=0.2)\n",
    "range_ = trange(250)\n",
    "with pt.Environment(t=t, enable_grad=True):\n",
    "    for i in range_:\n",
    "        optim.zero_grad()\n",
    "        trdet = Reservoir(source=trstream.rename(\"t\", \"b\"))[:,0,0,:]*scale + bias\n",
    "        loss = mse(trdet, trtarget)\n",
    "        loss.backward()\n",
    "        optim.step()\n",
    "        range_.set_postfix(loss=loss.item(), ber=ber(trdet, trtarget))"
   ]
  },
  {
   "cell_type": "code",
   "execution_count": 113,
   "id": "pressed-namibia",
   "metadata": {
    "scrolled": false
   },
   "outputs": [
    {
     "name": "stdout",
     "output_type": "stream",
     "text": [
      "ber:\t0.0\n",
      "mse:\t0.06666696071624756\n"
     ]
    },
    {
     "data": {
      "image/png": "[encoded data removed]",
      "text/plain": [
       "<Figure size 432x288 with 1 Axes>"
      ]
     },
     "metadata": {
      "needs_background": "light"
     },
     "output_type": "display_data"
    }
   ],
   "source": [
    "#for p in Reservoir.parameters():\n",
    " #   print(p)\n",
    "\n",
    "with pt.Environment(t=t):\n",
    "    vadet = Reservoir(source=vastream.rename(\"t\", \"b\"))[:,0,0,:]\n",
    "    ber_err = ber(vadet, vatarget, threshold=float((0.5-bias)/scale))\n",
    "    mse_err = mse(scale*vadet+bias, vatarget)\n",
    "\n",
    "    print(f\"ber:\\t{ber_err}\")\n",
    "    print(f\"mse:\\t{mse_err.item()}\")\n",
    "\n",
    "    mse.plot(vadet)\n",
    "    mse.plot(vatarget, latency=0.0)\n",
    "    plt.xlim(0,10)\n",
    "    plt.xlabel(\"t [ns]\")\n",
    "    plt.show()"
   ]
  },
  {
   "cell_type": "markdown",
   "id": "reported-south",
   "metadata": {},
   "source": [
    "#Export to be plotted in MATLAB\n",
    "\n",
    "#vadet = vadet.numpy()\n",
    "det_data = pd.DataFrame(vadet)\n",
    "det_data.to_csv('det.csv')\n",
    "\n",
    "#vatarget = vatarget.numpy()\n",
    "target_data = pd.DataFrame(vatarget)\n",
    "target_data.to_csv('target.csv')"
   ]
  },
  {
   "cell_type": "markdown",
   "id": "nuclear-surfing",
   "metadata": {},
   "source": [
    "#Export to be plotted in MATLAB\n",
    "\n",
    "#vadet = vadet.numpy()\n",
    "det_data = pd.DataFrame(vadet)\n",
    "det_data.to_csv('det1.csv')\n",
    "\n",
    "#vatarget = vatarget.numpy()\n",
    "target_data = pd.DataFrame(vatarget)\n",
    "target_data.to_csv('target1.csv')"
   ]
  }
 ],
 "metadata": {
  "kernelspec": {
   "display_name": "Python 3",
   "language": "python",
   "name": "python3"
  },
  "language_info": {
   "codemirror_mode": {
    "name": "ipython",
    "version": 3
   },
   "file_extension": ".py",
   "mimetype": "text/x-python",
   "name": "python",
   "nbconvert_exporter": "python",
   "pygments_lexer": "ipython3",
   "version": "3.8.5"
  }
 },
 "nbformat": 4,
 "nbformat_minor": 5
}
