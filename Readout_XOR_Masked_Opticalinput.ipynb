{
 "cells": [
  {
   "cell_type": "code",
   "execution_count": 1,
   "id": "classical-depression",
   "metadata": {},
   "outputs": [],
   "source": [
    "#import sys\n",
    "#sys.path.append('C:\\\\Users\\\\mabdalla\\\\OneDrive - ec-lyon.fr\\\\Documents\\\\Python Scripts\\\\packages')\n",
    "import torch\n",
    "import numpy as np\n",
    "import photontorch as pt\n",
    "from photontorch.environment import current_environment\n",
    "import matplotlib.pyplot as plt\n",
    "from scipy.signal import butter#, lfilter\n",
    "#from torch_lfilter import lfilter\n",
    "import pandas as pd\n",
    "from photontorch import BoundedParameter\n",
    "from ipywidgets import interact\n",
    "from tqdm.notebook import trange"
   ]
  },
  {
   "cell_type": "markdown",
   "id": "acceptable-wagner",
   "metadata": {},
   "source": [
    "### Components: PD, MZ Intensity Modulator, Electronic combiner, Optical Attenuator, Readout, CW Laser"
   ]
  },
  {
   "cell_type": "code",
   "execution_count": 2,
   "id": "spectacular-array",
   "metadata": {},
   "outputs": [],
   "source": [
    "class PD(pt.Component):\n",
    "    \"\"\"\n",
    "    A photodector which acts instantaneously on the input optical power,\n",
    "    converting it to current according to the input wavelength-independendt responsivity.\n",
    "    Note: At R=1, this is the equivalent component of the built-in detector term.\n",
    "    An optional Resistance can be added to output a voltage instead, to model a simple TIA operating at DC.\n",
    "\n",
    "    Terms: \n",
    "        0 ---- 1 \n",
    "    \n",
    "    \"\"\"    \n",
    "    num_ports = 2\n",
    "    \n",
    "    def __init__(\n",
    "        self,\n",
    "        R = 1, #Responsivity\n",
    "        Z = 1, #TIA Impedence (Resistance)\n",
    "        name = None,  \n",
    "        ):\n",
    "        \n",
    "        super(PD,self).__init__(name=name)    \n",
    "        self.R = float(R)\n",
    "        self.Z = float(Z)\n",
    "        \n",
    "    def action(self, t, x_in, x_out):\n",
    "        \n",
    "        a_in, _ = x_in\n",
    "\n",
    "        x_out[0] = a_in  #Nothing happens to input node\n",
    "        \n",
    "        \n",
    "        x_out[1,0] = self.R*self.Z*(a_in[0]**2+a_in[1]**2)  #PD Equation\n",
    "        \n",
    "        x_out[1,1] = 0  #lose the phase information\n",
    "        \n",
    "        #print(x_out[1,0])  #for debugging\n",
    "        \n",
    "    def set_actions_at(self, actions_at):\n",
    "        actions_at[:] = 1\n",
    "        \n",
    "    def set_S(self, S):\n",
    "        S[0,:,0,0] = 1.0\n",
    "        S[0,:,1,1] = 1.0\n",
    "        return S"
   ]
  },
  {
   "cell_type": "code",
   "execution_count": 3,
   "id": "assumed-necessity",
   "metadata": {},
   "outputs": [],
   "source": [
    "class mzm(pt.Component):\n",
    "    \"\"\"\n",
    "    This is a 3 port implementation of symmetric mzm-based (equal arm-lengths) Intensity modulator. \n",
    "    An input voltage adds a phase to the phase induced by one of the arms.\n",
    "    Note: This implementation assumes it will be connected to a direct optical source.\n",
    "\n",
    "    Terms: \n",
    "  Optical  0 ----- 2  Optical\n",
    "               |\n",
    "               |\n",
    "               1 \n",
    "           Electrical\n",
    "    \n",
    "    \"\"\"    \n",
    "    num_ports = 3\n",
    "    \n",
    "    def __init__(\n",
    "        self,\n",
    "        trainable = False,\n",
    "        vpi = 3.0, #Voltage to acquire Pi phase shift\n",
    "        bias=0.0, #Input bias phase \n",
    "        neff = 2.34, #effective index\n",
    "        ng = 3.40, #group index\n",
    "        wl0 = 1.55e-6, #wavelength for defined neff\n",
    "        length = 1.5e-9, #waveguide length (m)\n",
    "        loss = 0, #The loss would be both Y-jun loss + both waveguide losses\n",
    "        name = None,  \n",
    "        ):\n",
    "        \n",
    "        super(mzm,self).__init__(name=name)    \n",
    "        self.vpi = float(vpi)\n",
    "        self.neff = float(neff)\n",
    "        self.ng = float(ng)\n",
    "        self.length = float(length)\n",
    "        self.loss = float(loss)\n",
    "        self.wl0 = float(wl0)\n",
    "        if trainable:\n",
    "            self.bias = BoundedParameter(\n",
    "            data=torch.tensor(bias, device=self.device),\n",
    "            bounds=(0.0, 2*np.pi),\n",
    "            requires_grad=True,\n",
    "            )\n",
    "        else:\n",
    "            self.bias = pt.Buffer(\n",
    "            data=torch.tensor(bias, device=self.device), requires_grad=False\n",
    "            )\n",
    "    #def set_delays(self,delays):\n",
    "        #delays[:] = self.ng * self.length/self.env.c\n",
    "        \n",
    "    def action(self, t, x_in, x_out):\n",
    "        \n",
    "        a_in, v_in, _ = x_in     #Port0: input optical amplitude, Port1: input Voltage, Port2: O/p node (no need to store)\n",
    "        \n",
    "        v = v_in[0]  #The 'real' part of voltage signal \n",
    "        #print(a_in)  #for debugging\n",
    "        \n",
    "        x_out[0] = a_in  #Nothing happens to optical input node\n",
    "        \n",
    "        x_out[1] = v_in #Nothing happens to electrical input port\n",
    "        \n",
    "        wls = torch.tensor(self.env.wl, dtype=torch.float64, device=self.device)\n",
    "\n",
    "        # neff depends on the wavelength:\n",
    "        neff = self.neff - (wls - self.wl0) * (self.ng - self.neff) / self.wl0\n",
    "        \n",
    "        phase = (2 * np.pi * neff * self.length / wls) # Phase due to waveguide propagation \n",
    "        \n",
    "        #Ei = torch.sqrt(a_in[0]**2 + a_in[1]**2) #Input amplitude\n",
    "        Ei = a_in[0]                  # For Real Sources Only!\n",
    "        \n",
    "        mzm_eq_re = 0.5 * Ei * (torch.cos(phase) + torch.cos(phase + np.pi * (v / self.vpi)+ self.bias))  #Real\n",
    "        mzm_eq_im = 0.5 * Ei * (torch.sin(phase) + torch.sin(phase + np.pi * (v / self.vpi)+ self.bias)) #Imaginary\n",
    "        \n",
    "        x_out[2,0] = mzm_eq_re # + 0.001 For extinction ratio\n",
    "        x_out[2,1] = mzm_eq_im \n",
    "        \n",
    "        #print(x_out[2])  #for debugging\n",
    "        \n",
    "    def set_actions_at(self, actions_at):\n",
    "        actions_at[:] = 1  #Actions must be defined for all ports in active devices\n",
    "        \n",
    "    def set_S(self, S):\n",
    "        S[0,:,0,0] = 1.0\n",
    "        S[0,:,1,1] = 1.0\n",
    "        S[0,:,2,2] = 1.0\n",
    "        return S"
   ]
  },
  {
   "cell_type": "code",
   "execution_count": 4,
   "id": "complicated-salmon",
   "metadata": {},
   "outputs": [],
   "source": [
    "class attenuator(pt.Component):\n",
    "    \"\"\"\n",
    "    The optical attenuator is a 2 port component that attenuates the signal. It is bounded from 0 to 1.\n",
    "    The attenuation is trainable.\n",
    "    \n",
    "    Terms: \n",
    "    Optical  0 ----- 1  Optical\n",
    "            \n",
    "    \"\"\"      \n",
    "    num_ports = 2\n",
    "    \n",
    "    def __init__(\n",
    "    self,\n",
    "    trainable = True,\n",
    "    attenuation = 0.0,\n",
    "    name=None,\n",
    "    ): \n",
    "        #self.attenuation = float(attenuation)\n",
    "        super(attenuator, self).__init__(name=name)\n",
    "        if trainable:\n",
    "            self.attenuation = BoundedParameter(\n",
    "            data=torch.tensor(attenuation, device=self.device),\n",
    "            bounds=(0.0, 1.0),\n",
    "            requires_grad=True,\n",
    "            )\n",
    "        else:\n",
    "            self.attenuation = pt.Buffer(\n",
    "            data=torch.tensor(attenuation, device=self.device), requires_grad=False\n",
    "            )\n",
    "    \n",
    "    def set_S(self, S):\n",
    "        S[0,:,0,1] = S[0,:,1,0] = (1.0-self.attenuation) ** 0.5\n",
    "\n",
    "        return S"
   ]
  },
  {
   "cell_type": "code",
   "execution_count": 5,
   "id": "interim-airline",
   "metadata": {},
   "outputs": [],
   "source": [
    "class combiner(pt.Component):\n",
    "    \"\"\"\n",
    "    The electronic combiner is a 3 port component that linearly combines 2 signals then multiplies both by a gain factor.\n",
    "    The gain is trainable. Note: The circuit is not symmetric.\n",
    "    Note: The signals entering the i/p ports must be real (Electrical)\n",
    "    \n",
    "    Terms: \n",
    "  Electrical i/p  0 ----- 2  Electrical o/p\n",
    "                      |\n",
    "                      |\n",
    "                      1 \n",
    "                 Electrical i/p\n",
    "            \n",
    "    \"\"\"      \n",
    "    num_ports = 3\n",
    "    \n",
    "    def __init__(\n",
    "    self,\n",
    "    trainable = True,\n",
    "    gain = 1.0,\n",
    "    name=None,\n",
    "    ): \n",
    "        super(combiner, self).__init__(name=name)\n",
    "        if trainable:\n",
    "            self.gain = BoundedParameter(\n",
    "            data=torch.tensor(gain, device=self.device),\n",
    "            bounds=(1.0, 30.0),\n",
    "            requires_grad=True,\n",
    "            )\n",
    "        else:\n",
    "            self.gain = pt.Buffer(\n",
    "            data=torch.tensor(gain, device=self.device), requires_grad=False\n",
    "            )\n",
    "    \n",
    "    def set_S(self, S):\n",
    "        S[0,:,2,0] = S[0,:,2,1] = (self.gain ** 0.5) \n",
    "        return S"
   ]
  },
  {
   "cell_type": "code",
   "execution_count": 6,
   "id": "sealed-sender",
   "metadata": {},
   "outputs": [],
   "source": [
    "class nonlinear(pt.Component):\n",
    "    \"\"\"\n",
    "    The amplifier is a 2 port component that multiplies the incoming signal by a gain factor.\n",
    "    The gain is trainable. \n",
    "    Note: The signals entering the i/p ports must be real (Electrical)\n",
    "    \n",
    "    Terms: \n",
    "  Electrical i/p  0 ----- 2  Electrical o/p\n",
    "                      |\n",
    "                      |\n",
    "                      1 \n",
    "                 Electrical i/p\n",
    "            \n",
    "    \"\"\"      \n",
    "    num_ports = 3\n",
    "    \n",
    "    def __init__(\n",
    "    self,\n",
    "    trainable = True,\n",
    "    name=None,\n",
    "    ): \n",
    "        super(nonlinear, self).__init__(name=name)\n",
    "        \n",
    "    def action(self, t, x_in, x_out):\n",
    "        \n",
    "        a_in, v_in, _ = x_in     #Port0: input optical amplitude, Port1: input Voltage, Port2: O/p node (no need to store)\n",
    "        \n",
    "        x_out[0] = a_in\n",
    "        \n",
    "        x_out[1] = v_in\n",
    "        \n",
    "        x_out[2] = torch.sin(v_in[0]) + torch.sin(a_in)\n",
    "        \n",
    "    def set_actions_at(self, actions_at):\n",
    "        actions_at[:] = 1  #Actions must be defined for all ports in active devices\n",
    "        \n",
    "    def set_S(self, S):\n",
    "        S[0,:,0,0] = 1.0\n",
    "        S[0,:,1,1] = 1.0\n",
    "        S[0,:,2,2] = 1.0\n",
    "        return S"
   ]
  },
  {
   "cell_type": "code",
   "execution_count": 7,
   "id": "violent-plate",
   "metadata": {},
   "outputs": [],
   "source": [
    "class readout(pt.Component):\n",
    "    \"\"\"\n",
    "    This component contains the readout weights, which is trainable. Depending on the number of nodes N in the reservoir,\n",
    "    the output, which is an weighted sum of every N timesteps, is sampled once every N timesteps (i.e. every discrete \n",
    "    timestep of the system). This output is the expected value predicted by the reservoir.\n",
    "     \n",
    "    Note there is no value for node spacing. This was chosen for the simple solution of choosing sim timestep to be theta.\n",
    "\n",
    "\n",
    "    Terms: \n",
    "        0 ---- 1 \n",
    "    \n",
    "    \"\"\"    \n",
    "    num_ports = 2\n",
    "    \n",
    "    def __init__(\n",
    "        self,\n",
    "        N = 10,\n",
    "        weights = torch.rand(10, dtype=torch.float64),\n",
    "        trainable = False,\n",
    "        name = None,  \n",
    "        ):\n",
    "                \n",
    "        super(readout,self).__init__(name=name) \n",
    "        self.N = float(N)                   #Number of virtual nodes\n",
    "        self.counter = int()                #To count for every discrete timestep\n",
    "        self.index = int()                  #To access the weight matrix\n",
    "        self.y_hat_stored = float()         #Linear combination of previous reservoir state\n",
    "        self.y_hat = float()                #Linear combination of current reservoir state (Predicted Value)\n",
    "        \n",
    "        if trainable:\n",
    "            self.weights = BoundedParameter(\n",
    "            data=torch.tensor(weights, device=self.device),\n",
    "            bounds=(-5.0, 5.0),\n",
    "            requires_grad=True,\n",
    "            )\n",
    "        else:\n",
    "            self.weights = pt.Buffer(\n",
    "            data=torch.tensor(weights, device=self.device), requires_grad=False\n",
    "            )        \n",
    "        \n",
    "        \n",
    "    def action(self, t, x_in, x_out):\n",
    "            \n",
    "        #Input port actions\n",
    "        a_in, _ = x_in\n",
    "        x_out[0] = a_in  #Nothing happens to input node\n",
    "        \n",
    "        #Initialization\n",
    "        if t == 0:\n",
    "            self.counter = -1  \n",
    "            self.index = -1\n",
    "            self.y_hat_stored=0\n",
    "            self.y_hat = 0\n",
    "\n",
    "        #Updates\n",
    "        self.counter = self.counter + 1\n",
    "        self.index = self.index + 1 \n",
    "        self.y_hat = self.y_hat + (a_in*self.weights[self.index])  #Weighted linear Combination of states of virtual nodes\n",
    "\n",
    "        if self.counter == self.N - 1:\n",
    "            self.y_hat_stored = self.y_hat\n",
    "            self.y_hat = 0\n",
    "            self.counter = -1\n",
    "\n",
    "        x_out[1] = self.y_hat_stored\n",
    "        \n",
    "    def set_actions_at(self, actions_at):\n",
    "        actions_at[:] = 1\n",
    "        \n",
    "    def set_S(self, S):\n",
    "        S[0,:,0,0] = 1.0\n",
    "        S[0,:,1,1] = 1.0\n",
    "        return S\n",
    "    \n",
    "    \"\"\"\n",
    "    For Testing only:\n",
    "    \n",
    "    #print(self.counter)        \n",
    "    #print(self.y_hat_stored)\n",
    "    #print(self.index)\n",
    "    \n",
    "    \"\"\"\n",
    "    "
   ]
  },
  {
   "cell_type": "code",
   "execution_count": 8,
   "id": "crucial-lender",
   "metadata": {},
   "outputs": [],
   "source": [
    "class cw_laser(pt.Component):\n",
    "    \"\"\"\n",
    "    A CW Laser used when multiple sources are desired in a network. Note: When linking, terminate the component's \n",
    "    0 port.\n",
    "\n",
    "    Terms: \n",
    "        0 ---- 1 \n",
    "    \n",
    "    \"\"\"    \n",
    "    num_ports = 2\n",
    "    \n",
    "    def __init__(\n",
    "        self,\n",
    "        Power = 1,  #Input the laser power here\n",
    "        delay=0,\n",
    "        name = None,  \n",
    "        ):\n",
    "        \n",
    "        super(cw_laser,self).__init__(name=name) \n",
    "        self.Power = float(Power)\n",
    "        self.delay = float(delay)\n",
    "            \n",
    "    def action(self, t, x_in, x_out):\n",
    "        #Input port actions\n",
    "        a_in, _ = x_in\n",
    "        x_out[0] = a_in  #Nothing happens to input node\n",
    "        \n",
    "        if t<self.delay:\n",
    "            x_out[1,0] = 0.0001  #Zero noise floor\n",
    "        else:\n",
    "            x_out[1,0] = self.Power ** 0.5\n",
    "        \n",
    "        x_out[1,1] = 0  #no phase information, this is a real source\n",
    "        \n",
    "        #print(x_out[1,0])  #for debugging\n",
    "        \n",
    "    def set_actions_at(self, actions_at):\n",
    "        actions_at[:] = 1\n",
    "        \n",
    "    def set_S(self, S):\n",
    "        S[0,:,0,0] = 1.0\n",
    "        S[0,:,1,1] = 1.0\n",
    "        return S"
   ]
  },
  {
   "cell_type": "code",
   "execution_count": 9,
   "id": "insured-apollo",
   "metadata": {},
   "outputs": [],
   "source": [
    "class mask(pt.Component):\n",
    "    \"\"\"\n",
    "    A masking signal that is either binary or from a standard distribution.\n",
    "\n",
    "    Terms: \n",
    "        0 ---- 1 \n",
    "    \n",
    "    \"\"\"       \n",
    "    num_ports = 2\n",
    "    \n",
    "    def __init__(\n",
    "        self,\n",
    "        m_length=10,\n",
    "        name=None,\n",
    "    ):\n",
    "        \n",
    "        super(mask,self).__init__(name=name)\n",
    "        self.m_length=int(m_length)\n",
    "        self.counter = -1\n",
    "        x = (2-0)*torch.rand(self.m_length)\n",
    "        self.mask = x.int()\n",
    "        #print(x)\n",
    "        \n",
    "    def action(self,t,x_in,x_out):\n",
    "        a_in, _ = x_in\n",
    "        \n",
    "        x_out[0] = a_in  #Nothing happens to input node        \n",
    "        \n",
    "        self.counter = self.counter + 1\n",
    "            \n",
    "        x_out[1] = a_in * self.mask[self.counter]\n",
    "        #print(x_out[1])\n",
    "        if self.counter == self.m_length-1:\n",
    "            self.counter = -1\n",
    "            \n",
    "    def set_actions_at(self, actions_at):\n",
    "        actions_at[:] = 1\n",
    "        \n",
    "    def set_S(self,S):\n",
    "        S[0,:,0,0] = 1.0\n",
    "        S[0,:,1,1] = 1.0\n",
    "        return S"
   ]
  },
  {
   "cell_type": "markdown",
   "id": "declared-multiple",
   "metadata": {},
   "source": [
    "### Optoelectronic reservoir with optical input"
   ]
  },
  {
   "cell_type": "code",
   "execution_count": 10,
   "id": "developmental-patrol",
   "metadata": {},
   "outputs": [
    {
     "name": "stdout",
     "output_type": "stream",
     "text": [
      "Buffer containing:\n",
      "tensor([], dtype=torch.int64)\n"
     ]
    },
    {
     "name": "stderr",
     "output_type": "stream",
     "text": [
      "<ipython-input-7-94980071aac8>:33: UserWarning: To copy construct from a tensor, it is recommended to use sourceTensor.clone().detach() or sourceTensor.clone().detach().requires_grad_(True), rather than torch.tensor(sourceTensor).\n",
      "  data=torch.tensor(weights, device=self.device),\n"
     ]
    }
   ],
   "source": [
    "class oe_reservoir(pt.Network):\n",
    "    def __init__(self,gain=3, las_pow = 1, attenuation=0.3, wg_delay=0.1e-9, wg_ng=2.6734, nodes=10, weights = torch.rand(10, dtype=torch.float64),bias=2):\n",
    "        super(oe_reservoir, self).__init__()\n",
    "        self.src = pt.Source()\n",
    "        self.det = pt.Detector()\n",
    "        self.pd = PD(Z=1)\n",
    "        self.mask = mask(m_length=nodes)\n",
    "        self.comb = combiner(gain=14, trainable = False) #np.random.uniform(low=1.0,high=30.0)\n",
    "        self.att = attenuator(attenuation=0.4, trainable = False) #np.random.uniform(low=0.0,high=1.0)\n",
    "        self.laser = cw_laser(Power=las_pow, delay=0) #0.15e-9\n",
    "        self.laser2 = cw_laser(Power=0.0,delay=0)\n",
    "        self.laser3 = cw_laser(Power=1,delay=0)\n",
    "        self.term = pt.Term()\n",
    "        self.term2 = pt.Term()\n",
    "        self.mmi = pt.Mmi(trainable=False)\n",
    "        self.wg = pt.Waveguide(ng=wg_ng,length=299792458*wg_delay/wg_ng, trainable = False)\n",
    "        self.mzm = mzm(bias=bias)\n",
    "        self.nl = nonlinear()\n",
    "        self.readout = readout(N=nodes, weights=weights, trainable=True)\n",
    "        self.link(\"src:0\", \"0:mask:1\", \"0:mzm:2\", \"0:mmi:1\", \"0:att:1\", \"0:wg:1\", \"0:pd:1\", \"0:comb:2\", \"1:mzm\")\n",
    "        self.link(\"mmi:2\", \"0:readout:1\", \"0:det\")\n",
    "        self.link(\"term:0\",\"0:laser2:1\",\"1:comb\")\n",
    "        #self.link(\"src:0\", \"0:mask:1\", \"0:mzm:2\", \"0:mmi:1\", \"0:att:1\", \"0:wg:1\",\"0:term\")\n",
    "        #self.link(\"term2:0\",\"0:laser3:1\", \"1:mzm\")\n",
    "print(torch.where(oe_reservoir().free_ports_at)[0]) \n",
    "\n",
    "#299792458*0.1e-9/2.6734"
   ]
  },
  {
   "cell_type": "code",
   "execution_count": 11,
   "id": "loose-albuquerque",
   "metadata": {},
   "outputs": [
    {
     "name": "stdout",
     "output_type": "stream",
     "text": [
      "Buffer containing:\n",
      "tensor([], dtype=torch.int64)\n"
     ]
    },
    {
     "name": "stderr",
     "output_type": "stream",
     "text": [
      "<ipython-input-7-94980071aac8>:33: UserWarning: To copy construct from a tensor, it is recommended to use sourceTensor.clone().detach() or sourceTensor.clone().detach().requires_grad_(True), rather than torch.tensor(sourceTensor).\n",
      "  data=torch.tensor(weights, device=self.device),\n"
     ]
    }
   ],
   "source": [
    "class simple_reservoir(pt.Network):\n",
    "    def __init__(self,gain=3, las_pow = 1, attenuation=0.3, wg_delay=0.1e-9, wg_ng=2.6734, nodes=10, weights = torch.rand(10, dtype=torch.float64),bias=2):\n",
    "        super(simple_reservoir, self).__init__()\n",
    "        self.src = pt.Source()\n",
    "        self.det = pt.Detector()\n",
    "        self.pd = PD(Z=1)\n",
    "        self.mask = mask(m_length=nodes)\n",
    "        self.comb = combiner(gain=14, trainable = False) #np.random.uniform(low=1.0,high=30.0)\n",
    "        self.att = attenuator(attenuation=0.4, trainable = False) #np.random.uniform(low=0.0,high=1.0)\n",
    "        self.laser = cw_laser(Power=las_pow, delay=0) #0.15e-9\n",
    "        self.laser2 = cw_laser(Power=0,delay=0)\n",
    "        self.term = pt.Term()\n",
    "        self.mmi = pt.Mmi(trainable=False)\n",
    "        self.wg = pt.Waveguide(ng=wg_ng,length=299792458*wg_delay/wg_ng, trainable = False)\n",
    "        self.mzm = mzm(bias=bias)\n",
    "        self.readout = readout(N=nodes, weights=weights, trainable=True)\n",
    "        self.link(\"term:0\", \"0:laser:1\", \"0:mzm:2\", \"0:mmi:1\", \"0:att:1\", \"0:wg:1\", \"0:pd:1\", \"0:comb:2\", \"1:mzm\")\n",
    "        self.link(\"mmi:2\", \"0:readout:1\", \"0:det\")\n",
    "        self.link(\"src:0\", \"0:mask:1\",\"1:comb\")\n",
    "print(torch.where(simple_reservoir().free_ports_at)[0]) "
   ]
  },
  {
   "cell_type": "code",
   "execution_count": 12,
   "id": "enormous-ethiopia",
   "metadata": {},
   "outputs": [
    {
     "name": "stdout",
     "output_type": "stream",
     "text": [
      "Buffer containing:\n",
      "tensor([], dtype=torch.int64)\n"
     ]
    },
    {
     "name": "stderr",
     "output_type": "stream",
     "text": [
      "<ipython-input-7-94980071aac8>:33: UserWarning: To copy construct from a tensor, it is recommended to use sourceTensor.clone().detach() or sourceTensor.clone().detach().requires_grad_(True), rather than torch.tensor(sourceTensor).\n",
      "  data=torch.tensor(weights, device=self.device),\n"
     ]
    }
   ],
   "source": [
    "class small_reservoir(pt.Network):\n",
    "    def __init__(self,gain=3, las_pow = 1, attenuation=0.3, wg_delay=0.1e-9, wg_ng=2.6734, nodes=10, weights = torch.rand(10, dtype=torch.float64),bias=2):\n",
    "        super(small_reservoir, self).__init__()\n",
    "        self.src = pt.Source()\n",
    "        self.det = pt.Detector()\n",
    "        self.pd = PD(Z=1)\n",
    "        self.mask = mask(m_length=nodes)\n",
    "        self.comb = combiner(gain=14, trainable = False) #np.random.uniform(low=1.0,high=30.0)\n",
    "        self.att = attenuator(attenuation=0.4, trainable = False) #np.random.uniform(low=0.0,high=1.0)\n",
    "        self.laser = cw_laser(Power=las_pow, delay=0) #0.15e-9\n",
    "        self.laser2 = cw_laser(Power=0,delay=0)\n",
    "        self.term = pt.Term()\n",
    "        self.mmi = pt.Mmi(trainable=False)\n",
    "        self.nl = nonlinear()\n",
    "        self.wg = pt.Waveguide(ng=wg_ng,length=299792458*wg_delay/wg_ng, trainable = False)\n",
    "        self.mzm = mzm(bias=bias)\n",
    "        self.readout = readout(N=nodes, weights=weights, trainable=True)\n",
    "        #self.link(\"src:0\", \"0:mmi:1\", \"1:mzm\")\n",
    "        self.link(\"src:0\", \"0:nl:2\", \"0:wg:1\", \"0:mmi:1\", \"0:readout:1\", \"0:det\")\n",
    "        self.link(\"mmi:2\",\"1:nl\")\n",
    "        #self.link(\"src:0\", \"0:mask:1\",\"1:comb\")\n",
    "print(torch.where(simple_reservoir().free_ports_at)[0]) "
   ]
  },
  {
   "cell_type": "code",
   "execution_count": 13,
   "id": "revised-firmware",
   "metadata": {},
   "outputs": [
    {
     "name": "stderr",
     "output_type": "stream",
     "text": [
      "<ipython-input-7-94980071aac8>:33: UserWarning: To copy construct from a tensor, it is recommended to use sourceTensor.clone().detach() or sourceTensor.clone().detach().requires_grad_(True), rather than torch.tensor(sourceTensor).\n",
      "  data=torch.tensor(weights, device=self.device),\n"
     ]
    },
    {
     "data": {
      "image/png": "[encoded data removed]",
      "text/plain": [
       "<Figure size 432x288 with 1 Axes>"
      ]
     },
     "metadata": {
      "needs_background": "light"
     },
     "output_type": "display_data"
    }
   ],
   "source": [
    "torch.manual_seed(2)\n",
    "\n",
    "#Reservoir Parameters\n",
    "wg_delay = 0.1e-9  #Delay line, it automatically controls the waveguide length (Along with group index below)\n",
    "ng = 2.6734  #To use the parameters of LNOI\n",
    "gain = 5 #feedback gain\n",
    "att = 0.4  #optical attenuator\n",
    "las_pow = 1 #Laser Power\n",
    "bias=3\n",
    "#Simulation parameters\n",
    "N = 10                                             #no. of 'virtual' nodes in the reservoir\n",
    "sim_time = 10e-9                                   #Simulation time [s]\n",
    "dt = wg_delay/N                                    #timestep [s] - also the virtual node distance\n",
    "samples = np.int(np.ceil(sim_time/dt))             #Number of samples from the reservoir\n",
    "weights = torch.rand(samples, dtype=torch.float64) #Initialized Weights\n",
    "wl = 1.55e-6                                       #Center Wavelength [m]\n",
    "\n",
    "Reservoir = oe_reservoir(gain=gain, las_pow=las_pow, attenuation=att, wg_delay=wg_delay, wg_ng=ng, nodes=N, weights=weights, bias=bias)\n",
    "Reservoir_el = simple_reservoir(gain=gain, las_pow=las_pow, attenuation=att, wg_delay=wg_delay, wg_ng=ng, nodes=N, weights=weights, bias=bias)\n",
    "\n",
    "time_env = pt.Environment(dt=dt, t1=sim_time, wl=wl)\n",
    "\n",
    "x = (1-0)*torch.rand(1000,names=[\"t\"])\n",
    "#for p in Reservoir.parameters():\n",
    "    #print(p)\n",
    "    \n",
    "with time_env:\n",
    "    detected = Reservoir_el(source=1)  ###Write the desired input Power value here\n",
    "    Reservoir_el.plot(detected)\n",
    "    plt.show()"
   ]
  },
  {
   "cell_type": "markdown",
   "id": "owned-fellow",
   "metadata": {},
   "source": [
    "# We now proceed to train the circuit for XOR with 2 subsequent bits"
   ]
  },
  {
   "cell_type": "code",
   "execution_count": 14,
   "id": "fallen-organic",
   "metadata": {},
   "outputs": [],
   "source": [
    "class BitGenerator(np.random.RandomState):\n",
    "    def __call__(self, N, B=1):\n",
    "        \"\"\" generate a bit sequence\n",
    "\n",
    "        Args:\n",
    "            N: number of bits per sequence\n",
    "            B: number of sequences in batch\n",
    "        \"\"\"\n",
    "        bits = self.rand(N,B) > 0.5\n",
    "        return bits"
   ]
  },
  {
   "cell_type": "code",
   "execution_count": 15,
   "id": "covered-antenna",
   "metadata": {},
   "outputs": [],
   "source": [
    "def COPY(bits):\n",
    "    return bits.copy()\n",
    "def XOR(bits):\n",
    "    XOR_res = (np.concatenate([bits, np.zeros_like(bits[-1:])], 0) ^ np.concatenate([np.zeros_like(bits[:1]), bits], 0))[:-1]\n",
    "    return XOR_res #np.invert\n",
    "def AND(bits):\n",
    "    return (np.concatenate([bits, np.zeros_like(bits[-1:])], 0) & np.concatenate([np.zeros_like(bits[:1]), bits], 0))[:-1]\n",
    "\n",
    "TARGET = XOR\n",
    "#TARGET(bits)"
   ]
  },
  {
   "cell_type": "code",
   "execution_count": 16,
   "id": "measured-latin",
   "metadata": {},
   "outputs": [
    {
     "name": "stdout",
     "output_type": "stream",
     "text": [
      "0.02242780414453505\n"
     ]
    },
    {
     "name": "stderr",
     "output_type": "stream",
     "text": [
      "<ipython-input-7-94980071aac8>:33: UserWarning: To copy construct from a tensor, it is recommended to use sourceTensor.clone().detach() or sourceTensor.clone().detach().requires_grad_(True), rather than torch.tensor(sourceTensor).\n",
      "  data=torch.tensor(weights, device=self.device),\n"
     ]
    }
   ],
   "source": [
    "#General Parameters\n",
    "c = 299792458.0 #[m/s] speed of light\n",
    "Rb = 2e9 #[1/s] bitrate\n",
    "Rs = 50e9 #[1/s] samplerate  e9 originally\n",
    "fc = 2e9 #[1/s] cutoff frequency for bit generation\n",
    "wl0 = 1550e-9 #[m] center wavelength\n",
    "neff = 2.34 #[1] effective index\n",
    "ng = 2.6734 #[1] group index\n",
    "N = 20 #[1] number of bits per bit stream\n",
    "B = 10 #[1] number of bit streams in training batch\n",
    "Str, Sva, Ste = (1, 2, 3) #[1] train seed, validation seed, test seed\n",
    "Lr = (1/Rb) * (c/ng) #[m] reference length (distance the bit travels during one bit period)\n",
    "device = torch.device(\"cpu\") # default device used\n",
    "torch.set_default_dtype(torch.float32) # default dtype used\n",
    "torch.manual_seed(2) # pytorch seed\n",
    "np.random.seed(42) # numpy seed\n",
    "#print(Lr)\n",
    "\n",
    "\"\"\" Note that to set theta (i.e. the node spacing) is done from Rs, since the simulation timestep will be 1/Rs\"\"\"\n",
    "\n",
    "#Reservoir Parameters\n",
    "wg_delay = 0.2e-9  #Delay line, it automatically controls the waveguide length (Along with group index below)\n",
    "ng = 2.6734  #To use the parameters of LNOI\n",
    "gain = 5 #feedback gain\n",
    "att = 0.4  #optical attenuator\n",
    "las_pow = 1 #Laser Power\n",
    "bias=0\n",
    "Nodes = 10                                           #no. of 'virtual' nodes in the reservoir\n",
    "sim_time = 10e-9                                   #Simulation time [s]\n",
    "dt = wg_delay/N                                    #timestep [s] - also the virtual node distance\n",
    "samples = np.int(np.ceil(sim_time/dt))             #Number of samples from the reservoir\n",
    "weights = torch.randn(samples, dtype=torch.float64) #Initialized Weights\n",
    "wl = 1.55e-6                                       #Center Wavelength [m]\n",
    "\n",
    "print(wg_delay*(c/ng))\n",
    "#Reservoir2 = oe_reservoir(gain=gain, las_pow=las_pow, attenuation=att, wg_delay=wg_delay, wg_ng=ng, nodes=Nodes, weights=weights, bias=bias)\n",
    "Reservoir2 = oe_reservoir(gain=gain, las_pow=las_pow, attenuation=att, wg_delay=wg_delay, wg_ng=ng, nodes=Nodes, weights=weights, bias=bias)"
   ]
  },
  {
   "cell_type": "code",
   "execution_count": 17,
   "id": "informed-feature",
   "metadata": {},
   "outputs": [
    {
     "data": {
      "image/png": "[encoded data removed]",
      "text/plain": [
       "<Figure size 432x288 with 1 Axes>"
      ]
     },
     "metadata": {
      "needs_background": "light"
     },
     "output_type": "display_data"
    }
   ],
   "source": [
    "bits = BitGenerator(seed=23)(20)\n",
    "streamgen = pt.BitStreamGenerator(bitrate=Rb, samplerate=Rs, cutoff_frequency=fc, device=device)\n",
    "stream = streamgen(bits)\n",
    "target = streamgen(TARGET(bits))\n",
    "t = np.arange(stream.shape[0])*(1/Rs)\n",
    "plt.plot(1e9*t, stream.data.cpu().numpy())\n",
    "plt.plot(1e9*t, target.data.cpu().numpy())\n",
    "plt.xlabel(\"t [ns]\")\n",
    "plt.show()\n",
    "#streamgen(TARGET(bits))"
   ]
  },
  {
   "cell_type": "code",
   "execution_count": 18,
   "id": "miniature-substitute",
   "metadata": {},
   "outputs": [
    {
     "data": {
      "text/plain": [
       "torch.Tensor"
      ]
     },
     "execution_count": 18,
     "metadata": {},
     "output_type": "execute_result"
    }
   ],
   "source": [
    "# train streams\n",
    "trbits = BitGenerator(seed=Str)(N, B) # N bits per train stream, B train streams per batch.\n",
    "trstream = streamgen(trbits)\n",
    "trtarget = streamgen(TARGET(trbits))**2\n",
    "t = np.arange(trstream.shape[0])*(1/Rs)\n",
    "#print(t)\n",
    "# validation streams\n",
    "vabits = BitGenerator(seed=Sva)(N, 1) # N bits per validation stream, 1 validation stream per batch.\n",
    "vastream = streamgen(vabits)\n",
    "vatarget = streamgen(TARGET(vabits))**2\n",
    "\n",
    "# test streams\n",
    "tebits = BitGenerator(seed=Ste)(N*B, 1) # N*B bits per teststream\n",
    "testream = streamgen(tebits)\n",
    "tetarget = streamgen(TARGET(tebits))**2\n",
    "\n",
    "type(trtarget)"
   ]
  },
  {
   "cell_type": "code",
   "execution_count": 19,
   "id": "precise-hepatitis",
   "metadata": {},
   "outputs": [
    {
     "data": {
      "image/png": "[encoded data removed]",
      "text/plain": [
       "<Figure size 432x288 with 1 Axes>"
      ]
     },
     "metadata": {
      "needs_background": "light"
     },
     "output_type": "display_data"
    }
   ],
   "source": [
    "with pt.Environment(t=t):\n",
    "    detected = Reservoir2(source=vastream.rename(\"t\", \"b\"))[:,0,0,:] # lower dimensional sources should have named dimensions\n",
    "    Reservoir2.plot(detected)\n",
    "    plt.show()"
   ]
  },
  {
   "cell_type": "code",
   "execution_count": 20,
   "id": "polar-capability",
   "metadata": {},
   "outputs": [
    {
     "data": {
      "application/vnd.jupyter.widget-view+json": {
       "model_id": "fecaa357adcc445198fa7203aaa8c8ef",
       "version_major": 2,
       "version_minor": 0
      },
      "text/plain": [
       "interactive(children=(FloatSlider(value=0.0, description='latency', max=3.0, step=0.5), Output()), _dom_classe…"
      ]
     },
     "metadata": {},
     "output_type": "display_data"
    }
   ],
   "source": [
    "with pt.Environment(t=t):\n",
    "    detected = Reservoir2(source=vastream.rename(\"t\", \"b\"))[:,0,0,:] # lower dimensional sources should have named dimensions\n",
    "\n",
    "mse = pt.MSELoss(latency=0.0, warmup=0.0, bitrate=Rb, samplerate=Rs)\n",
    "@interact(latency=(0,3,0.5))\n",
    "def _(latency=0.0):\n",
    "    mse.plot(vastream, label=\"input\")\n",
    "    mse.plot(vatarget, label=\"target\")\n",
    "    mse.plot(detected, latency=latency, label=\"detected\")\n",
    "    plt.legend()\n",
    "    plt.xlim(0,10)\n",
    "    plt.show()"
   ]
  },
  {
   "cell_type": "code",
   "execution_count": 21,
   "id": "determined-japanese",
   "metadata": {},
   "outputs": [],
   "source": [
    "mse = pt.MSELoss(latency=0.0, warmup=0.0, bitrate=Rb, samplerate=Rs)\n",
    "ber = pt.BERLoss(latency=0.0, threshold=0.5, warmup=0.0, bitrate=Rb, samplerate=Rs)"
   ]
  },
  {
   "cell_type": "code",
   "execution_count": 22,
   "id": "digital-justice",
   "metadata": {},
   "outputs": [
    {
     "data": {
      "application/vnd.jupyter.widget-view+json": {
       "model_id": "b3231e22d60145788f8e46c34c9281da",
       "version_major": 2,
       "version_minor": 0
      },
      "text/plain": [
       "  0%|          | 0/500 [00:00<?, ?it/s]"
      ]
     },
     "metadata": {},
     "output_type": "display_data"
    }
   ],
   "source": [
    "#torch.manual_seed(2)\n",
    "#scale = torch.tensor(1.0, requires_grad=True)\n",
    "#bias = torch.tensor(0.0, requires_grad=True)\n",
    "optim = torch.optim.Adam([*Reservoir2.parameters()], lr=0.2)\n",
    "range_ = trange(500)\n",
    "with pt.Environment(t=t, enable_grad=True):\n",
    "    for i in range_:\n",
    "        optim.zero_grad()\n",
    "        trdet = Reservoir2(source=trstream.rename(\"t\", \"b\"))[:,0,0,:]\n",
    "        loss = mse(trdet, trtarget)\n",
    "        #loss_fn = torch.nn.MSELoss()\n",
    "        #loss = loss_fn(trdet,trtarget)\n",
    "        loss.backward()\n",
    "        optim.step()\n",
    "        range_.set_postfix(loss=loss.item(), ber=ber(trdet, trtarget))"
   ]
  },
  {
   "cell_type": "code",
   "execution_count": 23,
   "id": "pressed-namibia",
   "metadata": {
    "scrolled": false
   },
   "outputs": [
    {
     "name": "stdout",
     "output_type": "stream",
     "text": [
      "ber:\t0.0\n",
      "mse:\t0.09768888354301453\n"
     ]
    },
    {
     "data": {
      "image/png": "[encoded data removed]",
      "text/plain": [
       "<Figure size 432x288 with 1 Axes>"
      ]
     },
     "metadata": {
      "needs_background": "light"
     },
     "output_type": "display_data"
    }
   ],
   "source": [
    "#for p in Reservoir.parameters():\n",
    " #   print(p)\n",
    "\n",
    "with pt.Environment(t=t):\n",
    "    vadet = Reservoir2(source=vastream.rename(\"t\", \"b\"))[:,0,0,:]\n",
    "    ber_err = ber(vadet, vatarget, threshold=float((0.5)))\n",
    "    mse_err = mse(vadet, vatarget)\n",
    "\n",
    "    print(f\"ber:\\t{ber_err}\")\n",
    "    print(f\"mse:\\t{mse_err.item()}\")\n",
    "\n",
    "    mse.plot(vadet)\n",
    "    #mse.plot(vastream)\n",
    "    mse.plot(vatarget, latency=0.0)\n",
    "    plt.xlim(0,10)\n",
    "    plt.xlabel(\"t [ns]\")\n",
    "    plt.show()"
   ]
  },
  {
   "cell_type": "code",
   "execution_count": 24,
   "id": "controversial-shannon",
   "metadata": {},
   "outputs": [
    {
     "name": "stdout",
     "output_type": "stream",
     "text": [
      "BoundedParameter in [-5.00, 5.00] representing:\n",
      "tensor([0.9176, 0.0969, 0.7088, 0.5403, 0.9133, 0.5257, 0.1204, 0.2669, 0.6928,\n",
      "        0.4623, 0.0821, 0.6830, 0.6197, 0.8080, 0.7328, 0.3664, 0.9414, 0.1970,\n",
      "        0.7579, 0.1139, 0.7440, 0.7068, 0.7945, 0.6953, 0.4236, 0.1344, 0.8726,\n",
      "        0.0248, 0.1871, 0.4442, 0.0288, 0.1701, 0.5530, 0.3270, 0.7248, 0.3561,\n",
      "        0.3695, 0.8486, 0.3875, 0.1408, 0.4006, 0.0171, 0.7371, 0.6248, 0.5112,\n",
      "        0.6141, 0.4584, 0.3932, 0.9174, 0.2641, 0.5383, 0.1304, 0.2692, 0.5418,\n",
      "        0.0513, 0.7104, 0.2190, 0.5117, 0.4089, 0.7485, 0.9291, 0.5215, 0.6378,\n",
      "        0.5737, 0.1116, 0.2890, 0.3665, 0.5505, 0.4982, 0.8949, 0.1929, 0.6126,\n",
      "        0.9573, 0.3505, 0.9706, 0.8580, 0.6232, 0.6595, 0.0853, 0.7083, 0.3387,\n",
      "        0.3283, 0.1897, 0.6480, 0.0071, 0.7271, 0.5857, 0.4027, 0.5211, 0.9657,\n",
      "        0.5535, 0.6017, 0.2427, 0.5854, 0.5740, 0.5110, 0.5883, 0.7138, 0.1372,\n",
      "        0.6238, 0.3607, 0.3382, 0.5413, 0.4971, 0.5034, 0.7710, 0.2761, 0.0033,\n",
      "        0.5892, 0.0952, 0.2184, 0.6989, 0.6182, 0.3122, 0.0896, 0.1596, 0.0574,\n",
      "        0.9065, 0.8951, 0.0171, 0.1151, 0.6182, 0.4213, 0.2124, 0.4743, 0.2734,\n",
      "        0.9921, 0.9287, 0.5129, 0.5628, 0.1499, 0.1319, 0.1651, 0.9164, 0.4474,\n",
      "        0.3695, 0.7917, 0.4679, 0.0818, 0.3782, 0.5018, 0.6835, 0.0588, 0.2402,\n",
      "        0.1143, 0.3860, 0.1175, 0.9950, 0.1676, 0.0771, 0.3280, 0.6473, 0.4123,\n",
      "        0.8735, 0.9521, 0.4792, 0.0904, 0.2688, 0.9386, 0.5595, 0.5937, 0.5329,\n",
      "        0.0257, 0.7940, 0.0414, 0.0956, 0.5341, 0.0381, 0.1522, 0.4881, 0.6006,\n",
      "        0.7017, 0.8950, 0.7303, 0.0653, 0.9250, 0.5000, 0.5070, 0.6909, 0.4191,\n",
      "        0.6774, 0.0263, 0.6699, 0.8553, 0.8142, 0.1059, 0.4813, 0.8500, 0.3023,\n",
      "        0.6125, 0.0426, 0.1785, 0.7100, 0.1139, 0.3251, 0.3084, 0.2465, 0.9216,\n",
      "        0.4315, 0.2372, 0.4913, 0.4658, 0.1450, 0.5509, 0.7286, 0.7943, 0.1987,\n",
      "        0.6938, 0.0981, 0.7783, 0.4053, 0.2072, 0.0962, 0.8983, 0.0131, 0.3974,\n",
      "        0.6923, 0.7554, 0.5998, 0.9094, 0.3142, 0.4655, 0.4330, 0.3922, 0.3283,\n",
      "        0.5198, 0.0513, 0.3647, 0.5140, 0.9201, 0.2389, 0.6726, 0.3699, 0.1938,\n",
      "        0.7524, 0.8535, 0.5276, 0.7426, 0.3719, 0.2851, 0.8632, 0.1785, 0.8385,\n",
      "        0.0832, 0.4159, 0.0336, 0.0334, 0.3274, 0.4193, 0.2626, 0.8415, 0.0725,\n",
      "        0.6413, 0.6003, 0.4314, 0.2581, 0.8831, 0.2798, 0.3453, 0.7975, 0.4305,\n",
      "        0.9525, 0.8162, 0.3734, 0.6269, 0.8826, 0.0200, 0.4674, 0.1534, 0.4040,\n",
      "        0.7889, 0.7312, 0.9957, 0.4954, 0.0890, 0.4192, 0.0412, 0.1896, 0.6581,\n",
      "        0.9569, 0.6244, 0.5557, 0.5505, 0.6928, 0.4345, 0.6423, 0.5247, 0.6919,\n",
      "        0.3821, 0.4666, 0.2043, 0.3757, 0.5555, 0.1441, 0.0890, 0.9546, 0.6025,\n",
      "        0.2999, 0.8350, 0.6712, 0.6978, 0.6846, 0.3486, 0.3829, 0.0774, 0.3634,\n",
      "        0.9936, 0.3759, 0.6274, 0.7699, 0.9505, 0.0770, 0.6477, 0.2674, 0.1579,\n",
      "        0.1489, 0.9303, 0.7179, 0.9477, 0.8403, 0.0669, 0.9842, 0.6136, 0.4496,\n",
      "        0.1973, 0.3544, 0.2669, 0.6563, 0.5640, 0.5190, 0.0253, 0.8223, 0.6229,\n",
      "        0.2979, 0.6649, 0.1945, 0.0880, 0.7069, 0.2406, 0.6596, 0.5864, 0.3518,\n",
      "        0.9894, 0.8311, 0.5878, 0.9896, 0.0122, 0.8523, 0.2975, 0.5109, 0.4508,\n",
      "        0.7163, 0.2108, 0.1165, 0.6198, 0.3831, 0.0840, 0.8599, 0.8461, 0.3060,\n",
      "        0.7480, 0.3668, 0.4072, 0.4924, 0.4349, 0.8341, 0.2849, 0.3140, 0.6505,\n",
      "        0.2114, 0.8702, 0.6637, 0.0769, 0.0959, 0.7812, 0.9388, 0.6255, 0.0311,\n",
      "        0.6171, 0.3962, 0.8528, 0.1537, 0.5033, 0.0233, 0.7938, 0.1517, 0.8017,\n",
      "        0.2356, 0.0498, 0.9042, 0.6529, 0.6899, 0.1196, 0.6282, 0.4078, 0.2554,\n",
      "        0.9253, 0.4167, 0.6714, 0.7980, 0.1778, 0.7320, 0.8163, 0.5014, 0.9423,\n",
      "        0.4470, 0.1960, 0.0114, 0.2581, 0.3745, 0.1962, 0.5274, 0.2829, 0.2136,\n",
      "        0.0561, 0.4741, 0.7172, 0.7173, 0.5171, 0.6384, 0.4121, 0.8145, 0.3417,\n",
      "        0.0368, 0.1014, 0.8203, 0.2075, 0.1488, 0.8304, 0.1313, 0.8965, 0.9575,\n",
      "        0.7547, 0.5418, 0.5367, 0.7166, 0.9271, 0.6720, 0.8569, 0.6827, 0.0046,\n",
      "        0.4511, 0.4898, 0.2597, 0.2928, 0.9328, 0.8749, 0.8249, 0.6498, 0.0769,\n",
      "        0.2429, 0.4359, 0.0559, 0.4809, 0.9123, 0.6151, 0.3744, 0.0693, 0.2895,\n",
      "        0.9342, 0.3705, 0.2448, 0.5971, 0.7797, 0.8310, 0.9663, 0.2496, 0.3079,\n",
      "        0.5755, 0.7963, 0.2176, 0.4210, 0.1311, 0.1628, 0.3122, 0.1121, 0.9641,\n",
      "        0.2490, 0.2972, 0.9347, 0.3667, 0.4578, 0.6819, 0.3797, 0.2056, 0.8875,\n",
      "        0.9803, 0.9442, 0.1683, 0.0139, 0.9629, 0.3748, 0.8388, 0.8320, 0.6801,\n",
      "        0.8848, 0.5650, 0.1373, 0.8728, 0.0934, 0.9760, 0.5382, 0.6277, 0.1449,\n",
      "        0.3831, 0.1392, 0.5498, 0.4861, 0.1728, 0.2361, 0.7745, 0.7006, 0.4975,\n",
      "        0.1390, 0.1223, 0.8286, 0.6330, 0.2383, 0.5183, 0.7732, 0.9916, 0.7254,\n",
      "        0.9917, 0.6188, 0.6319, 0.9186, 0.0362, 0.0972, 0.6756, 0.4750, 0.8099,\n",
      "        0.7088, 0.1016, 0.8584, 0.4305, 0.3769, 0.8585, 0.6456, 0.5802, 0.1603,\n",
      "        0.8964, 0.3184, 0.2969, 0.0050, 0.6736, 0.9362, 0.0283, 0.6999, 0.0158,\n",
      "        0.9988, 0.4989, 0.2690, 0.8477, 0.6995, 0.5084, 0.0046, 0.4345, 0.8206,\n",
      "        0.0083, 0.3500, 0.9367, 0.8629, 0.7437, 0.6335, 0.4619, 0.7084, 0.0602,\n",
      "        0.9486, 0.3082, 0.7697, 0.7981, 0.4282, 0.1549, 0.2379, 0.4765, 0.9850,\n",
      "        0.3403, 0.7535, 0.7777, 0.9582, 0.4121, 0.8931, 0.0424, 0.0888, 0.9382,\n",
      "        0.6018, 0.8731, 0.5257, 0.3632, 0.8674, 0.7858, 0.1396, 0.1261, 0.4629,\n",
      "        0.2057, 0.5343, 0.8750, 0.6725, 0.3965, 0.4673, 0.8021, 0.3711, 0.4108,\n",
      "        0.3248, 0.0646, 0.3997, 0.0317, 0.7087, 0.8681, 0.6200, 0.5362, 0.6764,\n",
      "        0.9425, 0.6601, 0.4769, 0.0337, 0.7739, 0.2753, 0.0258, 0.4764, 0.0383,\n",
      "        0.7259, 0.7001, 0.5292, 0.4470, 0.5262, 0.9445, 0.0213, 0.0084, 0.6095,\n",
      "        0.8691, 0.7854, 0.3611, 0.0943, 0.7223, 0.1311, 0.0716, 0.3040, 0.7998,\n",
      "        0.2026, 0.9471, 0.6113, 0.7538, 0.7635, 0.4026, 0.2598, 0.0733, 0.0495,\n",
      "        0.8005, 0.8473, 0.2474, 0.0879, 0.5339, 0.5171, 0.0513, 0.1563, 0.4867,\n",
      "        0.0238, 0.2058, 0.8385, 0.1520, 0.0021, 0.0604, 0.9303, 0.1658, 0.3511,\n",
      "        0.4002, 0.9849, 0.7489, 0.3319, 0.8431, 0.4152, 0.3483, 0.6619, 0.8556,\n",
      "        0.2644, 0.9421, 0.0335, 0.7490, 0.1964, 0.0014, 0.6054, 0.9467, 0.3114,\n",
      "        0.5837, 0.1513, 0.7919, 0.0452, 0.2337, 0.3634, 0.6205, 0.4928, 0.1790,\n",
      "        0.6881, 0.9618, 0.0703, 0.6368, 0.7025, 0.4726, 0.6201, 0.6809, 0.1135,\n",
      "        0.0089, 0.4101, 0.6721, 0.6635, 0.6419, 0.5538, 0.1041, 0.9036, 0.9210,\n",
      "        0.8088, 0.2658, 0.9935, 0.5669, 0.5617, 0.9067, 0.2422, 0.1150, 0.4964,\n",
      "        0.5216, 0.5714, 0.9904, 0.9382, 0.3133, 0.8128, 0.1878, 0.8577, 0.3886,\n",
      "        0.4812, 0.0772, 0.2971, 0.5902, 0.3289, 0.2383, 0.8159, 0.4399, 0.4838,\n",
      "        0.4245, 0.5342, 0.8398, 0.5669, 0.9643, 0.3395, 0.6579, 0.5959, 0.6804,\n",
      "        0.1585, 0.0719, 0.5796, 0.4900, 0.1517, 0.0309, 0.0477, 0.6266, 0.5245,\n",
      "        0.1029, 0.0224, 0.7265, 0.6294, 0.1043, 0.7359, 0.2132, 0.6234, 0.7470,\n",
      "        0.8744, 0.0373, 0.6780, 0.5226, 0.8630, 0.0380, 0.5274, 0.1916, 0.7488,\n",
      "        0.2165, 0.8488, 0.2902, 0.6409, 0.0062, 0.9061, 0.2561, 0.8298, 0.8178,\n",
      "        0.0854, 0.7088, 0.6388, 0.0373, 0.5156, 0.4744, 0.8938, 0.6671, 0.6496,\n",
      "        0.4169, 0.9566, 0.6726, 0.3256, 0.9970, 0.9782, 0.2240, 0.4220, 0.5307,\n",
      "        0.3938, 0.5970, 0.4098, 0.4738, 0.9616, 0.0560, 0.3849, 0.6868, 0.4566,\n",
      "        0.9867, 0.9093, 0.9258, 0.1480, 0.4093, 0.1951, 0.0300, 0.1671, 0.6431,\n",
      "        0.6367, 0.6603, 0.2318, 0.8551, 0.0153, 0.4949, 0.4330, 0.3250, 0.6186,\n",
      "        0.0345, 0.5728, 0.8877, 0.2529, 0.8915, 0.2675, 0.9963, 0.1096, 0.5268,\n",
      "        0.2610, 0.8857, 0.7036, 0.5346, 0.5653, 0.4994, 0.2078, 0.9728, 0.5290,\n",
      "        0.9438, 0.9053, 0.7486, 0.6737, 0.2649, 0.0746, 0.7184, 0.0930, 0.8910,\n",
      "        0.5241, 0.1620, 0.5127, 0.7720, 0.2354, 0.8647, 0.1977, 0.0654, 0.1677,\n",
      "        0.7608, 0.2833, 0.8697, 0.0143, 0.9402, 0.0377, 0.7208, 0.1321, 0.0818,\n",
      "        0.8433, 0.1302, 0.4944, 0.6504, 0.2193, 0.0648, 0.1717, 0.3800, 0.7341,\n",
      "        0.8067, 0.6037, 0.0634, 0.3777, 0.0544, 0.9905, 0.0063, 0.5576, 0.4385,\n",
      "        0.0595, 0.1491, 0.2487, 0.2081, 0.6280, 0.5539, 0.3238, 0.9839, 0.3652,\n",
      "        0.9937, 0.2691, 0.5426, 0.0282, 0.1056, 0.6362, 0.5645, 0.7670, 0.2086,\n",
      "        0.1533, 0.6348, 0.6941, 0.1273, 0.2813, 0.2067, 0.0300, 0.6387, 0.4017,\n",
      "        0.9618, 0.0795, 0.7984, 0.7270, 0.7246, 0.2598, 0.8566, 0.2295, 0.5252,\n",
      "        0.0262, 0.2549, 0.4402, 0.3926, 0.0776, 0.4809, 0.1640, 0.2016, 0.8888,\n",
      "        0.3170, 0.0979, 0.5986, 0.2727, 0.1059, 0.6022, 0.7566, 0.8084, 0.9904,\n",
      "        0.3830, 0.7900, 0.5625, 0.3064, 0.3528, 0.7838, 0.1433, 0.9343, 0.2716,\n",
      "        0.3082, 0.6623, 0.0386, 0.8662, 0.0739, 0.4751, 0.6601, 0.4515, 0.1704,\n",
      "        0.8335, 0.7575, 0.8681, 0.3830, 0.5962, 0.2171, 0.7279, 0.0883, 0.2998,\n",
      "        0.7370, 0.3612, 0.2164, 0.7862, 0.9362, 0.0213, 0.0984, 0.1546, 0.3751,\n",
      "        0.7356, 0.8037, 0.0245, 0.5517, 0.4264, 0.5372, 0.8047, 0.1694, 0.6732,\n",
      "        0.7667, 0.8396, 0.0257, 0.5615, 0.3598, 0.7376, 0.0684, 0.4418, 0.3532,\n",
      "        0.7415], dtype=torch.float64)\n"
     ]
    }
   ],
   "source": [
    "for p in Reservoir.parameters():\n",
    "    print(p)"
   ]
  },
  {
   "cell_type": "markdown",
   "id": "reported-south",
   "metadata": {},
   "source": [
    "#Export to be plotted in MATLAB\n",
    "\n",
    "#vadet = vadet.numpy()\n",
    "det_data = pd.DataFrame(vadet)\n",
    "det_data.to_csv('det.csv')\n",
    "\n",
    "#vatarget = vatarget.numpy()\n",
    "target_data = pd.DataFrame(vatarget)\n",
    "target_data.to_csv('target.csv')"
   ]
  },
  {
   "cell_type": "markdown",
   "id": "nuclear-surfing",
   "metadata": {},
   "source": [
    "#Export to be plotted in MATLAB\n",
    "\n",
    "#vadet = vadet.numpy()\n",
    "det_data = pd.DataFrame(vadet)\n",
    "det_data.to_csv('det1.csv')\n",
    "\n",
    "#vatarget = vatarget.numpy()\n",
    "target_data = pd.DataFrame(vatarget)\n",
    "target_data.to_csv('target1.csv')"
   ]
  },
  {
   "cell_type": "markdown",
   "id": "annual-township",
   "metadata": {},
   "source": [
    "## Training for NARMA10 Task"
   ]
  },
  {
   "cell_type": "raw",
   "id": "bacterial-disclaimer",
   "metadata": {},
   "source": [
    "def narma10(n,seed):\n",
    "    \n",
    "    torch.manual_seed(seed)\n",
    "    y = torch.zeros(n)\n",
    "    u = (0-0.5)*torch.rand(n)+0.5\n",
    "\n",
    "    for i in range(n):\n",
    "        \n",
    "        if i<10:\n",
    "            z = torch.sum(y[0:i])\n",
    "            y[i] = 0.3*y[i-1] + 0.05*y[i-1]*z + 0.1\n",
    "            \n",
    "        else:\n",
    "            z = torch.sum(y[i-10:i])\n",
    "            y[i] = 0.3*y[i-1] + 0.05*y[i-1]*z + 1.5*u[i-10]*u[i-1] + 0.1\n",
    "    \n",
    "    return y"
   ]
  },
  {
   "cell_type": "raw",
   "id": "parliamentary-james",
   "metadata": {},
   "source": [
    "narma_seed = 32\n",
    "n=100\n",
    "x=narma10(n,narma_seed)\n",
    "#print(x)\n",
    "y = range(n)\n",
    "plt.plot(y,x)        "
   ]
  },
  {
   "cell_type": "raw",
   "id": "retained-refund",
   "metadata": {},
   "source": [
    "n=100\n",
    "y=narma10(n=n,seed=narma_seed)\n",
    "x = range(n)\n",
    "plt.plot(x,y) "
   ]
  },
  {
   "cell_type": "raw",
   "id": "august-resort",
   "metadata": {},
   "source": [
    "torch.manual_seed(32)\n",
    "u = (0-0.5)*torch.rand(10)+0.5\n",
    "print(u)\n",
    "\n",
    "torch.sum(u[0:10])\n",
    "#u[9]\n"
   ]
  },
  {
   "cell_type": "raw",
   "id": "stunning-context",
   "metadata": {},
   "source": [
    "0.0366+0.0706"
   ]
  },
  {
   "cell_type": "raw",
   "id": "higher-times",
   "metadata": {},
   "source": [
    "x=torch.zeros(5)\n",
    "x[0]"
   ]
  },
  {
   "cell_type": "raw",
   "id": "polish-disposition",
   "metadata": {},
   "source": [
    "for x in range(5):\n",
    "    print(x)\n",
    "    "
   ]
  },
  {
   "cell_type": "raw",
   "id": "heated-feature",
   "metadata": {},
   "source": [
    "torch.manual_seed(narma_seed)\n",
    "\n",
    "n = 1000                              #Number of data points\n",
    "inp = (0-0.5)*torch.rand(1000)+0.5    #Input\n",
    "target_val = narma10(1000,narma_seed)               #Target\n",
    "\n",
    "env = pt.Environment(dt=2e-12,t1=2e-9,wl=1.55e-6, enable_grad=True)\n",
    "\n",
    "\n",
    "with env:\n",
    "    detected = Reservoir(source=inp.rename(\"t\")) # lower dimensional sources should have named dimensions\n",
    "    Reservoir.plot(detected)\n",
    "    plt.show()"
   ]
  },
  {
   "cell_type": "raw",
   "id": "scientific-injection",
   "metadata": {},
   "source": [
    "torch.manual_seed(narma_seed)\n",
    "\n",
    "#Reservoir Parameters\n",
    "wg_delay = 0.2e-9  #Delay line, it automatically controls the waveguide length (Along with group index below)\n",
    "ng = 2.6734  #To use the parameters of LNOI\n",
    "gain = 5 #feedback gain\n",
    "att = 0.4  #optical attenuator\n",
    "las_pow = 1 #Laser Power\n",
    "Nodes = 10                                             #no. of 'virtual' nodes in the reservoir\n",
    "sim_time = 10e-9                                   #Simulation time [s]\n",
    "dt = wg_delay/N                                    #timestep [s] - also the virtual node distance\n",
    "samples = np.int(np.ceil(sim_time/dt))             #Number of samples from the reservoir\n",
    "weights = torch.rand(samples, dtype=torch.float64) #Initialized Weights\n",
    "wl = 1.55e-6                                       #Center Wavelength [m]\n",
    "\n",
    "\n",
    "env = pt.Environment(dt=dt,t1=sim_time,wl=1.55e-6, enable_grad=True)\n",
    "\n",
    "\n",
    "Reservoir = oe_reservoir(gain=gain, las_pow=las_pow, attenuation=att, wg_delay=wg_delay, wg_ng=ng, nodes=Nodes, weights=weights)\n",
    "\n",
    "\n",
    "n = 999                              #Number of data points\n",
    "inp = (0-0.5)*torch.rand(1000)+0.5    #Input\n",
    "target_val = narma10(n,narma_seed)     #Target\n",
    "target_val=torch.reshape(target_val,[n,1,1,1])\n",
    "optim = torch.optim.Adam([*Reservoir.parameters()], lr=0.1)\n",
    "range_ = trange(50)\n",
    "\n",
    "with env:\n",
    "    for i in range_:\n",
    "        optim.zero_grad()\n",
    "        loss = torch.nn.MSELoss()\n",
    "        trdet = Reservoir(source=inp.rename(\"t\"))\n",
    "        out = loss(trdet, target_val)\n",
    "        out.backward()\n",
    "        optim.step()\n",
    "        out.item()\n",
    "        range_.set_postfix(out=out.item())\n"
   ]
  },
  {
   "cell_type": "raw",
   "id": "vital-posting",
   "metadata": {},
   "source": [
    "\n",
    "valid_seed=24\n",
    "va_n=500\n",
    "torch.manual_seed(valid_seed)\n",
    "vastream2 = (0-0.5)*torch.rand(va_n)+0.5  \n",
    "vatarget2 = narma10(n=va_n,seed=valid_seed)\n",
    "vatarget2=torch.reshape(vatarget2,[va_n,1,1,1])\n",
    "\n",
    "#print(vatarget2.shape)\n",
    "\n",
    "\n",
    "env2 = pt.Environment(dt=1e-12,t1=0.5e-9,wl=1.55e-6, enable_grad=True)\n",
    "\n",
    "\n",
    "with env2:\n",
    "    loss=torch.nn.MSELoss()\n",
    "    vadet2 = Reservoir(source=vastream2.rename(\"t\"))\n",
    "    print(vadet2.shape)\n",
    "    mse_err = loss(vadet2, vatarget2)\n",
    "\n",
    "    print(f\"mse:\\t{mse_err.item()}\")\n",
    "\n",
    "\n",
    "    Reservoir.plot(vadet2)\n",
    "    #mse.plot(vastream)\n",
    "    Reservoir.plot(vatarget2, latency=0.0)\n",
    "    plt.xlim(0,10)\n",
    "    plt.xlabel(\"t [ns]\")\n",
    "    plt.show()\n",
    "    "
   ]
  },
  {
   "cell_type": "raw",
   "id": "herbal-mouse",
   "metadata": {},
   "source": [
    "valid_seed=22\n",
    "\n",
    "\n",
    "def bits(Rb=1e9,Rs=10e9,seed=20):\n",
    "    torch.manual_seed(seed)\n",
    "    x=pt.BitStreamGenerator(bitrate=Rb, samplerate=Rs, cutoff_frequency=None, filter_order=1, seed=None, dtype=float, device=None)\n"
   ]
  },
  {
   "cell_type": "raw",
   "id": "material-armenia",
   "metadata": {},
   "source": [
    "mohab=torch.ones(2)\n",
    "\n",
    "x=pt.BitStreamGenerator(bitrate=5e9, samplerate=5e9, cutoff_frequency=1e9, filter_order=1, seed=None, dtype=float, device=None)\n",
    "x(mohab,seed=valid_seed)"
   ]
  },
  {
   "cell_type": "raw",
   "id": "light-slave",
   "metadata": {},
   "source": [
    "x=torch.tensor([10,1])\n",
    "print(x)"
   ]
  },
  {
   "cell_type": "raw",
   "id": "falling-retail",
   "metadata": {},
   "source": [
    "x = (2)*torch.rand(100)\n",
    "y = x.int()\n",
    "y "
   ]
  },
  {
   "cell_type": "code",
   "execution_count": null,
   "id": "acoustic-inflation",
   "metadata": {},
   "outputs": [],
   "source": []
  },
  {
   "cell_type": "code",
   "execution_count": null,
   "id": "nervous-arcade",
   "metadata": {},
   "outputs": [],
   "source": []
  }
 ],
 "metadata": {
  "kernelspec": {
   "display_name": "Python 3",
   "language": "python",
   "name": "python3"
  },
  "language_info": {
   "codemirror_mode": {
    "name": "ipython",
    "version": 3
   },
   "file_extension": ".py",
   "mimetype": "text/x-python",
   "name": "python",
   "nbconvert_exporter": "python",
   "pygments_lexer": "ipython3",
   "version": "3.8.5"
  }
 },
 "nbformat": 4,
 "nbformat_minor": 5
}
