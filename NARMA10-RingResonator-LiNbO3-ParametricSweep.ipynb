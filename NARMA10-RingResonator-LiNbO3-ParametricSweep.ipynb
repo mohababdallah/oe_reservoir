{
 "cells": [
  {
   "cell_type": "code",
   "execution_count": 1,
   "id": "classical-depression",
   "metadata": {},
   "outputs": [],
   "source": [
    "#import sys\n",
    "#sys.path.append('C:\\\\Users\\\\mabdalla\\\\OneDrive - ec-lyon.fr\\\\Documents\\\\Python Scripts\\\\packages')\n",
    "import torch\n",
    "import numpy as np\n",
    "import photontorch as pt\n",
    "from sklearn import datasets, linear_model\n",
    "from sklearn.metrics import mean_squared_error\n",
    "from photontorch.environment import current_environment\n",
    "import matplotlib.pyplot as plt\n",
    "from scipy.signal import butter#, lfilter\n",
    "import pandas as pd \n",
    "from photontorch import BoundedParameter\n",
    "from ipywidgets import interact\n",
    "from tqdm.notebook import trange"
   ]
  },
  {
   "cell_type": "markdown",
   "id": "acceptable-wagner",
   "metadata": {},
   "source": [
    "### Components: PD, MZ Intensity Modulator, Electronic combiner, Optical Attenuator, Readout, CW Laser"
   ]
  },
  {
   "cell_type": "code",
   "execution_count": 2,
   "id": "complicated-salmon",
   "metadata": {},
   "outputs": [],
   "source": [
    "class attenuator(pt.Component):\n",
    "    \"\"\"\n",
    "    The optical attenuator is a 2 port component that attenuates the signal. It is bounded from 0 to 1.\n",
    "    The attenuation is trainable.\n",
    "    \n",
    "    Terms: \n",
    "    Optical  0 ----- 1  Optical\n",
    "            \n",
    "    \"\"\"      \n",
    "    num_ports = 2\n",
    "    \n",
    "    def __init__(\n",
    "    self,\n",
    "    trainable = True,\n",
    "    attenuation = 0.0,\n",
    "    name=None,\n",
    "    ): \n",
    "        #self.attenuation = float(attenuation)\n",
    "        super(attenuator, self).__init__(name=name)\n",
    "        if trainable:\n",
    "            self.attenuation = BoundedParameter(\n",
    "            data=torch.tensor(attenuation, device=self.device),\n",
    "            bounds=(0.0, 1.0),\n",
    "            requires_grad=True,\n",
    "            )\n",
    "        else:\n",
    "            self.attenuation = pt.Buffer(\n",
    "            data=torch.tensor(attenuation, device=self.device), requires_grad=False\n",
    "            )\n",
    "    \n",
    "    def set_S(self, S):\n",
    "        S[0,:,0,1] = S[0,:,1,0] = (1.0-self.attenuation) ** 0.5\n",
    "\n",
    "        return S"
   ]
  },
  {
   "cell_type": "code",
   "execution_count": 3,
   "id": "crucial-lender",
   "metadata": {},
   "outputs": [],
   "source": [
    "class cw_laser(pt.Component):\n",
    "    \"\"\"\n",
    "    A CW Laser used when multiple sources are desired in a network. Note: When linking, terminate the component's \n",
    "    0 port.\n",
    "\n",
    "    Terms: \n",
    "        0 ---- 1 \n",
    "    \n",
    "    \"\"\"    \n",
    "    num_ports = 2\n",
    "    \n",
    "    def __init__(\n",
    "        self,\n",
    "        Power = 1,  #Input the laser power here\n",
    "        delay=0,\n",
    "        name = None,  \n",
    "        ):\n",
    "        \n",
    "        super(cw_laser,self).__init__(name=name) \n",
    "        self.Power = float(Power)\n",
    "        self.delay = float(delay)\n",
    "            \n",
    "    def action(self, t, x_in, x_out):\n",
    "        #Input port actions\n",
    "        a_in, _ = x_in\n",
    "        x_out[0] = a_in  #Nothing happens to input node\n",
    "        \n",
    "        if t<self.delay:\n",
    "            x_out[1,0] = 0.0001  #Zero noise floor\n",
    "        else:\n",
    "            x_out[1,0] = self.Power ** 0.5\n",
    "        \n",
    "        x_out[1,1] = 0  #no phase information, this is a real source\n",
    "        \n",
    "        #print(x_out[1,0])  #for debugging\n",
    "        \n",
    "    def set_actions_at(self, actions_at):\n",
    "        actions_at[:] = 1\n",
    "        \n",
    "    def set_S(self, S):\n",
    "        S[0,:,0,0] = 1.0\n",
    "        S[0,:,1,1] = 1.0\n",
    "        return S"
   ]
  },
  {
   "cell_type": "code",
   "execution_count": 4,
   "id": "insured-apollo",
   "metadata": {},
   "outputs": [],
   "source": [
    "class mask(pt.Component):\n",
    "    \"\"\"\n",
    "    A masking signal that is either binary or from a standard distribution.\n",
    "\n",
    "    Terms: \n",
    "        0 ---- 1 \n",
    "    \n",
    "    \"\"\"       \n",
    "    num_ports = 2\n",
    "    \n",
    "    def __init__(\n",
    "        self,\n",
    "        m_length = 5,\n",
    "        mask_vector=torch.ones(5),\n",
    "        name=None,\n",
    "    ):\n",
    "        \n",
    "        super(mask,self).__init__(name=name)\n",
    "        self.m_length = int(m_length)\n",
    "        self.mask_vector = mask_vector\n",
    "        self.counter = -1\n",
    "        \n",
    "        #print(x)\n",
    "        \n",
    "        \n",
    "    def action(self,t,x_in,x_out):\n",
    "        a_in, _ = x_in\n",
    "        \n",
    "        x_out[0] = a_in  #Nothing happens to input node        \n",
    "        \n",
    "        self.counter = self.counter + 1\n",
    "            \n",
    "        x_out[1] = a_in * self.mask_vector[self.counter]\n",
    "        #print(x_out[1])\n",
    "        if self.counter == self.m_length-1:\n",
    "            self.counter = -1\n",
    "            \n",
    "    def set_actions_at(self, actions_at):\n",
    "        actions_at[:] = 1\n",
    "        \n",
    "    def set_S(self,S):\n",
    "        S[0,:,0,0] = 1.0\n",
    "        S[0,:,1,1] = 1.0\n",
    "        return S"
   ]
  },
  {
   "cell_type": "markdown",
   "id": "systematic-yorkshire",
   "metadata": {},
   "source": [
    "### Constructing the Reservoir Circuit"
   ]
  },
  {
   "cell_type": "code",
   "execution_count": 5,
   "id": "graduate-slovakia",
   "metadata": {},
   "outputs": [
    {
     "name": "stdout",
     "output_type": "stream",
     "text": [
      "Buffer containing:\n",
      "tensor([], dtype=torch.int64)\n"
     ]
    }
   ],
   "source": [
    "class ring_reservoir(pt.Network):\n",
    "    def __init__(self, las_pow = 1, attenuation=0.1, wg_delay=1e-9, wg_phase=0, ring_per=2*np.pi*6.75e-6, tr=0.9,\n",
    "                 nodes=25, mask_vector=torch.ones(10, dtype=torch.float64), \n",
    "                 weights = 0.1*torch.rand(25, dtype=torch.float64),\n",
    "                 neff = 2.2111, ng = 2.2637):\n",
    "        super(ring_reservoir, self).__init__()\n",
    "        self.src = pt.Source()\n",
    "        self.det = pt.Detector()\n",
    "        self.mask = mask(m_length=nodes, mask_vector = mask_vector)\n",
    "        self.att = attenuator(attenuation=attenuation, trainable = False) \n",
    "        self.laser = cw_laser(Power=las_pow, delay=0) \n",
    "        self.term = pt.Term()\n",
    "        self.dc1 = self.dc2 = pt.DirectionalCoupler(1-tr)\n",
    "        self.wg1 = self.wg2 = pt.Waveguide(0.5*ring_per, loss=0, neff=neff)\n",
    "        self.fb = pt.Waveguide(neff= neff, length=299792458*wg_delay/2.2637, phase=wg_phase, trainable = False)\n",
    "        self.link('src:0', '0:mask:1', '0:dc1:2', '0:wg1:1', '1:dc2:3', '0:det')\n",
    "        self.link('dc1:3', '0:wg2:1', '0:dc2:2', '0:fb:1', '0:att:1', '1:dc1')\n",
    "print(torch.where(ring_reservoir().free_ports_at)[0])"
   ]
  },
  {
   "cell_type": "markdown",
   "id": "owned-fellow",
   "metadata": {},
   "source": [
    "## Simulation Setup"
   ]
  },
  {
   "cell_type": "code",
   "execution_count": 6,
   "id": "active-ratio",
   "metadata": {},
   "outputs": [],
   "source": [
    "'''------- Generate uniform distribution between 0 and 0.5 -------'''\n",
    "\n",
    "class Narma10Generator(np.random.RandomState):\n",
    "    def __call__(self, N, B=1):\n",
    "        u = (0.5-0)*self.rand(N,B)\n",
    "        return u"
   ]
  },
  {
   "cell_type": "code",
   "execution_count": 7,
   "id": "covered-antenna",
   "metadata": {},
   "outputs": [],
   "source": [
    "'''----- NARMA10 TASK -----'''\n",
    "\n",
    "def narma10_jaeger(x):\n",
    "    \n",
    "    size = len(x)\n",
    "    y = torch.zeros(x.shape)\n",
    "    for n in range(10,size):\n",
    "        y[n] = 0.3*y[n-1] + 0.05*y[n-1]*(y[n-1]+y[n-2]+y[n-3] \\\n",
    "            +y[n-4]+y[n-5]+y[n-6]+y[n-7]+y[n-8]+y[n-9]+y[n-10]) \\\n",
    "            + 1.5*x[n-10]*x[n-1] + 0.1\n",
    "    return y\n",
    "\n",
    "TARGET = narma10_jaeger "
   ]
  },
  {
   "cell_type": "code",
   "execution_count": 8,
   "id": "chinese-malta",
   "metadata": {
    "scrolled": true
   },
   "outputs": [],
   "source": [
    "'''----- SIMULATION PARAMETERS -----'''\n",
    "\n",
    "# ----- General Parameters -----\n",
    "c = 299792458.0                           #[m/s] speed of light\n",
    "Rb = 1e9                                  #[1/s] bitrate\n",
    "Rs = 25*Rb                                #[1/s] samplerate\n",
    "fc = 2e9                                  #[1/s] cutoff frequency for bit generation\n",
    "wl0 = 1550e-9                             #[m] center wavelength\n",
    "neff = 2.2111     #1.4440                 #[1] effective index of fiber spool\n",
    "ng = 2.2637       #1.4626                 #[1] group index of fiber spool\n",
    "neff_mzm = 2.2111                         #[1] Effective index of lithium niobate (modulator)\n",
    "ng_mzm = 2.2637                           #[1] Group index of lithium niobate (modulator)\n",
    "N = 3200                                  #[1] number of bits per bit stream\n",
    "B = 1                                     #[1] Number of bit streams in training batch\n",
    "sim_time = N/Rb                           #[s] Simulation time \n",
    "wl = 1.55e-6                              #[m] Center Wavelength\n",
    "Str, Sva, Ste = (10, 2, 3)                #[1] train seed, validation seed, test seed\n",
    "Lr = (1/Rb) * (c/ng)                      #[m] reference length (distance a bit travels during one bit period)\n",
    "device = torch.device(\"cpu\")              #default device used\n",
    "torch.set_default_dtype(torch.float32)    #default dtype used\n",
    "torch.manual_seed(3)                      #pytorch seed\n",
    "np.random.seed(42)                        #numpy seed\n",
    "\n",
    "\n",
    "# ----- Reservoir Parameters -----\n",
    "las_pow = 1                               #[1] Laser Power\n",
    "wg_delay = 1.0e-9 #equivalent to k=1      #[s] Delay tao(Along with group index below)\n",
    "fb_att = 0.1                              #[1] Feedback attenuation (strength)\n",
    "fb_phase=0                                #[1] Feedback phase\n",
    "Nodes = np.int(Rs/Rb)                     #[1] Number of virtual nodes in the reservoir\n",
    "mask_vector = 0.1*torch.rand(Nodes)       #Input mask"
   ]
  },
  {
   "cell_type": "code",
   "execution_count": 9,
   "id": "tight-tunnel",
   "metadata": {},
   "outputs": [],
   "source": [
    "'''----- BITSTREAM GENERATION -----'''\n",
    "streamgen = pt.BitStreamGenerator(bitrate=Rb, samplerate=Rs, cutoff_frequency=fc, device=device)"
   ]
  },
  {
   "cell_type": "code",
   "execution_count": 10,
   "id": "miniature-substitute",
   "metadata": {},
   "outputs": [],
   "source": [
    "'''----- BITSTREAMS -----'''\n",
    "\n",
    "# train streams\n",
    "trbits = Narma10Generator(seed=Str)(N, 1) # N bits per train stream, B train streams per batch.\n",
    "trstream = streamgen(trbits)\n",
    "trtarget = streamgen(TARGET(trbits))\n",
    "trtarget_np = trtarget.numpy()\n",
    "\n",
    "# validation streams\n",
    "vabits = Narma10Generator(seed=Sva)(N, 1) # N bits per validation stream, 1 validation stream per batch.\n",
    "vastream = streamgen(vabits)\n",
    "vatarget = streamgen(TARGET(vabits))\n",
    "\n",
    "# test streams\n",
    "tebits = Narma10Generator(seed=Ste)(N, 1) # N*B bits per teststream\n",
    "testream = streamgen(tebits)\n",
    "tetarget = streamgen(TARGET(tebits)) \n",
    "\n",
    "# Simulation time tensor\n",
    "t = np.arange(trstream.shape[0], dtype=np.float32)*(1/Rs)"
   ]
  },
  {
   "cell_type": "code",
   "execution_count": 11,
   "id": "homeless-welding",
   "metadata": {},
   "outputs": [],
   "source": [
    "'''----- Mean Squared Error Function -----'''\n",
    "def mse_new(target,predicted,Bits):\n",
    "    mse = 0\n",
    "    for i in range(target.size):\n",
    "        mse = mse+(target[i] - predicted[i])**2\n",
    "    mse = mse/Bits\n",
    "    return mse"
   ]
  },
  {
   "cell_type": "markdown",
   "id": "satisfied-bangkok",
   "metadata": {},
   "source": [
    "## Training for Narma10 Task"
   ]
  },
  {
   "cell_type": "code",
   "execution_count": 20,
   "id": "precise-hepatitis",
   "metadata": {
    "scrolled": true
   },
   "outputs": [
    {
     "name": "stderr",
     "output_type": "stream",
     "text": [
      "C:\\Users\\mabdalla\\Anaconda3\\envs\\photonics\\lib\\site-packages\\photontorch\\networks\\network.py:450: RuntimeWarning: Simulation timestep might be too large, resulting in zero delays for nonzero lengths. Try using a smaller timestep\n",
      "  warnings.warn(\n"
     ]
    },
    {
     "name": "stdout",
     "output_type": "stream",
     "text": [
      " phase: 0.0, attenuation: 0.1, transmission = 0.0, nmse: 0.7483218000823836\n"
     ]
    },
    {
     "name": "stderr",
     "output_type": "stream",
     "text": [
      "C:\\Users\\mabdalla\\Anaconda3\\envs\\photonics\\lib\\site-packages\\photontorch\\networks\\network.py:450: RuntimeWarning: Simulation timestep might be too large, resulting in zero delays for nonzero lengths. Try using a smaller timestep\n",
      "  warnings.warn(\n"
     ]
    },
    {
     "name": "stdout",
     "output_type": "stream",
     "text": [
      " phase: 0.0, attenuation: 0.1, transmission = 0.2, nmse: 0.2706441005553666\n"
     ]
    },
    {
     "name": "stderr",
     "output_type": "stream",
     "text": [
      "C:\\Users\\mabdalla\\Anaconda3\\envs\\photonics\\lib\\site-packages\\photontorch\\networks\\network.py:450: RuntimeWarning: Simulation timestep might be too large, resulting in zero delays for nonzero lengths. Try using a smaller timestep\n",
      "  warnings.warn(\n"
     ]
    },
    {
     "name": "stdout",
     "output_type": "stream",
     "text": [
      " phase: 0.0, attenuation: 0.1, transmission = 0.4, nmse: 0.5774536363263801\n"
     ]
    },
    {
     "name": "stderr",
     "output_type": "stream",
     "text": [
      "C:\\Users\\mabdalla\\Anaconda3\\envs\\photonics\\lib\\site-packages\\photontorch\\networks\\network.py:450: RuntimeWarning: Simulation timestep might be too large, resulting in zero delays for nonzero lengths. Try using a smaller timestep\n",
      "  warnings.warn(\n"
     ]
    },
    {
     "name": "stdout",
     "output_type": "stream",
     "text": [
      " phase: 0.0, attenuation: 0.1, transmission = 0.6000000000000001, nmse: 0.6536362324101946\n"
     ]
    },
    {
     "name": "stderr",
     "output_type": "stream",
     "text": [
      "C:\\Users\\mabdalla\\Anaconda3\\envs\\photonics\\lib\\site-packages\\photontorch\\networks\\network.py:450: RuntimeWarning: Simulation timestep might be too large, resulting in zero delays for nonzero lengths. Try using a smaller timestep\n",
      "  warnings.warn(\n"
     ]
    },
    {
     "name": "stdout",
     "output_type": "stream",
     "text": [
      " phase: 0.0, attenuation: 0.1, transmission = 0.8, nmse: 0.6657369249803841\n"
     ]
    },
    {
     "name": "stderr",
     "output_type": "stream",
     "text": [
      "C:\\Users\\mabdalla\\Anaconda3\\envs\\photonics\\lib\\site-packages\\photontorch\\networks\\network.py:450: RuntimeWarning: Simulation timestep might be too large, resulting in zero delays for nonzero lengths. Try using a smaller timestep\n",
      "  warnings.warn(\n"
     ]
    },
    {
     "name": "stdout",
     "output_type": "stream",
     "text": [
      " phase: 0.0, attenuation: 0.30000000000000004, transmission = 0.0, nmse: 0.7483218000823836\n"
     ]
    },
    {
     "name": "stderr",
     "output_type": "stream",
     "text": [
      "C:\\Users\\mabdalla\\Anaconda3\\envs\\photonics\\lib\\site-packages\\photontorch\\networks\\network.py:450: RuntimeWarning: Simulation timestep might be too large, resulting in zero delays for nonzero lengths. Try using a smaller timestep\n",
      "  warnings.warn(\n"
     ]
    },
    {
     "name": "stdout",
     "output_type": "stream",
     "text": [
      " phase: 0.0, attenuation: 0.30000000000000004, transmission = 0.2, nmse: 0.375414348037423\n"
     ]
    },
    {
     "name": "stderr",
     "output_type": "stream",
     "text": [
      "C:\\Users\\mabdalla\\Anaconda3\\envs\\photonics\\lib\\site-packages\\photontorch\\networks\\network.py:450: RuntimeWarning: Simulation timestep might be too large, resulting in zero delays for nonzero lengths. Try using a smaller timestep\n",
      "  warnings.warn(\n"
     ]
    },
    {
     "name": "stdout",
     "output_type": "stream",
     "text": [
      " phase: 0.0, attenuation: 0.30000000000000004, transmission = 0.4, nmse: 0.618444447785609\n"
     ]
    },
    {
     "name": "stderr",
     "output_type": "stream",
     "text": [
      "C:\\Users\\mabdalla\\Anaconda3\\envs\\photonics\\lib\\site-packages\\photontorch\\networks\\network.py:450: RuntimeWarning: Simulation timestep might be too large, resulting in zero delays for nonzero lengths. Try using a smaller timestep\n",
      "  warnings.warn(\n"
     ]
    },
    {
     "name": "stdout",
     "output_type": "stream",
     "text": [
      " phase: 0.0, attenuation: 0.30000000000000004, transmission = 0.6000000000000001, nmse: 0.6595202210900091\n"
     ]
    },
    {
     "name": "stderr",
     "output_type": "stream",
     "text": [
      "C:\\Users\\mabdalla\\Anaconda3\\envs\\photonics\\lib\\site-packages\\photontorch\\networks\\network.py:450: RuntimeWarning: Simulation timestep might be too large, resulting in zero delays for nonzero lengths. Try using a smaller timestep\n",
      "  warnings.warn(\n"
     ]
    },
    {
     "name": "stdout",
     "output_type": "stream",
     "text": [
      " phase: 0.0, attenuation: 0.30000000000000004, transmission = 0.8, nmse: 0.6658774499317852\n"
     ]
    },
    {
     "name": "stderr",
     "output_type": "stream",
     "text": [
      "C:\\Users\\mabdalla\\Anaconda3\\envs\\photonics\\lib\\site-packages\\photontorch\\networks\\network.py:450: RuntimeWarning: Simulation timestep might be too large, resulting in zero delays for nonzero lengths. Try using a smaller timestep\n",
      "  warnings.warn(\n"
     ]
    },
    {
     "name": "stdout",
     "output_type": "stream",
     "text": [
      " phase: 0.0, attenuation: 0.5, transmission = 0.0, nmse: 0.7483218000823836\n"
     ]
    },
    {
     "name": "stderr",
     "output_type": "stream",
     "text": [
      "C:\\Users\\mabdalla\\Anaconda3\\envs\\photonics\\lib\\site-packages\\photontorch\\networks\\network.py:450: RuntimeWarning: Simulation timestep might be too large, resulting in zero delays for nonzero lengths. Try using a smaller timestep\n",
      "  warnings.warn(\n"
     ]
    },
    {
     "name": "stdout",
     "output_type": "stream",
     "text": [
      " phase: 0.0, attenuation: 0.5, transmission = 0.2, nmse: 0.5111943736253952\n"
     ]
    },
    {
     "name": "stderr",
     "output_type": "stream",
     "text": [
      "C:\\Users\\mabdalla\\Anaconda3\\envs\\photonics\\lib\\site-packages\\photontorch\\networks\\network.py:450: RuntimeWarning: Simulation timestep might be too large, resulting in zero delays for nonzero lengths. Try using a smaller timestep\n",
      "  warnings.warn(\n"
     ]
    },
    {
     "name": "stdout",
     "output_type": "stream",
     "text": [
      " phase: 0.0, attenuation: 0.5, transmission = 0.4, nmse: 0.6470844911795187\n"
     ]
    },
    {
     "name": "stderr",
     "output_type": "stream",
     "text": [
      "C:\\Users\\mabdalla\\Anaconda3\\envs\\photonics\\lib\\site-packages\\photontorch\\networks\\network.py:450: RuntimeWarning: Simulation timestep might be too large, resulting in zero delays for nonzero lengths. Try using a smaller timestep\n",
      "  warnings.warn(\n"
     ]
    },
    {
     "name": "stdout",
     "output_type": "stream",
     "text": [
      " phase: 0.0, attenuation: 0.5, transmission = 0.6000000000000001, nmse: 0.6633402739035706\n"
     ]
    },
    {
     "name": "stderr",
     "output_type": "stream",
     "text": [
      "C:\\Users\\mabdalla\\Anaconda3\\envs\\photonics\\lib\\site-packages\\photontorch\\networks\\network.py:450: RuntimeWarning: Simulation timestep might be too large, resulting in zero delays for nonzero lengths. Try using a smaller timestep\n",
      "  warnings.warn(\n"
     ]
    },
    {
     "name": "stdout",
     "output_type": "stream",
     "text": [
      " phase: 0.0, attenuation: 0.5, transmission = 0.8, nmse: 0.6659092861484333\n"
     ]
    },
    {
     "name": "stderr",
     "output_type": "stream",
     "text": [
      "C:\\Users\\mabdalla\\Anaconda3\\envs\\photonics\\lib\\site-packages\\photontorch\\networks\\network.py:450: RuntimeWarning: Simulation timestep might be too large, resulting in zero delays for nonzero lengths. Try using a smaller timestep\n",
      "  warnings.warn(\n"
     ]
    },
    {
     "name": "stdout",
     "output_type": "stream",
     "text": [
      " phase: 0.0, attenuation: 0.7000000000000001, transmission = 0.0, nmse: 0.7483218000823836\n"
     ]
    },
    {
     "name": "stderr",
     "output_type": "stream",
     "text": [
      "C:\\Users\\mabdalla\\Anaconda3\\envs\\photonics\\lib\\site-packages\\photontorch\\networks\\network.py:450: RuntimeWarning: Simulation timestep might be too large, resulting in zero delays for nonzero lengths. Try using a smaller timestep\n",
      "  warnings.warn(\n"
     ]
    },
    {
     "name": "stdout",
     "output_type": "stream",
     "text": [
      " phase: 0.0, attenuation: 0.7000000000000001, transmission = 0.2, nmse: 0.6265712874559538\n"
     ]
    },
    {
     "name": "stderr",
     "output_type": "stream",
     "text": [
      "C:\\Users\\mabdalla\\Anaconda3\\envs\\photonics\\lib\\site-packages\\photontorch\\networks\\network.py:450: RuntimeWarning: Simulation timestep might be too large, resulting in zero delays for nonzero lengths. Try using a smaller timestep\n",
      "  warnings.warn(\n"
     ]
    },
    {
     "name": "stdout",
     "output_type": "stream",
     "text": [
      " phase: 0.0, attenuation: 0.7000000000000001, transmission = 0.4, nmse: 0.6619361604976791\n"
     ]
    },
    {
     "name": "stderr",
     "output_type": "stream",
     "text": [
      "C:\\Users\\mabdalla\\Anaconda3\\envs\\photonics\\lib\\site-packages\\photontorch\\networks\\network.py:450: RuntimeWarning: Simulation timestep might be too large, resulting in zero delays for nonzero lengths. Try using a smaller timestep\n",
      "  warnings.warn(\n"
     ]
    },
    {
     "name": "stdout",
     "output_type": "stream",
     "text": [
      " phase: 0.0, attenuation: 0.7000000000000001, transmission = 0.6000000000000001, nmse: 0.6653394885759684\n"
     ]
    },
    {
     "name": "stderr",
     "output_type": "stream",
     "text": [
      "C:\\Users\\mabdalla\\Anaconda3\\envs\\photonics\\lib\\site-packages\\photontorch\\networks\\network.py:450: RuntimeWarning: Simulation timestep might be too large, resulting in zero delays for nonzero lengths. Try using a smaller timestep\n",
      "  warnings.warn(\n"
     ]
    },
    {
     "name": "stdout",
     "output_type": "stream",
     "text": [
      " phase: 0.0, attenuation: 0.7000000000000001, transmission = 0.8, nmse: 0.6658405972013879\n"
     ]
    },
    {
     "name": "stderr",
     "output_type": "stream",
     "text": [
      "C:\\Users\\mabdalla\\Anaconda3\\envs\\photonics\\lib\\site-packages\\photontorch\\networks\\network.py:450: RuntimeWarning: Simulation timestep might be too large, resulting in zero delays for nonzero lengths. Try using a smaller timestep\n",
      "  warnings.warn(\n"
     ]
    },
    {
     "name": "stdout",
     "output_type": "stream",
     "text": [
      " phase: 0.0, attenuation: 0.9, transmission = 0.0, nmse: 0.7483218000823836\n"
     ]
    },
    {
     "name": "stderr",
     "output_type": "stream",
     "text": [
      "C:\\Users\\mabdalla\\Anaconda3\\envs\\photonics\\lib\\site-packages\\photontorch\\networks\\network.py:450: RuntimeWarning: Simulation timestep might be too large, resulting in zero delays for nonzero lengths. Try using a smaller timestep\n",
      "  warnings.warn(\n"
     ]
    },
    {
     "name": "stdout",
     "output_type": "stream",
     "text": [
      " phase: 0.0, attenuation: 0.9, transmission = 0.2, nmse: 0.6647783662002791\n"
     ]
    },
    {
     "name": "stderr",
     "output_type": "stream",
     "text": [
      "C:\\Users\\mabdalla\\Anaconda3\\envs\\photonics\\lib\\site-packages\\photontorch\\networks\\network.py:450: RuntimeWarning: Simulation timestep might be too large, resulting in zero delays for nonzero lengths. Try using a smaller timestep\n",
      "  warnings.warn(\n"
     ]
    },
    {
     "name": "stdout",
     "output_type": "stream",
     "text": [
      " phase: 0.0, attenuation: 0.9, transmission = 0.4, nmse: 0.6668534552863601\n"
     ]
    },
    {
     "name": "stderr",
     "output_type": "stream",
     "text": [
      "C:\\Users\\mabdalla\\Anaconda3\\envs\\photonics\\lib\\site-packages\\photontorch\\networks\\network.py:450: RuntimeWarning: Simulation timestep might be too large, resulting in zero delays for nonzero lengths. Try using a smaller timestep\n",
      "  warnings.warn(\n"
     ]
    },
    {
     "name": "stdout",
     "output_type": "stream",
     "text": [
      " phase: 0.0, attenuation: 0.9, transmission = 0.6000000000000001, nmse: 0.6657038978394826\n"
     ]
    },
    {
     "name": "stderr",
     "output_type": "stream",
     "text": [
      "C:\\Users\\mabdalla\\Anaconda3\\envs\\photonics\\lib\\site-packages\\photontorch\\networks\\network.py:450: RuntimeWarning: Simulation timestep might be too large, resulting in zero delays for nonzero lengths. Try using a smaller timestep\n",
      "  warnings.warn(\n"
     ]
    },
    {
     "name": "stdout",
     "output_type": "stream",
     "text": [
      " phase: 0.0, attenuation: 0.9, transmission = 0.8, nmse: 0.6656315621325845\n"
     ]
    },
    {
     "name": "stderr",
     "output_type": "stream",
     "text": [
      "C:\\Users\\mabdalla\\Anaconda3\\envs\\photonics\\lib\\site-packages\\photontorch\\networks\\network.py:450: RuntimeWarning: Simulation timestep might be too large, resulting in zero delays for nonzero lengths. Try using a smaller timestep\n",
      "  warnings.warn(\n"
     ]
    },
    {
     "name": "stdout",
     "output_type": "stream",
     "text": [
      " phase: 0.6283185307179586, attenuation: 0.1, transmission = 0.0, nmse: 0.7483218000823836\n"
     ]
    },
    {
     "name": "stderr",
     "output_type": "stream",
     "text": [
      "C:\\Users\\mabdalla\\Anaconda3\\envs\\photonics\\lib\\site-packages\\photontorch\\networks\\network.py:450: RuntimeWarning: Simulation timestep might be too large, resulting in zero delays for nonzero lengths. Try using a smaller timestep\n",
      "  warnings.warn(\n"
     ]
    },
    {
     "name": "stdout",
     "output_type": "stream",
     "text": [
      " phase: 0.6283185307179586, attenuation: 0.1, transmission = 0.2, nmse: 0.32369841618573014\n"
     ]
    },
    {
     "name": "stderr",
     "output_type": "stream",
     "text": [
      "C:\\Users\\mabdalla\\Anaconda3\\envs\\photonics\\lib\\site-packages\\photontorch\\networks\\network.py:450: RuntimeWarning: Simulation timestep might be too large, resulting in zero delays for nonzero lengths. Try using a smaller timestep\n",
      "  warnings.warn(\n"
     ]
    },
    {
     "name": "stdout",
     "output_type": "stream",
     "text": [
      " phase: 0.6283185307179586, attenuation: 0.1, transmission = 0.4, nmse: 0.5201141496742847\n"
     ]
    },
    {
     "name": "stderr",
     "output_type": "stream",
     "text": [
      "C:\\Users\\mabdalla\\Anaconda3\\envs\\photonics\\lib\\site-packages\\photontorch\\networks\\network.py:450: RuntimeWarning: Simulation timestep might be too large, resulting in zero delays for nonzero lengths. Try using a smaller timestep\n",
      "  warnings.warn(\n"
     ]
    },
    {
     "name": "stdout",
     "output_type": "stream",
     "text": [
      " phase: 0.6283185307179586, attenuation: 0.1, transmission = 0.6000000000000001, nmse: 0.651313689220966\n"
     ]
    },
    {
     "name": "stderr",
     "output_type": "stream",
     "text": [
      "C:\\Users\\mabdalla\\Anaconda3\\envs\\photonics\\lib\\site-packages\\photontorch\\networks\\network.py:450: RuntimeWarning: Simulation timestep might be too large, resulting in zero delays for nonzero lengths. Try using a smaller timestep\n",
      "  warnings.warn(\n"
     ]
    },
    {
     "name": "stdout",
     "output_type": "stream",
     "text": [
      " phase: 0.6283185307179586, attenuation: 0.1, transmission = 0.8, nmse: 0.6670954298662616\n"
     ]
    },
    {
     "name": "stderr",
     "output_type": "stream",
     "text": [
      "C:\\Users\\mabdalla\\Anaconda3\\envs\\photonics\\lib\\site-packages\\photontorch\\networks\\network.py:450: RuntimeWarning: Simulation timestep might be too large, resulting in zero delays for nonzero lengths. Try using a smaller timestep\n",
      "  warnings.warn(\n"
     ]
    },
    {
     "name": "stdout",
     "output_type": "stream",
     "text": [
      " phase: 0.6283185307179586, attenuation: 0.30000000000000004, transmission = 0.0, nmse: 0.7483218000823836\n"
     ]
    },
    {
     "name": "stderr",
     "output_type": "stream",
     "text": [
      "C:\\Users\\mabdalla\\Anaconda3\\envs\\photonics\\lib\\site-packages\\photontorch\\networks\\network.py:450: RuntimeWarning: Simulation timestep might be too large, resulting in zero delays for nonzero lengths. Try using a smaller timestep\n",
      "  warnings.warn(\n"
     ]
    },
    {
     "name": "stdout",
     "output_type": "stream",
     "text": [
      " phase: 0.6283185307179586, attenuation: 0.30000000000000004, transmission = 0.2, nmse: 0.3605101995767852\n"
     ]
    },
    {
     "name": "stderr",
     "output_type": "stream",
     "text": [
      "C:\\Users\\mabdalla\\Anaconda3\\envs\\photonics\\lib\\site-packages\\photontorch\\networks\\network.py:450: RuntimeWarning: Simulation timestep might be too large, resulting in zero delays for nonzero lengths. Try using a smaller timestep\n",
      "  warnings.warn(\n"
     ]
    },
    {
     "name": "stdout",
     "output_type": "stream",
     "text": [
      " phase: 0.6283185307179586, attenuation: 0.30000000000000004, transmission = 0.4, nmse: 0.5763868310370237\n"
     ]
    },
    {
     "name": "stderr",
     "output_type": "stream",
     "text": [
      "C:\\Users\\mabdalla\\Anaconda3\\envs\\photonics\\lib\\site-packages\\photontorch\\networks\\network.py:450: RuntimeWarning: Simulation timestep might be too large, resulting in zero delays for nonzero lengths. Try using a smaller timestep\n",
      "  warnings.warn(\n"
     ]
    },
    {
     "name": "stdout",
     "output_type": "stream",
     "text": [
      " phase: 0.6283185307179586, attenuation: 0.30000000000000004, transmission = 0.6000000000000001, nmse: 0.660576806614636\n"
     ]
    },
    {
     "name": "stderr",
     "output_type": "stream",
     "text": [
      "C:\\Users\\mabdalla\\Anaconda3\\envs\\photonics\\lib\\site-packages\\photontorch\\networks\\network.py:450: RuntimeWarning: Simulation timestep might be too large, resulting in zero delays for nonzero lengths. Try using a smaller timestep\n",
      "  warnings.warn(\n"
     ]
    },
    {
     "name": "stdout",
     "output_type": "stream",
     "text": [
      " phase: 0.6283185307179586, attenuation: 0.30000000000000004, transmission = 0.8, nmse: 0.6671213158856599\n"
     ]
    },
    {
     "name": "stderr",
     "output_type": "stream",
     "text": [
      "C:\\Users\\mabdalla\\Anaconda3\\envs\\photonics\\lib\\site-packages\\photontorch\\networks\\network.py:450: RuntimeWarning: Simulation timestep might be too large, resulting in zero delays for nonzero lengths. Try using a smaller timestep\n",
      "  warnings.warn(\n"
     ]
    },
    {
     "name": "stdout",
     "output_type": "stream",
     "text": [
      " phase: 0.6283185307179586, attenuation: 0.5, transmission = 0.0, nmse: 0.7483218000823836\n"
     ]
    },
    {
     "name": "stderr",
     "output_type": "stream",
     "text": [
      "C:\\Users\\mabdalla\\Anaconda3\\envs\\photonics\\lib\\site-packages\\photontorch\\networks\\network.py:450: RuntimeWarning: Simulation timestep might be too large, resulting in zero delays for nonzero lengths. Try using a smaller timestep\n",
      "  warnings.warn(\n"
     ]
    },
    {
     "name": "stdout",
     "output_type": "stream",
     "text": [
      " phase: 0.6283185307179586, attenuation: 0.5, transmission = 0.2, nmse: 0.44554537827289564\n"
     ]
    },
    {
     "name": "stderr",
     "output_type": "stream",
     "text": [
      "C:\\Users\\mabdalla\\Anaconda3\\envs\\photonics\\lib\\site-packages\\photontorch\\networks\\network.py:450: RuntimeWarning: Simulation timestep might be too large, resulting in zero delays for nonzero lengths. Try using a smaller timestep\n",
      "  warnings.warn(\n"
     ]
    },
    {
     "name": "stdout",
     "output_type": "stream",
     "text": [
      " phase: 0.6283185307179586, attenuation: 0.5, transmission = 0.4, nmse: 0.6278621636162928\n"
     ]
    },
    {
     "name": "stderr",
     "output_type": "stream",
     "text": [
      "C:\\Users\\mabdalla\\Anaconda3\\envs\\photonics\\lib\\site-packages\\photontorch\\networks\\network.py:450: RuntimeWarning: Simulation timestep might be too large, resulting in zero delays for nonzero lengths. Try using a smaller timestep\n",
      "  warnings.warn(\n"
     ]
    },
    {
     "name": "stdout",
     "output_type": "stream",
     "text": [
      " phase: 0.6283185307179586, attenuation: 0.5, transmission = 0.6000000000000001, nmse: 0.6657614317427673\n"
     ]
    },
    {
     "name": "stderr",
     "output_type": "stream",
     "text": [
      "C:\\Users\\mabdalla\\Anaconda3\\envs\\photonics\\lib\\site-packages\\photontorch\\networks\\network.py:450: RuntimeWarning: Simulation timestep might be too large, resulting in zero delays for nonzero lengths. Try using a smaller timestep\n",
      "  warnings.warn(\n"
     ]
    },
    {
     "name": "stdout",
     "output_type": "stream",
     "text": [
      " phase: 0.6283185307179586, attenuation: 0.5, transmission = 0.8, nmse: 0.6666968868246798\n"
     ]
    },
    {
     "name": "stderr",
     "output_type": "stream",
     "text": [
      "C:\\Users\\mabdalla\\Anaconda3\\envs\\photonics\\lib\\site-packages\\photontorch\\networks\\network.py:450: RuntimeWarning: Simulation timestep might be too large, resulting in zero delays for nonzero lengths. Try using a smaller timestep\n",
      "  warnings.warn(\n"
     ]
    },
    {
     "name": "stdout",
     "output_type": "stream",
     "text": [
      " phase: 0.6283185307179586, attenuation: 0.7000000000000001, transmission = 0.0, nmse: 0.7483218000823836\n"
     ]
    },
    {
     "name": "stderr",
     "output_type": "stream",
     "text": [
      "C:\\Users\\mabdalla\\Anaconda3\\envs\\photonics\\lib\\site-packages\\photontorch\\networks\\network.py:450: RuntimeWarning: Simulation timestep might be too large, resulting in zero delays for nonzero lengths. Try using a smaller timestep\n",
      "  warnings.warn(\n"
     ]
    },
    {
     "name": "stdout",
     "output_type": "stream",
     "text": [
      " phase: 0.6283185307179586, attenuation: 0.7000000000000001, transmission = 0.2, nmse: 0.5787749681593011\n"
     ]
    },
    {
     "name": "stderr",
     "output_type": "stream",
     "text": [
      "C:\\Users\\mabdalla\\Anaconda3\\envs\\photonics\\lib\\site-packages\\photontorch\\networks\\network.py:450: RuntimeWarning: Simulation timestep might be too large, resulting in zero delays for nonzero lengths. Try using a smaller timestep\n",
      "  warnings.warn(\n"
     ]
    },
    {
     "name": "stdout",
     "output_type": "stream",
     "text": [
      " phase: 0.6283185307179586, attenuation: 0.7000000000000001, transmission = 0.4, nmse: 0.6603223859944028\n"
     ]
    },
    {
     "name": "stderr",
     "output_type": "stream",
     "text": [
      "C:\\Users\\mabdalla\\Anaconda3\\envs\\photonics\\lib\\site-packages\\photontorch\\networks\\network.py:450: RuntimeWarning: Simulation timestep might be too large, resulting in zero delays for nonzero lengths. Try using a smaller timestep\n",
      "  warnings.warn(\n"
     ]
    },
    {
     "name": "stdout",
     "output_type": "stream",
     "text": [
      " phase: 0.6283185307179586, attenuation: 0.7000000000000001, transmission = 0.6000000000000001, nmse: 0.6678988002227005\n"
     ]
    },
    {
     "name": "stderr",
     "output_type": "stream",
     "text": [
      "C:\\Users\\mabdalla\\Anaconda3\\envs\\photonics\\lib\\site-packages\\photontorch\\networks\\network.py:450: RuntimeWarning: Simulation timestep might be too large, resulting in zero delays for nonzero lengths. Try using a smaller timestep\n",
      "  warnings.warn(\n"
     ]
    },
    {
     "name": "stdout",
     "output_type": "stream",
     "text": [
      " phase: 0.6283185307179586, attenuation: 0.7000000000000001, transmission = 0.8, nmse: 0.6659413811061348\n"
     ]
    },
    {
     "name": "stderr",
     "output_type": "stream",
     "text": [
      "C:\\Users\\mabdalla\\Anaconda3\\envs\\photonics\\lib\\site-packages\\photontorch\\networks\\network.py:450: RuntimeWarning: Simulation timestep might be too large, resulting in zero delays for nonzero lengths. Try using a smaller timestep\n",
      "  warnings.warn(\n"
     ]
    },
    {
     "name": "stdout",
     "output_type": "stream",
     "text": [
      " phase: 0.6283185307179586, attenuation: 0.9, transmission = 0.0, nmse: 0.7483218000823836\n"
     ]
    },
    {
     "name": "stderr",
     "output_type": "stream",
     "text": [
      "C:\\Users\\mabdalla\\Anaconda3\\envs\\photonics\\lib\\site-packages\\photontorch\\networks\\network.py:450: RuntimeWarning: Simulation timestep might be too large, resulting in zero delays for nonzero lengths. Try using a smaller timestep\n",
      "  warnings.warn(\n"
     ]
    },
    {
     "name": "stdout",
     "output_type": "stream",
     "text": [
      " phase: 0.6283185307179586, attenuation: 0.9, transmission = 0.2, nmse: 0.6647455843816654\n"
     ]
    },
    {
     "name": "stderr",
     "output_type": "stream",
     "text": [
      "C:\\Users\\mabdalla\\Anaconda3\\envs\\photonics\\lib\\site-packages\\photontorch\\networks\\network.py:450: RuntimeWarning: Simulation timestep might be too large, resulting in zero delays for nonzero lengths. Try using a smaller timestep\n",
      "  warnings.warn(\n"
     ]
    },
    {
     "name": "stdout",
     "output_type": "stream",
     "text": [
      " phase: 0.6283185307179586, attenuation: 0.9, transmission = 0.4, nmse: 0.6689343614037383\n"
     ]
    },
    {
     "name": "stderr",
     "output_type": "stream",
     "text": [
      "C:\\Users\\mabdalla\\Anaconda3\\envs\\photonics\\lib\\site-packages\\photontorch\\networks\\network.py:450: RuntimeWarning: Simulation timestep might be too large, resulting in zero delays for nonzero lengths. Try using a smaller timestep\n",
      "  warnings.warn(\n"
     ]
    },
    {
     "name": "stdout",
     "output_type": "stream",
     "text": [
      " phase: 0.6283185307179586, attenuation: 0.9, transmission = 0.6000000000000001, nmse: 0.6680668416792207\n"
     ]
    },
    {
     "name": "stderr",
     "output_type": "stream",
     "text": [
      "C:\\Users\\mabdalla\\Anaconda3\\envs\\photonics\\lib\\site-packages\\photontorch\\networks\\network.py:450: RuntimeWarning: Simulation timestep might be too large, resulting in zero delays for nonzero lengths. Try using a smaller timestep\n",
      "  warnings.warn(\n"
     ]
    },
    {
     "name": "stdout",
     "output_type": "stream",
     "text": [
      " phase: 0.6283185307179586, attenuation: 0.9, transmission = 0.8, nmse: 0.6686768859791635\n"
     ]
    },
    {
     "name": "stderr",
     "output_type": "stream",
     "text": [
      "C:\\Users\\mabdalla\\Anaconda3\\envs\\photonics\\lib\\site-packages\\photontorch\\networks\\network.py:450: RuntimeWarning: Simulation timestep might be too large, resulting in zero delays for nonzero lengths. Try using a smaller timestep\n",
      "  warnings.warn(\n"
     ]
    },
    {
     "name": "stdout",
     "output_type": "stream",
     "text": [
      " phase: 1.2566370614359172, attenuation: 0.1, transmission = 0.0, nmse: 0.7483218000823836\n"
     ]
    },
    {
     "name": "stderr",
     "output_type": "stream",
     "text": [
      "C:\\Users\\mabdalla\\Anaconda3\\envs\\photonics\\lib\\site-packages\\photontorch\\networks\\network.py:450: RuntimeWarning: Simulation timestep might be too large, resulting in zero delays for nonzero lengths. Try using a smaller timestep\n",
      "  warnings.warn(\n"
     ]
    },
    {
     "name": "stdout",
     "output_type": "stream",
     "text": [
      " phase: 1.2566370614359172, attenuation: 0.1, transmission = 0.2, nmse: 0.3613413799292038\n"
     ]
    },
    {
     "name": "stderr",
     "output_type": "stream",
     "text": [
      "C:\\Users\\mabdalla\\Anaconda3\\envs\\photonics\\lib\\site-packages\\photontorch\\networks\\network.py:450: RuntimeWarning: Simulation timestep might be too large, resulting in zero delays for nonzero lengths. Try using a smaller timestep\n",
      "  warnings.warn(\n"
     ]
    },
    {
     "name": "stdout",
     "output_type": "stream",
     "text": [
      " phase: 1.2566370614359172, attenuation: 0.1, transmission = 0.4, nmse: 0.5899016175379503\n"
     ]
    },
    {
     "name": "stderr",
     "output_type": "stream",
     "text": [
      "C:\\Users\\mabdalla\\Anaconda3\\envs\\photonics\\lib\\site-packages\\photontorch\\networks\\network.py:450: RuntimeWarning: Simulation timestep might be too large, resulting in zero delays for nonzero lengths. Try using a smaller timestep\n",
      "  warnings.warn(\n"
     ]
    },
    {
     "name": "stdout",
     "output_type": "stream",
     "text": [
      " phase: 1.2566370614359172, attenuation: 0.1, transmission = 0.6000000000000001, nmse: 0.6555290066439632\n"
     ]
    },
    {
     "name": "stderr",
     "output_type": "stream",
     "text": [
      "C:\\Users\\mabdalla\\Anaconda3\\envs\\photonics\\lib\\site-packages\\photontorch\\networks\\network.py:450: RuntimeWarning: Simulation timestep might be too large, resulting in zero delays for nonzero lengths. Try using a smaller timestep\n",
      "  warnings.warn(\n"
     ]
    },
    {
     "name": "stdout",
     "output_type": "stream",
     "text": [
      " phase: 1.2566370614359172, attenuation: 0.1, transmission = 0.8, nmse: 0.6652107777564596\n"
     ]
    },
    {
     "name": "stderr",
     "output_type": "stream",
     "text": [
      "C:\\Users\\mabdalla\\Anaconda3\\envs\\photonics\\lib\\site-packages\\photontorch\\networks\\network.py:450: RuntimeWarning: Simulation timestep might be too large, resulting in zero delays for nonzero lengths. Try using a smaller timestep\n",
      "  warnings.warn(\n"
     ]
    },
    {
     "name": "stdout",
     "output_type": "stream",
     "text": [
      " phase: 1.2566370614359172, attenuation: 0.30000000000000004, transmission = 0.0, nmse: 0.7483218000823836\n"
     ]
    },
    {
     "name": "stderr",
     "output_type": "stream",
     "text": [
      "C:\\Users\\mabdalla\\Anaconda3\\envs\\photonics\\lib\\site-packages\\photontorch\\networks\\network.py:450: RuntimeWarning: Simulation timestep might be too large, resulting in zero delays for nonzero lengths. Try using a smaller timestep\n",
      "  warnings.warn(\n"
     ]
    },
    {
     "name": "stdout",
     "output_type": "stream",
     "text": [
      " phase: 1.2566370614359172, attenuation: 0.30000000000000004, transmission = 0.2, nmse: 0.4246059737844823\n"
     ]
    },
    {
     "name": "stderr",
     "output_type": "stream",
     "text": [
      "C:\\Users\\mabdalla\\Anaconda3\\envs\\photonics\\lib\\site-packages\\photontorch\\networks\\network.py:450: RuntimeWarning: Simulation timestep might be too large, resulting in zero delays for nonzero lengths. Try using a smaller timestep\n",
      "  warnings.warn(\n"
     ]
    },
    {
     "name": "stdout",
     "output_type": "stream",
     "text": [
      " phase: 1.2566370614359172, attenuation: 0.30000000000000004, transmission = 0.4, nmse: 0.6193136146808673\n"
     ]
    },
    {
     "name": "stderr",
     "output_type": "stream",
     "text": [
      "C:\\Users\\mabdalla\\Anaconda3\\envs\\photonics\\lib\\site-packages\\photontorch\\networks\\network.py:450: RuntimeWarning: Simulation timestep might be too large, resulting in zero delays for nonzero lengths. Try using a smaller timestep\n",
      "  warnings.warn(\n"
     ]
    },
    {
     "name": "stdout",
     "output_type": "stream",
     "text": [
      " phase: 1.2566370614359172, attenuation: 0.30000000000000004, transmission = 0.6000000000000001, nmse: 0.6596112360491351\n"
     ]
    },
    {
     "name": "stderr",
     "output_type": "stream",
     "text": [
      "C:\\Users\\mabdalla\\Anaconda3\\envs\\photonics\\lib\\site-packages\\photontorch\\networks\\network.py:450: RuntimeWarning: Simulation timestep might be too large, resulting in zero delays for nonzero lengths. Try using a smaller timestep\n",
      "  warnings.warn(\n"
     ]
    },
    {
     "name": "stdout",
     "output_type": "stream",
     "text": [
      " phase: 1.2566370614359172, attenuation: 0.30000000000000004, transmission = 0.8, nmse: 0.6656004047371875\n"
     ]
    },
    {
     "name": "stderr",
     "output_type": "stream",
     "text": [
      "C:\\Users\\mabdalla\\Anaconda3\\envs\\photonics\\lib\\site-packages\\photontorch\\networks\\network.py:450: RuntimeWarning: Simulation timestep might be too large, resulting in zero delays for nonzero lengths. Try using a smaller timestep\n",
      "  warnings.warn(\n"
     ]
    },
    {
     "name": "stdout",
     "output_type": "stream",
     "text": [
      " phase: 1.2566370614359172, attenuation: 0.5, transmission = 0.0, nmse: 0.7483218000823836\n"
     ]
    },
    {
     "name": "stderr",
     "output_type": "stream",
     "text": [
      "C:\\Users\\mabdalla\\Anaconda3\\envs\\photonics\\lib\\site-packages\\photontorch\\networks\\network.py:450: RuntimeWarning: Simulation timestep might be too large, resulting in zero delays for nonzero lengths. Try using a smaller timestep\n",
      "  warnings.warn(\n"
     ]
    },
    {
     "name": "stdout",
     "output_type": "stream",
     "text": [
      " phase: 1.2566370614359172, attenuation: 0.5, transmission = 0.2, nmse: 0.511712215541818\n"
     ]
    },
    {
     "name": "stderr",
     "output_type": "stream",
     "text": [
      "C:\\Users\\mabdalla\\Anaconda3\\envs\\photonics\\lib\\site-packages\\photontorch\\networks\\network.py:450: RuntimeWarning: Simulation timestep might be too large, resulting in zero delays for nonzero lengths. Try using a smaller timestep\n",
      "  warnings.warn(\n"
     ]
    },
    {
     "name": "stdout",
     "output_type": "stream",
     "text": [
      " phase: 1.2566370614359172, attenuation: 0.5, transmission = 0.4, nmse: 0.6413733777819499\n"
     ]
    },
    {
     "name": "stderr",
     "output_type": "stream",
     "text": [
      "C:\\Users\\mabdalla\\Anaconda3\\envs\\photonics\\lib\\site-packages\\photontorch\\networks\\network.py:450: RuntimeWarning: Simulation timestep might be too large, resulting in zero delays for nonzero lengths. Try using a smaller timestep\n",
      "  warnings.warn(\n"
     ]
    },
    {
     "name": "stdout",
     "output_type": "stream",
     "text": [
      " phase: 1.2566370614359172, attenuation: 0.5, transmission = 0.6000000000000001, nmse: 0.6626954684337495\n"
     ]
    },
    {
     "name": "stderr",
     "output_type": "stream",
     "text": [
      "C:\\Users\\mabdalla\\Anaconda3\\envs\\photonics\\lib\\site-packages\\photontorch\\networks\\network.py:450: RuntimeWarning: Simulation timestep might be too large, resulting in zero delays for nonzero lengths. Try using a smaller timestep\n",
      "  warnings.warn(\n"
     ]
    },
    {
     "name": "stdout",
     "output_type": "stream",
     "text": [
      " phase: 1.2566370614359172, attenuation: 0.5, transmission = 0.8, nmse: 0.6657425044540469\n"
     ]
    },
    {
     "name": "stderr",
     "output_type": "stream",
     "text": [
      "C:\\Users\\mabdalla\\Anaconda3\\envs\\photonics\\lib\\site-packages\\photontorch\\networks\\network.py:450: RuntimeWarning: Simulation timestep might be too large, resulting in zero delays for nonzero lengths. Try using a smaller timestep\n",
      "  warnings.warn(\n"
     ]
    },
    {
     "name": "stdout",
     "output_type": "stream",
     "text": [
      " phase: 1.2566370614359172, attenuation: 0.7000000000000001, transmission = 0.0, nmse: 0.7483218000823836\n"
     ]
    },
    {
     "name": "stderr",
     "output_type": "stream",
     "text": [
      "C:\\Users\\mabdalla\\Anaconda3\\envs\\photonics\\lib\\site-packages\\photontorch\\networks\\network.py:450: RuntimeWarning: Simulation timestep might be too large, resulting in zero delays for nonzero lengths. Try using a smaller timestep\n",
      "  warnings.warn(\n"
     ]
    },
    {
     "name": "stdout",
     "output_type": "stream",
     "text": [
      " phase: 1.2566370614359172, attenuation: 0.7000000000000001, transmission = 0.2, nmse: 0.5970746041371261\n"
     ]
    },
    {
     "name": "stderr",
     "output_type": "stream",
     "text": [
      "C:\\Users\\mabdalla\\Anaconda3\\envs\\photonics\\lib\\site-packages\\photontorch\\networks\\network.py:450: RuntimeWarning: Simulation timestep might be too large, resulting in zero delays for nonzero lengths. Try using a smaller timestep\n",
      "  warnings.warn(\n"
     ]
    },
    {
     "name": "stdout",
     "output_type": "stream",
     "text": [
      " phase: 1.2566370614359172, attenuation: 0.7000000000000001, transmission = 0.4, nmse: 0.6558180202877835\n"
     ]
    },
    {
     "name": "stderr",
     "output_type": "stream",
     "text": [
      "C:\\Users\\mabdalla\\Anaconda3\\envs\\photonics\\lib\\site-packages\\photontorch\\networks\\network.py:450: RuntimeWarning: Simulation timestep might be too large, resulting in zero delays for nonzero lengths. Try using a smaller timestep\n",
      "  warnings.warn(\n"
     ]
    },
    {
     "name": "stdout",
     "output_type": "stream",
     "text": [
      " phase: 1.2566370614359172, attenuation: 0.7000000000000001, transmission = 0.6000000000000001, nmse: 0.6648656868374886\n"
     ]
    },
    {
     "name": "stderr",
     "output_type": "stream",
     "text": [
      "C:\\Users\\mabdalla\\Anaconda3\\envs\\photonics\\lib\\site-packages\\photontorch\\networks\\network.py:450: RuntimeWarning: Simulation timestep might be too large, resulting in zero delays for nonzero lengths. Try using a smaller timestep\n",
      "  warnings.warn(\n"
     ]
    },
    {
     "name": "stdout",
     "output_type": "stream",
     "text": [
      " phase: 1.2566370614359172, attenuation: 0.7000000000000001, transmission = 0.8, nmse: 0.6655371947489512\n"
     ]
    },
    {
     "name": "stderr",
     "output_type": "stream",
     "text": [
      "C:\\Users\\mabdalla\\Anaconda3\\envs\\photonics\\lib\\site-packages\\photontorch\\networks\\network.py:450: RuntimeWarning: Simulation timestep might be too large, resulting in zero delays for nonzero lengths. Try using a smaller timestep\n",
      "  warnings.warn(\n"
     ]
    },
    {
     "name": "stdout",
     "output_type": "stream",
     "text": [
      " phase: 1.2566370614359172, attenuation: 0.9, transmission = 0.0, nmse: 0.7483218000823836\n"
     ]
    },
    {
     "name": "stderr",
     "output_type": "stream",
     "text": [
      "C:\\Users\\mabdalla\\Anaconda3\\envs\\photonics\\lib\\site-packages\\photontorch\\networks\\network.py:450: RuntimeWarning: Simulation timestep might be too large, resulting in zero delays for nonzero lengths. Try using a smaller timestep\n",
      "  warnings.warn(\n"
     ]
    },
    {
     "name": "stdout",
     "output_type": "stream",
     "text": [
      " phase: 1.2566370614359172, attenuation: 0.9, transmission = 0.2, nmse: 0.6503353328080838\n"
     ]
    },
    {
     "name": "stderr",
     "output_type": "stream",
     "text": [
      "C:\\Users\\mabdalla\\Anaconda3\\envs\\photonics\\lib\\site-packages\\photontorch\\networks\\network.py:450: RuntimeWarning: Simulation timestep might be too large, resulting in zero delays for nonzero lengths. Try using a smaller timestep\n",
      "  warnings.warn(\n"
     ]
    },
    {
     "name": "stdout",
     "output_type": "stream",
     "text": [
      " phase: 1.2566370614359172, attenuation: 0.9, transmission = 0.4, nmse: 0.6650068565025906\n"
     ]
    },
    {
     "name": "stderr",
     "output_type": "stream",
     "text": [
      "C:\\Users\\mabdalla\\Anaconda3\\envs\\photonics\\lib\\site-packages\\photontorch\\networks\\network.py:450: RuntimeWarning: Simulation timestep might be too large, resulting in zero delays for nonzero lengths. Try using a smaller timestep\n",
      "  warnings.warn(\n"
     ]
    },
    {
     "name": "stdout",
     "output_type": "stream",
     "text": [
      " phase: 1.2566370614359172, attenuation: 0.9, transmission = 0.6000000000000001, nmse: 0.6657181965807542\n"
     ]
    },
    {
     "name": "stderr",
     "output_type": "stream",
     "text": [
      "C:\\Users\\mabdalla\\Anaconda3\\envs\\photonics\\lib\\site-packages\\photontorch\\networks\\network.py:450: RuntimeWarning: Simulation timestep might be too large, resulting in zero delays for nonzero lengths. Try using a smaller timestep\n",
      "  warnings.warn(\n"
     ]
    },
    {
     "name": "stdout",
     "output_type": "stream",
     "text": [
      " phase: 1.2566370614359172, attenuation: 0.9, transmission = 0.8, nmse: 0.6665128807418634\n"
     ]
    },
    {
     "name": "stderr",
     "output_type": "stream",
     "text": [
      "C:\\Users\\mabdalla\\Anaconda3\\envs\\photonics\\lib\\site-packages\\photontorch\\networks\\network.py:450: RuntimeWarning: Simulation timestep might be too large, resulting in zero delays for nonzero lengths. Try using a smaller timestep\n",
      "  warnings.warn(\n"
     ]
    },
    {
     "name": "stdout",
     "output_type": "stream",
     "text": [
      " phase: 1.8849555921538759, attenuation: 0.1, transmission = 0.0, nmse: 0.7483218000823836\n"
     ]
    },
    {
     "name": "stderr",
     "output_type": "stream",
     "text": [
      "C:\\Users\\mabdalla\\Anaconda3\\envs\\photonics\\lib\\site-packages\\photontorch\\networks\\network.py:450: RuntimeWarning: Simulation timestep might be too large, resulting in zero delays for nonzero lengths. Try using a smaller timestep\n",
      "  warnings.warn(\n"
     ]
    },
    {
     "name": "stdout",
     "output_type": "stream",
     "text": [
      " phase: 1.8849555921538759, attenuation: 0.1, transmission = 0.2, nmse: 0.4856417520375462\n"
     ]
    },
    {
     "name": "stderr",
     "output_type": "stream",
     "text": [
      "C:\\Users\\mabdalla\\Anaconda3\\envs\\photonics\\lib\\site-packages\\photontorch\\networks\\network.py:450: RuntimeWarning: Simulation timestep might be too large, resulting in zero delays for nonzero lengths. Try using a smaller timestep\n",
      "  warnings.warn(\n"
     ]
    },
    {
     "name": "stdout",
     "output_type": "stream",
     "text": [
      " phase: 1.8849555921538759, attenuation: 0.1, transmission = 0.4, nmse: 0.6071540407381821\n"
     ]
    },
    {
     "name": "stderr",
     "output_type": "stream",
     "text": [
      "C:\\Users\\mabdalla\\Anaconda3\\envs\\photonics\\lib\\site-packages\\photontorch\\networks\\network.py:450: RuntimeWarning: Simulation timestep might be too large, resulting in zero delays for nonzero lengths. Try using a smaller timestep\n",
      "  warnings.warn(\n"
     ]
    },
    {
     "name": "stdout",
     "output_type": "stream",
     "text": [
      " phase: 1.8849555921538759, attenuation: 0.1, transmission = 0.6000000000000001, nmse: 0.6371927944915354\n"
     ]
    },
    {
     "name": "stderr",
     "output_type": "stream",
     "text": [
      "C:\\Users\\mabdalla\\Anaconda3\\envs\\photonics\\lib\\site-packages\\photontorch\\networks\\network.py:450: RuntimeWarning: Simulation timestep might be too large, resulting in zero delays for nonzero lengths. Try using a smaller timestep\n",
      "  warnings.warn(\n"
     ]
    },
    {
     "name": "stdout",
     "output_type": "stream",
     "text": [
      " phase: 1.8849555921538759, attenuation: 0.1, transmission = 0.8, nmse: 0.6624589648883901\n"
     ]
    },
    {
     "name": "stderr",
     "output_type": "stream",
     "text": [
      "C:\\Users\\mabdalla\\Anaconda3\\envs\\photonics\\lib\\site-packages\\photontorch\\networks\\network.py:450: RuntimeWarning: Simulation timestep might be too large, resulting in zero delays for nonzero lengths. Try using a smaller timestep\n",
      "  warnings.warn(\n"
     ]
    },
    {
     "name": "stdout",
     "output_type": "stream",
     "text": [
      " phase: 1.8849555921538759, attenuation: 0.30000000000000004, transmission = 0.0, nmse: 0.7483218000823836\n"
     ]
    },
    {
     "name": "stderr",
     "output_type": "stream",
     "text": [
      "C:\\Users\\mabdalla\\Anaconda3\\envs\\photonics\\lib\\site-packages\\photontorch\\networks\\network.py:450: RuntimeWarning: Simulation timestep might be too large, resulting in zero delays for nonzero lengths. Try using a smaller timestep\n",
      "  warnings.warn(\n"
     ]
    },
    {
     "name": "stdout",
     "output_type": "stream",
     "text": [
      " phase: 1.8849555921538759, attenuation: 0.30000000000000004, transmission = 0.2, nmse: 0.5381439802200765\n"
     ]
    },
    {
     "name": "stderr",
     "output_type": "stream",
     "text": [
      "C:\\Users\\mabdalla\\Anaconda3\\envs\\photonics\\lib\\site-packages\\photontorch\\networks\\network.py:450: RuntimeWarning: Simulation timestep might be too large, resulting in zero delays for nonzero lengths. Try using a smaller timestep\n",
      "  warnings.warn(\n"
     ]
    },
    {
     "name": "stdout",
     "output_type": "stream",
     "text": [
      " phase: 1.8849555921538759, attenuation: 0.30000000000000004, transmission = 0.4, nmse: 0.6095603507116677\n"
     ]
    },
    {
     "name": "stderr",
     "output_type": "stream",
     "text": [
      "C:\\Users\\mabdalla\\Anaconda3\\envs\\photonics\\lib\\site-packages\\photontorch\\networks\\network.py:450: RuntimeWarning: Simulation timestep might be too large, resulting in zero delays for nonzero lengths. Try using a smaller timestep\n",
      "  warnings.warn(\n"
     ]
    },
    {
     "name": "stdout",
     "output_type": "stream",
     "text": [
      " phase: 1.8849555921538759, attenuation: 0.30000000000000004, transmission = 0.6000000000000001, nmse: 0.6460093554058128\n"
     ]
    },
    {
     "name": "stderr",
     "output_type": "stream",
     "text": [
      "C:\\Users\\mabdalla\\Anaconda3\\envs\\photonics\\lib\\site-packages\\photontorch\\networks\\network.py:450: RuntimeWarning: Simulation timestep might be too large, resulting in zero delays for nonzero lengths. Try using a smaller timestep\n",
      "  warnings.warn(\n"
     ]
    },
    {
     "name": "stdout",
     "output_type": "stream",
     "text": [
      " phase: 1.8849555921538759, attenuation: 0.30000000000000004, transmission = 0.8, nmse: 0.6631349907575056\n"
     ]
    },
    {
     "name": "stderr",
     "output_type": "stream",
     "text": [
      "C:\\Users\\mabdalla\\Anaconda3\\envs\\photonics\\lib\\site-packages\\photontorch\\networks\\network.py:450: RuntimeWarning: Simulation timestep might be too large, resulting in zero delays for nonzero lengths. Try using a smaller timestep\n",
      "  warnings.warn(\n"
     ]
    },
    {
     "name": "stdout",
     "output_type": "stream",
     "text": [
      " phase: 1.8849555921538759, attenuation: 0.5, transmission = 0.0, nmse: 0.7483218000823836\n"
     ]
    },
    {
     "name": "stderr",
     "output_type": "stream",
     "text": [
      "C:\\Users\\mabdalla\\Anaconda3\\envs\\photonics\\lib\\site-packages\\photontorch\\networks\\network.py:450: RuntimeWarning: Simulation timestep might be too large, resulting in zero delays for nonzero lengths. Try using a smaller timestep\n",
      "  warnings.warn(\n"
     ]
    },
    {
     "name": "stdout",
     "output_type": "stream",
     "text": [
      " phase: 1.8849555921538759, attenuation: 0.5, transmission = 0.2, nmse: 0.5839631573334172\n"
     ]
    },
    {
     "name": "stderr",
     "output_type": "stream",
     "text": [
      "C:\\Users\\mabdalla\\Anaconda3\\envs\\photonics\\lib\\site-packages\\photontorch\\networks\\network.py:450: RuntimeWarning: Simulation timestep might be too large, resulting in zero delays for nonzero lengths. Try using a smaller timestep\n",
      "  warnings.warn(\n"
     ]
    },
    {
     "name": "stdout",
     "output_type": "stream",
     "text": [
      " phase: 1.8849555921538759, attenuation: 0.5, transmission = 0.4, nmse: 0.6208687742313339\n"
     ]
    },
    {
     "name": "stderr",
     "output_type": "stream",
     "text": [
      "C:\\Users\\mabdalla\\Anaconda3\\envs\\photonics\\lib\\site-packages\\photontorch\\networks\\network.py:450: RuntimeWarning: Simulation timestep might be too large, resulting in zero delays for nonzero lengths. Try using a smaller timestep\n",
      "  warnings.warn(\n"
     ]
    },
    {
     "name": "stdout",
     "output_type": "stream",
     "text": [
      " phase: 1.8849555921538759, attenuation: 0.5, transmission = 0.6000000000000001, nmse: 0.654138027858596\n"
     ]
    },
    {
     "name": "stderr",
     "output_type": "stream",
     "text": [
      "C:\\Users\\mabdalla\\Anaconda3\\envs\\photonics\\lib\\site-packages\\photontorch\\networks\\network.py:450: RuntimeWarning: Simulation timestep might be too large, resulting in zero delays for nonzero lengths. Try using a smaller timestep\n",
      "  warnings.warn(\n"
     ]
    },
    {
     "name": "stdout",
     "output_type": "stream",
     "text": [
      " phase: 1.8849555921538759, attenuation: 0.5, transmission = 0.8, nmse: 0.6636546929132998\n"
     ]
    },
    {
     "name": "stderr",
     "output_type": "stream",
     "text": [
      "C:\\Users\\mabdalla\\Anaconda3\\envs\\photonics\\lib\\site-packages\\photontorch\\networks\\network.py:450: RuntimeWarning: Simulation timestep might be too large, resulting in zero delays for nonzero lengths. Try using a smaller timestep\n",
      "  warnings.warn(\n"
     ]
    },
    {
     "name": "stdout",
     "output_type": "stream",
     "text": [
      " phase: 1.8849555921538759, attenuation: 0.7000000000000001, transmission = 0.0, nmse: 0.7483218000823836\n"
     ]
    },
    {
     "name": "stderr",
     "output_type": "stream",
     "text": [
      "C:\\Users\\mabdalla\\Anaconda3\\envs\\photonics\\lib\\site-packages\\photontorch\\networks\\network.py:450: RuntimeWarning: Simulation timestep might be too large, resulting in zero delays for nonzero lengths. Try using a smaller timestep\n",
      "  warnings.warn(\n"
     ]
    },
    {
     "name": "stdout",
     "output_type": "stream",
     "text": [
      " phase: 1.8849555921538759, attenuation: 0.7000000000000001, transmission = 0.2, nmse: 0.6157464270066949\n"
     ]
    },
    {
     "name": "stderr",
     "output_type": "stream",
     "text": [
      "C:\\Users\\mabdalla\\Anaconda3\\envs\\photonics\\lib\\site-packages\\photontorch\\networks\\network.py:450: RuntimeWarning: Simulation timestep might be too large, resulting in zero delays for nonzero lengths. Try using a smaller timestep\n",
      "  warnings.warn(\n"
     ]
    },
    {
     "name": "stdout",
     "output_type": "stream",
     "text": [
      " phase: 1.8849555921538759, attenuation: 0.7000000000000001, transmission = 0.4, nmse: 0.6417792431689956\n"
     ]
    },
    {
     "name": "stderr",
     "output_type": "stream",
     "text": [
      "C:\\Users\\mabdalla\\Anaconda3\\envs\\photonics\\lib\\site-packages\\photontorch\\networks\\network.py:450: RuntimeWarning: Simulation timestep might be too large, resulting in zero delays for nonzero lengths. Try using a smaller timestep\n",
      "  warnings.warn(\n"
     ]
    },
    {
     "name": "stdout",
     "output_type": "stream",
     "text": [
      " phase: 1.8849555921538759, attenuation: 0.7000000000000001, transmission = 0.6000000000000001, nmse: 0.6597217700082366\n"
     ]
    },
    {
     "name": "stderr",
     "output_type": "stream",
     "text": [
      "C:\\Users\\mabdalla\\Anaconda3\\envs\\photonics\\lib\\site-packages\\photontorch\\networks\\network.py:450: RuntimeWarning: Simulation timestep might be too large, resulting in zero delays for nonzero lengths. Try using a smaller timestep\n",
      "  warnings.warn(\n"
     ]
    },
    {
     "name": "stdout",
     "output_type": "stream",
     "text": [
      " phase: 1.8849555921538759, attenuation: 0.7000000000000001, transmission = 0.8, nmse: 0.6655918693694854\n"
     ]
    },
    {
     "name": "stderr",
     "output_type": "stream",
     "text": [
      "C:\\Users\\mabdalla\\Anaconda3\\envs\\photonics\\lib\\site-packages\\photontorch\\networks\\network.py:450: RuntimeWarning: Simulation timestep might be too large, resulting in zero delays for nonzero lengths. Try using a smaller timestep\n",
      "  warnings.warn(\n"
     ]
    },
    {
     "name": "stdout",
     "output_type": "stream",
     "text": [
      " phase: 1.8849555921538759, attenuation: 0.9, transmission = 0.0, nmse: 0.7483218000823836\n"
     ]
    },
    {
     "name": "stderr",
     "output_type": "stream",
     "text": [
      "C:\\Users\\mabdalla\\Anaconda3\\envs\\photonics\\lib\\site-packages\\photontorch\\networks\\network.py:450: RuntimeWarning: Simulation timestep might be too large, resulting in zero delays for nonzero lengths. Try using a smaller timestep\n",
      "  warnings.warn(\n"
     ]
    },
    {
     "name": "stdout",
     "output_type": "stream",
     "text": [
      " phase: 1.8849555921538759, attenuation: 0.9, transmission = 0.2, nmse: 0.6460362213414843\n"
     ]
    },
    {
     "name": "stderr",
     "output_type": "stream",
     "text": [
      "C:\\Users\\mabdalla\\Anaconda3\\envs\\photonics\\lib\\site-packages\\photontorch\\networks\\network.py:450: RuntimeWarning: Simulation timestep might be too large, resulting in zero delays for nonzero lengths. Try using a smaller timestep\n",
      "  warnings.warn(\n"
     ]
    },
    {
     "name": "stdout",
     "output_type": "stream",
     "text": [
      " phase: 1.8849555921538759, attenuation: 0.9, transmission = 0.4, nmse: 0.6586405936968778\n"
     ]
    },
    {
     "name": "stderr",
     "output_type": "stream",
     "text": [
      "C:\\Users\\mabdalla\\Anaconda3\\envs\\photonics\\lib\\site-packages\\photontorch\\networks\\network.py:450: RuntimeWarning: Simulation timestep might be too large, resulting in zero delays for nonzero lengths. Try using a smaller timestep\n",
      "  warnings.warn(\n"
     ]
    },
    {
     "name": "stdout",
     "output_type": "stream",
     "text": [
      " phase: 1.8849555921538759, attenuation: 0.9, transmission = 0.6000000000000001, nmse: 0.6633182785041524\n"
     ]
    },
    {
     "name": "stderr",
     "output_type": "stream",
     "text": [
      "C:\\Users\\mabdalla\\Anaconda3\\envs\\photonics\\lib\\site-packages\\photontorch\\networks\\network.py:450: RuntimeWarning: Simulation timestep might be too large, resulting in zero delays for nonzero lengths. Try using a smaller timestep\n",
      "  warnings.warn(\n"
     ]
    },
    {
     "name": "stdout",
     "output_type": "stream",
     "text": [
      " phase: 1.8849555921538759, attenuation: 0.9, transmission = 0.8, nmse: 0.6663725014112367\n"
     ]
    },
    {
     "name": "stderr",
     "output_type": "stream",
     "text": [
      "C:\\Users\\mabdalla\\Anaconda3\\envs\\photonics\\lib\\site-packages\\photontorch\\networks\\network.py:450: RuntimeWarning: Simulation timestep might be too large, resulting in zero delays for nonzero lengths. Try using a smaller timestep\n",
      "  warnings.warn(\n"
     ]
    },
    {
     "name": "stdout",
     "output_type": "stream",
     "text": [
      " phase: 2.5132741228718345, attenuation: 0.1, transmission = 0.0, nmse: 0.7483218000823836\n"
     ]
    },
    {
     "name": "stderr",
     "output_type": "stream",
     "text": [
      "C:\\Users\\mabdalla\\Anaconda3\\envs\\photonics\\lib\\site-packages\\photontorch\\networks\\network.py:450: RuntimeWarning: Simulation timestep might be too large, resulting in zero delays for nonzero lengths. Try using a smaller timestep\n",
      "  warnings.warn(\n"
     ]
    },
    {
     "name": "stdout",
     "output_type": "stream",
     "text": [
      " phase: 2.5132741228718345, attenuation: 0.1, transmission = 0.2, nmse: 0.44644037878944487\n"
     ]
    },
    {
     "name": "stderr",
     "output_type": "stream",
     "text": [
      "C:\\Users\\mabdalla\\Anaconda3\\envs\\photonics\\lib\\site-packages\\photontorch\\networks\\network.py:450: RuntimeWarning: Simulation timestep might be too large, resulting in zero delays for nonzero lengths. Try using a smaller timestep\n",
      "  warnings.warn(\n"
     ]
    },
    {
     "name": "stdout",
     "output_type": "stream",
     "text": [
      " phase: 2.5132741228718345, attenuation: 0.1, transmission = 0.4, nmse: 0.5394417682426306\n"
     ]
    },
    {
     "name": "stderr",
     "output_type": "stream",
     "text": [
      "C:\\Users\\mabdalla\\Anaconda3\\envs\\photonics\\lib\\site-packages\\photontorch\\networks\\network.py:450: RuntimeWarning: Simulation timestep might be too large, resulting in zero delays for nonzero lengths. Try using a smaller timestep\n",
      "  warnings.warn(\n"
     ]
    },
    {
     "name": "stdout",
     "output_type": "stream",
     "text": [
      " phase: 2.5132741228718345, attenuation: 0.1, transmission = 0.6000000000000001, nmse: 0.6259137547256732\n"
     ]
    },
    {
     "name": "stderr",
     "output_type": "stream",
     "text": [
      "C:\\Users\\mabdalla\\Anaconda3\\envs\\photonics\\lib\\site-packages\\photontorch\\networks\\network.py:450: RuntimeWarning: Simulation timestep might be too large, resulting in zero delays for nonzero lengths. Try using a smaller timestep\n",
      "  warnings.warn(\n"
     ]
    },
    {
     "name": "stdout",
     "output_type": "stream",
     "text": [
      " phase: 2.5132741228718345, attenuation: 0.1, transmission = 0.8, nmse: 0.6617146098110136\n"
     ]
    },
    {
     "name": "stderr",
     "output_type": "stream",
     "text": [
      "C:\\Users\\mabdalla\\Anaconda3\\envs\\photonics\\lib\\site-packages\\photontorch\\networks\\network.py:450: RuntimeWarning: Simulation timestep might be too large, resulting in zero delays for nonzero lengths. Try using a smaller timestep\n",
      "  warnings.warn(\n"
     ]
    },
    {
     "name": "stdout",
     "output_type": "stream",
     "text": [
      " phase: 2.5132741228718345, attenuation: 0.30000000000000004, transmission = 0.0, nmse: 0.7483218000823836\n"
     ]
    },
    {
     "name": "stderr",
     "output_type": "stream",
     "text": [
      "C:\\Users\\mabdalla\\Anaconda3\\envs\\photonics\\lib\\site-packages\\photontorch\\networks\\network.py:450: RuntimeWarning: Simulation timestep might be too large, resulting in zero delays for nonzero lengths. Try using a smaller timestep\n",
      "  warnings.warn(\n"
     ]
    },
    {
     "name": "stdout",
     "output_type": "stream",
     "text": [
      " phase: 2.5132741228718345, attenuation: 0.30000000000000004, transmission = 0.2, nmse: 0.4494981316586676\n"
     ]
    },
    {
     "name": "stderr",
     "output_type": "stream",
     "text": [
      "C:\\Users\\mabdalla\\Anaconda3\\envs\\photonics\\lib\\site-packages\\photontorch\\networks\\network.py:450: RuntimeWarning: Simulation timestep might be too large, resulting in zero delays for nonzero lengths. Try using a smaller timestep\n",
      "  warnings.warn(\n"
     ]
    },
    {
     "name": "stdout",
     "output_type": "stream",
     "text": [
      " phase: 2.5132741228718345, attenuation: 0.30000000000000004, transmission = 0.4, nmse: 0.5688109119114159\n"
     ]
    },
    {
     "name": "stderr",
     "output_type": "stream",
     "text": [
      "C:\\Users\\mabdalla\\Anaconda3\\envs\\photonics\\lib\\site-packages\\photontorch\\networks\\network.py:450: RuntimeWarning: Simulation timestep might be too large, resulting in zero delays for nonzero lengths. Try using a smaller timestep\n",
      "  warnings.warn(\n"
     ]
    },
    {
     "name": "stdout",
     "output_type": "stream",
     "text": [
      " phase: 2.5132741228718345, attenuation: 0.30000000000000004, transmission = 0.6000000000000001, nmse: 0.6408558569096845\n"
     ]
    },
    {
     "name": "stderr",
     "output_type": "stream",
     "text": [
      "C:\\Users\\mabdalla\\Anaconda3\\envs\\photonics\\lib\\site-packages\\photontorch\\networks\\network.py:450: RuntimeWarning: Simulation timestep might be too large, resulting in zero delays for nonzero lengths. Try using a smaller timestep\n",
      "  warnings.warn(\n"
     ]
    },
    {
     "name": "stdout",
     "output_type": "stream",
     "text": [
      " phase: 2.5132741228718345, attenuation: 0.30000000000000004, transmission = 0.8, nmse: 0.6637231667955462\n"
     ]
    },
    {
     "name": "stderr",
     "output_type": "stream",
     "text": [
      "C:\\Users\\mabdalla\\Anaconda3\\envs\\photonics\\lib\\site-packages\\photontorch\\networks\\network.py:450: RuntimeWarning: Simulation timestep might be too large, resulting in zero delays for nonzero lengths. Try using a smaller timestep\n",
      "  warnings.warn(\n"
     ]
    },
    {
     "name": "stdout",
     "output_type": "stream",
     "text": [
      " phase: 2.5132741228718345, attenuation: 0.5, transmission = 0.0, nmse: 0.7483218000823836\n"
     ]
    },
    {
     "name": "stderr",
     "output_type": "stream",
     "text": [
      "C:\\Users\\mabdalla\\Anaconda3\\envs\\photonics\\lib\\site-packages\\photontorch\\networks\\network.py:450: RuntimeWarning: Simulation timestep might be too large, resulting in zero delays for nonzero lengths. Try using a smaller timestep\n",
      "  warnings.warn(\n"
     ]
    },
    {
     "name": "stdout",
     "output_type": "stream",
     "text": [
      " phase: 2.5132741228718345, attenuation: 0.5, transmission = 0.2, nmse: 0.47496117161216256\n"
     ]
    },
    {
     "name": "stderr",
     "output_type": "stream",
     "text": [
      "C:\\Users\\mabdalla\\Anaconda3\\envs\\photonics\\lib\\site-packages\\photontorch\\networks\\network.py:450: RuntimeWarning: Simulation timestep might be too large, resulting in zero delays for nonzero lengths. Try using a smaller timestep\n",
      "  warnings.warn(\n"
     ]
    },
    {
     "name": "stdout",
     "output_type": "stream",
     "text": [
      " phase: 2.5132741228718345, attenuation: 0.5, transmission = 0.4, nmse: 0.6051688556604241\n"
     ]
    },
    {
     "name": "stderr",
     "output_type": "stream",
     "text": [
      "C:\\Users\\mabdalla\\Anaconda3\\envs\\photonics\\lib\\site-packages\\photontorch\\networks\\network.py:450: RuntimeWarning: Simulation timestep might be too large, resulting in zero delays for nonzero lengths. Try using a smaller timestep\n",
      "  warnings.warn(\n"
     ]
    },
    {
     "name": "stdout",
     "output_type": "stream",
     "text": [
      " phase: 2.5132741228718345, attenuation: 0.5, transmission = 0.6000000000000001, nmse: 0.6540059752264635\n"
     ]
    },
    {
     "name": "stderr",
     "output_type": "stream",
     "text": [
      "C:\\Users\\mabdalla\\Anaconda3\\envs\\photonics\\lib\\site-packages\\photontorch\\networks\\network.py:450: RuntimeWarning: Simulation timestep might be too large, resulting in zero delays for nonzero lengths. Try using a smaller timestep\n",
      "  warnings.warn(\n"
     ]
    },
    {
     "name": "stdout",
     "output_type": "stream",
     "text": [
      " phase: 2.5132741228718345, attenuation: 0.5, transmission = 0.8, nmse: 0.6656265867950144\n"
     ]
    },
    {
     "name": "stderr",
     "output_type": "stream",
     "text": [
      "C:\\Users\\mabdalla\\Anaconda3\\envs\\photonics\\lib\\site-packages\\photontorch\\networks\\network.py:450: RuntimeWarning: Simulation timestep might be too large, resulting in zero delays for nonzero lengths. Try using a smaller timestep\n",
      "  warnings.warn(\n"
     ]
    },
    {
     "name": "stdout",
     "output_type": "stream",
     "text": [
      " phase: 2.5132741228718345, attenuation: 0.7000000000000001, transmission = 0.0, nmse: 0.7483218000823836\n"
     ]
    },
    {
     "name": "stderr",
     "output_type": "stream",
     "text": [
      "C:\\Users\\mabdalla\\Anaconda3\\envs\\photonics\\lib\\site-packages\\photontorch\\networks\\network.py:450: RuntimeWarning: Simulation timestep might be too large, resulting in zero delays for nonzero lengths. Try using a smaller timestep\n",
      "  warnings.warn(\n"
     ]
    },
    {
     "name": "stdout",
     "output_type": "stream",
     "text": [
      " phase: 2.5132741228718345, attenuation: 0.7000000000000001, transmission = 0.2, nmse: 0.5387497570346684\n"
     ]
    },
    {
     "name": "stderr",
     "output_type": "stream",
     "text": [
      "C:\\Users\\mabdalla\\Anaconda3\\envs\\photonics\\lib\\site-packages\\photontorch\\networks\\network.py:450: RuntimeWarning: Simulation timestep might be too large, resulting in zero delays for nonzero lengths. Try using a smaller timestep\n",
      "  warnings.warn(\n"
     ]
    },
    {
     "name": "stdout",
     "output_type": "stream",
     "text": [
      " phase: 2.5132741228718345, attenuation: 0.7000000000000001, transmission = 0.4, nmse: 0.6415526394399912\n"
     ]
    },
    {
     "name": "stderr",
     "output_type": "stream",
     "text": [
      "C:\\Users\\mabdalla\\Anaconda3\\envs\\photonics\\lib\\site-packages\\photontorch\\networks\\network.py:450: RuntimeWarning: Simulation timestep might be too large, resulting in zero delays for nonzero lengths. Try using a smaller timestep\n",
      "  warnings.warn(\n"
     ]
    },
    {
     "name": "stdout",
     "output_type": "stream",
     "text": [
      " phase: 2.5132741228718345, attenuation: 0.7000000000000001, transmission = 0.6000000000000001, nmse: 0.6636706171147071\n"
     ]
    },
    {
     "name": "stderr",
     "output_type": "stream",
     "text": [
      "C:\\Users\\mabdalla\\Anaconda3\\envs\\photonics\\lib\\site-packages\\photontorch\\networks\\network.py:450: RuntimeWarning: Simulation timestep might be too large, resulting in zero delays for nonzero lengths. Try using a smaller timestep\n",
      "  warnings.warn(\n"
     ]
    },
    {
     "name": "stdout",
     "output_type": "stream",
     "text": [
      " phase: 2.5132741228718345, attenuation: 0.7000000000000001, transmission = 0.8, nmse: 0.6672577882513451\n"
     ]
    },
    {
     "name": "stderr",
     "output_type": "stream",
     "text": [
      "C:\\Users\\mabdalla\\Anaconda3\\envs\\photonics\\lib\\site-packages\\photontorch\\networks\\network.py:450: RuntimeWarning: Simulation timestep might be too large, resulting in zero delays for nonzero lengths. Try using a smaller timestep\n",
      "  warnings.warn(\n"
     ]
    },
    {
     "name": "stdout",
     "output_type": "stream",
     "text": [
      " phase: 2.5132741228718345, attenuation: 0.9, transmission = 0.0, nmse: 0.7483218000823836\n"
     ]
    },
    {
     "name": "stderr",
     "output_type": "stream",
     "text": [
      "C:\\Users\\mabdalla\\Anaconda3\\envs\\photonics\\lib\\site-packages\\photontorch\\networks\\network.py:450: RuntimeWarning: Simulation timestep might be too large, resulting in zero delays for nonzero lengths. Try using a smaller timestep\n",
      "  warnings.warn(\n"
     ]
    },
    {
     "name": "stdout",
     "output_type": "stream",
     "text": [
      " phase: 2.5132741228718345, attenuation: 0.9, transmission = 0.2, nmse: 0.6409874024802639\n"
     ]
    },
    {
     "name": "stderr",
     "output_type": "stream",
     "text": [
      "C:\\Users\\mabdalla\\Anaconda3\\envs\\photonics\\lib\\site-packages\\photontorch\\networks\\network.py:450: RuntimeWarning: Simulation timestep might be too large, resulting in zero delays for nonzero lengths. Try using a smaller timestep\n",
      "  warnings.warn(\n"
     ]
    },
    {
     "name": "stdout",
     "output_type": "stream",
     "text": [
      " phase: 2.5132741228718345, attenuation: 0.9, transmission = 0.4, nmse: 0.6644224992336903\n"
     ]
    },
    {
     "name": "stderr",
     "output_type": "stream",
     "text": [
      "C:\\Users\\mabdalla\\Anaconda3\\envs\\photonics\\lib\\site-packages\\photontorch\\networks\\network.py:450: RuntimeWarning: Simulation timestep might be too large, resulting in zero delays for nonzero lengths. Try using a smaller timestep\n",
      "  warnings.warn(\n"
     ]
    },
    {
     "name": "stdout",
     "output_type": "stream",
     "text": [
      " phase: 2.5132741228718345, attenuation: 0.9, transmission = 0.6000000000000001, nmse: 0.6674076848209994\n"
     ]
    },
    {
     "name": "stderr",
     "output_type": "stream",
     "text": [
      "C:\\Users\\mabdalla\\Anaconda3\\envs\\photonics\\lib\\site-packages\\photontorch\\networks\\network.py:450: RuntimeWarning: Simulation timestep might be too large, resulting in zero delays for nonzero lengths. Try using a smaller timestep\n",
      "  warnings.warn(\n"
     ]
    },
    {
     "name": "stdout",
     "output_type": "stream",
     "text": [
      " phase: 2.5132741228718345, attenuation: 0.9, transmission = 0.8, nmse: 0.6692922440742021\n"
     ]
    },
    {
     "name": "stderr",
     "output_type": "stream",
     "text": [
      "C:\\Users\\mabdalla\\Anaconda3\\envs\\photonics\\lib\\site-packages\\photontorch\\networks\\network.py:450: RuntimeWarning: Simulation timestep might be too large, resulting in zero delays for nonzero lengths. Try using a smaller timestep\n",
      "  warnings.warn(\n"
     ]
    },
    {
     "name": "stdout",
     "output_type": "stream",
     "text": [
      " phase: 3.141592653589793, attenuation: 0.1, transmission = 0.0, nmse: 0.7483218000823836\n"
     ]
    },
    {
     "name": "stderr",
     "output_type": "stream",
     "text": [
      "C:\\Users\\mabdalla\\Anaconda3\\envs\\photonics\\lib\\site-packages\\photontorch\\networks\\network.py:450: RuntimeWarning: Simulation timestep might be too large, resulting in zero delays for nonzero lengths. Try using a smaller timestep\n",
      "  warnings.warn(\n"
     ]
    },
    {
     "name": "stdout",
     "output_type": "stream",
     "text": [
      " phase: 3.141592653589793, attenuation: 0.1, transmission = 0.2, nmse: 0.4022932787665877\n"
     ]
    },
    {
     "name": "stderr",
     "output_type": "stream",
     "text": [
      "C:\\Users\\mabdalla\\Anaconda3\\envs\\photonics\\lib\\site-packages\\photontorch\\networks\\network.py:450: RuntimeWarning: Simulation timestep might be too large, resulting in zero delays for nonzero lengths. Try using a smaller timestep\n",
      "  warnings.warn(\n"
     ]
    },
    {
     "name": "stdout",
     "output_type": "stream",
     "text": [
      " phase: 3.141592653589793, attenuation: 0.1, transmission = 0.4, nmse: 0.5740545018540576\n"
     ]
    },
    {
     "name": "stderr",
     "output_type": "stream",
     "text": [
      "C:\\Users\\mabdalla\\Anaconda3\\envs\\photonics\\lib\\site-packages\\photontorch\\networks\\network.py:450: RuntimeWarning: Simulation timestep might be too large, resulting in zero delays for nonzero lengths. Try using a smaller timestep\n",
      "  warnings.warn(\n"
     ]
    },
    {
     "name": "stdout",
     "output_type": "stream",
     "text": [
      " phase: 3.141592653589793, attenuation: 0.1, transmission = 0.6000000000000001, nmse: 0.6474573757761648\n"
     ]
    },
    {
     "name": "stderr",
     "output_type": "stream",
     "text": [
      "C:\\Users\\mabdalla\\Anaconda3\\envs\\photonics\\lib\\site-packages\\photontorch\\networks\\network.py:450: RuntimeWarning: Simulation timestep might be too large, resulting in zero delays for nonzero lengths. Try using a smaller timestep\n",
      "  warnings.warn(\n"
     ]
    },
    {
     "name": "stdout",
     "output_type": "stream",
     "text": [
      " phase: 3.141592653589793, attenuation: 0.1, transmission = 0.8, nmse: 0.6674589196894187\n"
     ]
    },
    {
     "name": "stderr",
     "output_type": "stream",
     "text": [
      "C:\\Users\\mabdalla\\Anaconda3\\envs\\photonics\\lib\\site-packages\\photontorch\\networks\\network.py:450: RuntimeWarning: Simulation timestep might be too large, resulting in zero delays for nonzero lengths. Try using a smaller timestep\n",
      "  warnings.warn(\n"
     ]
    },
    {
     "name": "stdout",
     "output_type": "stream",
     "text": [
      " phase: 3.141592653589793, attenuation: 0.30000000000000004, transmission = 0.0, nmse: 0.7483218000823836\n"
     ]
    },
    {
     "name": "stderr",
     "output_type": "stream",
     "text": [
      "C:\\Users\\mabdalla\\Anaconda3\\envs\\photonics\\lib\\site-packages\\photontorch\\networks\\network.py:450: RuntimeWarning: Simulation timestep might be too large, resulting in zero delays for nonzero lengths. Try using a smaller timestep\n",
      "  warnings.warn(\n"
     ]
    },
    {
     "name": "stdout",
     "output_type": "stream",
     "text": [
      " phase: 3.141592653589793, attenuation: 0.30000000000000004, transmission = 0.2, nmse: 0.45740950545362824\n"
     ]
    },
    {
     "name": "stderr",
     "output_type": "stream",
     "text": [
      "C:\\Users\\mabdalla\\Anaconda3\\envs\\photonics\\lib\\site-packages\\photontorch\\networks\\network.py:450: RuntimeWarning: Simulation timestep might be too large, resulting in zero delays for nonzero lengths. Try using a smaller timestep\n",
      "  warnings.warn(\n"
     ]
    },
    {
     "name": "stdout",
     "output_type": "stream",
     "text": [
      " phase: 3.141592653589793, attenuation: 0.30000000000000004, transmission = 0.4, nmse: 0.6014778758996586\n"
     ]
    },
    {
     "name": "stderr",
     "output_type": "stream",
     "text": [
      "C:\\Users\\mabdalla\\Anaconda3\\envs\\photonics\\lib\\site-packages\\photontorch\\networks\\network.py:450: RuntimeWarning: Simulation timestep might be too large, resulting in zero delays for nonzero lengths. Try using a smaller timestep\n",
      "  warnings.warn(\n"
     ]
    },
    {
     "name": "stdout",
     "output_type": "stream",
     "text": [
      " phase: 3.141592653589793, attenuation: 0.30000000000000004, transmission = 0.6000000000000001, nmse: 0.6563876816968741\n"
     ]
    },
    {
     "name": "stderr",
     "output_type": "stream",
     "text": [
      "C:\\Users\\mabdalla\\Anaconda3\\envs\\photonics\\lib\\site-packages\\photontorch\\networks\\network.py:450: RuntimeWarning: Simulation timestep might be too large, resulting in zero delays for nonzero lengths. Try using a smaller timestep\n",
      "  warnings.warn(\n"
     ]
    },
    {
     "name": "stdout",
     "output_type": "stream",
     "text": [
      " phase: 3.141592653589793, attenuation: 0.30000000000000004, transmission = 0.8, nmse: 0.6672484021552225\n"
     ]
    },
    {
     "name": "stderr",
     "output_type": "stream",
     "text": [
      "C:\\Users\\mabdalla\\Anaconda3\\envs\\photonics\\lib\\site-packages\\photontorch\\networks\\network.py:450: RuntimeWarning: Simulation timestep might be too large, resulting in zero delays for nonzero lengths. Try using a smaller timestep\n",
      "  warnings.warn(\n"
     ]
    },
    {
     "name": "stdout",
     "output_type": "stream",
     "text": [
      " phase: 3.141592653589793, attenuation: 0.5, transmission = 0.0, nmse: 0.7483218000823836\n"
     ]
    },
    {
     "name": "stderr",
     "output_type": "stream",
     "text": [
      "C:\\Users\\mabdalla\\Anaconda3\\envs\\photonics\\lib\\site-packages\\photontorch\\networks\\network.py:450: RuntimeWarning: Simulation timestep might be too large, resulting in zero delays for nonzero lengths. Try using a smaller timestep\n",
      "  warnings.warn(\n"
     ]
    },
    {
     "name": "stdout",
     "output_type": "stream",
     "text": [
      " phase: 3.141592653589793, attenuation: 0.5, transmission = 0.2, nmse: 0.5311792337330838\n"
     ]
    },
    {
     "name": "stderr",
     "output_type": "stream",
     "text": [
      "C:\\Users\\mabdalla\\Anaconda3\\envs\\photonics\\lib\\site-packages\\photontorch\\networks\\network.py:450: RuntimeWarning: Simulation timestep might be too large, resulting in zero delays for nonzero lengths. Try using a smaller timestep\n",
      "  warnings.warn(\n"
     ]
    },
    {
     "name": "stdout",
     "output_type": "stream",
     "text": [
      " phase: 3.141592653589793, attenuation: 0.5, transmission = 0.4, nmse: 0.6301605190106495\n"
     ]
    },
    {
     "name": "stderr",
     "output_type": "stream",
     "text": [
      "C:\\Users\\mabdalla\\Anaconda3\\envs\\photonics\\lib\\site-packages\\photontorch\\networks\\network.py:450: RuntimeWarning: Simulation timestep might be too large, resulting in zero delays for nonzero lengths. Try using a smaller timestep\n",
      "  warnings.warn(\n"
     ]
    },
    {
     "name": "stdout",
     "output_type": "stream",
     "text": [
      " phase: 3.141592653589793, attenuation: 0.5, transmission = 0.6000000000000001, nmse: 0.6631609449841812\n"
     ]
    },
    {
     "name": "stderr",
     "output_type": "stream",
     "text": [
      "C:\\Users\\mabdalla\\Anaconda3\\envs\\photonics\\lib\\site-packages\\photontorch\\networks\\network.py:450: RuntimeWarning: Simulation timestep might be too large, resulting in zero delays for nonzero lengths. Try using a smaller timestep\n",
      "  warnings.warn(\n"
     ]
    },
    {
     "name": "stdout",
     "output_type": "stream",
     "text": [
      " phase: 3.141592653589793, attenuation: 0.5, transmission = 0.8, nmse: 0.666900079292082\n"
     ]
    },
    {
     "name": "stderr",
     "output_type": "stream",
     "text": [
      "C:\\Users\\mabdalla\\Anaconda3\\envs\\photonics\\lib\\site-packages\\photontorch\\networks\\network.py:450: RuntimeWarning: Simulation timestep might be too large, resulting in zero delays for nonzero lengths. Try using a smaller timestep\n",
      "  warnings.warn(\n"
     ]
    },
    {
     "name": "stdout",
     "output_type": "stream",
     "text": [
      " phase: 3.141592653589793, attenuation: 0.7000000000000001, transmission = 0.0, nmse: 0.7483218000823836\n"
     ]
    },
    {
     "name": "stderr",
     "output_type": "stream",
     "text": [
      "C:\\Users\\mabdalla\\Anaconda3\\envs\\photonics\\lib\\site-packages\\photontorch\\networks\\network.py:450: RuntimeWarning: Simulation timestep might be too large, resulting in zero delays for nonzero lengths. Try using a smaller timestep\n",
      "  warnings.warn(\n"
     ]
    },
    {
     "name": "stdout",
     "output_type": "stream",
     "text": [
      " phase: 3.141592653589793, attenuation: 0.7000000000000001, transmission = 0.2, nmse: 0.6068618303338947\n"
     ]
    },
    {
     "name": "stderr",
     "output_type": "stream",
     "text": [
      "C:\\Users\\mabdalla\\Anaconda3\\envs\\photonics\\lib\\site-packages\\photontorch\\networks\\network.py:450: RuntimeWarning: Simulation timestep might be too large, resulting in zero delays for nonzero lengths. Try using a smaller timestep\n",
      "  warnings.warn(\n"
     ]
    },
    {
     "name": "stdout",
     "output_type": "stream",
     "text": [
      " phase: 3.141592653589793, attenuation: 0.7000000000000001, transmission = 0.4, nmse: 0.6583609048828102\n"
     ]
    },
    {
     "name": "stderr",
     "output_type": "stream",
     "text": [
      "C:\\Users\\mabdalla\\Anaconda3\\envs\\photonics\\lib\\site-packages\\photontorch\\networks\\network.py:450: RuntimeWarning: Simulation timestep might be too large, resulting in zero delays for nonzero lengths. Try using a smaller timestep\n",
      "  warnings.warn(\n"
     ]
    },
    {
     "name": "stdout",
     "output_type": "stream",
     "text": [
      " phase: 3.141592653589793, attenuation: 0.7000000000000001, transmission = 0.6000000000000001, nmse: 0.6667803641533858\n"
     ]
    },
    {
     "name": "stderr",
     "output_type": "stream",
     "text": [
      "C:\\Users\\mabdalla\\Anaconda3\\envs\\photonics\\lib\\site-packages\\photontorch\\networks\\network.py:450: RuntimeWarning: Simulation timestep might be too large, resulting in zero delays for nonzero lengths. Try using a smaller timestep\n",
      "  warnings.warn(\n"
     ]
    },
    {
     "name": "stdout",
     "output_type": "stream",
     "text": [
      " phase: 3.141592653589793, attenuation: 0.7000000000000001, transmission = 0.8, nmse: 0.6664529647333632\n"
     ]
    },
    {
     "name": "stderr",
     "output_type": "stream",
     "text": [
      "C:\\Users\\mabdalla\\Anaconda3\\envs\\photonics\\lib\\site-packages\\photontorch\\networks\\network.py:450: RuntimeWarning: Simulation timestep might be too large, resulting in zero delays for nonzero lengths. Try using a smaller timestep\n",
      "  warnings.warn(\n"
     ]
    },
    {
     "name": "stdout",
     "output_type": "stream",
     "text": [
      " phase: 3.141592653589793, attenuation: 0.9, transmission = 0.0, nmse: 0.7483218000823836\n"
     ]
    },
    {
     "name": "stderr",
     "output_type": "stream",
     "text": [
      "C:\\Users\\mabdalla\\Anaconda3\\envs\\photonics\\lib\\site-packages\\photontorch\\networks\\network.py:450: RuntimeWarning: Simulation timestep might be too large, resulting in zero delays for nonzero lengths. Try using a smaller timestep\n",
      "  warnings.warn(\n"
     ]
    },
    {
     "name": "stdout",
     "output_type": "stream",
     "text": [
      " phase: 3.141592653589793, attenuation: 0.9, transmission = 0.2, nmse: 0.6622687580059015\n"
     ]
    },
    {
     "name": "stderr",
     "output_type": "stream",
     "text": [
      "C:\\Users\\mabdalla\\Anaconda3\\envs\\photonics\\lib\\site-packages\\photontorch\\networks\\network.py:450: RuntimeWarning: Simulation timestep might be too large, resulting in zero delays for nonzero lengths. Try using a smaller timestep\n",
      "  warnings.warn(\n"
     ]
    },
    {
     "name": "stdout",
     "output_type": "stream",
     "text": [
      " phase: 3.141592653589793, attenuation: 0.9, transmission = 0.4, nmse: 0.667694271141485\n"
     ]
    },
    {
     "name": "stderr",
     "output_type": "stream",
     "text": [
      "C:\\Users\\mabdalla\\Anaconda3\\envs\\photonics\\lib\\site-packages\\photontorch\\networks\\network.py:450: RuntimeWarning: Simulation timestep might be too large, resulting in zero delays for nonzero lengths. Try using a smaller timestep\n",
      "  warnings.warn(\n"
     ]
    },
    {
     "name": "stdout",
     "output_type": "stream",
     "text": [
      " phase: 3.141592653589793, attenuation: 0.9, transmission = 0.6000000000000001, nmse: 0.6668545463937815\n"
     ]
    },
    {
     "name": "stderr",
     "output_type": "stream",
     "text": [
      "C:\\Users\\mabdalla\\Anaconda3\\envs\\photonics\\lib\\site-packages\\photontorch\\networks\\network.py:450: RuntimeWarning: Simulation timestep might be too large, resulting in zero delays for nonzero lengths. Try using a smaller timestep\n",
      "  warnings.warn(\n"
     ]
    },
    {
     "name": "stdout",
     "output_type": "stream",
     "text": [
      " phase: 3.141592653589793, attenuation: 0.9, transmission = 0.8, nmse: 0.6663413054846535\n"
     ]
    },
    {
     "name": "stderr",
     "output_type": "stream",
     "text": [
      "C:\\Users\\mabdalla\\Anaconda3\\envs\\photonics\\lib\\site-packages\\photontorch\\networks\\network.py:450: RuntimeWarning: Simulation timestep might be too large, resulting in zero delays for nonzero lengths. Try using a smaller timestep\n",
      "  warnings.warn(\n"
     ]
    },
    {
     "name": "stdout",
     "output_type": "stream",
     "text": [
      " phase: 3.7699111843077517, attenuation: 0.1, transmission = 0.0, nmse: 0.7483218000823836\n"
     ]
    },
    {
     "name": "stderr",
     "output_type": "stream",
     "text": [
      "C:\\Users\\mabdalla\\Anaconda3\\envs\\photonics\\lib\\site-packages\\photontorch\\networks\\network.py:450: RuntimeWarning: Simulation timestep might be too large, resulting in zero delays for nonzero lengths. Try using a smaller timestep\n",
      "  warnings.warn(\n"
     ]
    },
    {
     "name": "stdout",
     "output_type": "stream",
     "text": [
      " phase: 3.7699111843077517, attenuation: 0.1, transmission = 0.2, nmse: 0.5191385292114454\n"
     ]
    },
    {
     "name": "stderr",
     "output_type": "stream",
     "text": [
      "C:\\Users\\mabdalla\\Anaconda3\\envs\\photonics\\lib\\site-packages\\photontorch\\networks\\network.py:450: RuntimeWarning: Simulation timestep might be too large, resulting in zero delays for nonzero lengths. Try using a smaller timestep\n",
      "  warnings.warn(\n"
     ]
    },
    {
     "name": "stdout",
     "output_type": "stream",
     "text": [
      " phase: 3.7699111843077517, attenuation: 0.1, transmission = 0.4, nmse: 0.5757110132024801\n"
     ]
    },
    {
     "name": "stderr",
     "output_type": "stream",
     "text": [
      "C:\\Users\\mabdalla\\Anaconda3\\envs\\photonics\\lib\\site-packages\\photontorch\\networks\\network.py:450: RuntimeWarning: Simulation timestep might be too large, resulting in zero delays for nonzero lengths. Try using a smaller timestep\n",
      "  warnings.warn(\n"
     ]
    },
    {
     "name": "stdout",
     "output_type": "stream",
     "text": [
      " phase: 3.7699111843077517, attenuation: 0.1, transmission = 0.6000000000000001, nmse: 0.6306990971639991\n"
     ]
    },
    {
     "name": "stderr",
     "output_type": "stream",
     "text": [
      "C:\\Users\\mabdalla\\Anaconda3\\envs\\photonics\\lib\\site-packages\\photontorch\\networks\\network.py:450: RuntimeWarning: Simulation timestep might be too large, resulting in zero delays for nonzero lengths. Try using a smaller timestep\n",
      "  warnings.warn(\n"
     ]
    },
    {
     "name": "stdout",
     "output_type": "stream",
     "text": [
      " phase: 3.7699111843077517, attenuation: 0.1, transmission = 0.8, nmse: 0.6617395797450226\n"
     ]
    },
    {
     "name": "stderr",
     "output_type": "stream",
     "text": [
      "C:\\Users\\mabdalla\\Anaconda3\\envs\\photonics\\lib\\site-packages\\photontorch\\networks\\network.py:450: RuntimeWarning: Simulation timestep might be too large, resulting in zero delays for nonzero lengths. Try using a smaller timestep\n",
      "  warnings.warn(\n"
     ]
    },
    {
     "name": "stdout",
     "output_type": "stream",
     "text": [
      " phase: 3.7699111843077517, attenuation: 0.30000000000000004, transmission = 0.0, nmse: 0.7483218000823836\n"
     ]
    },
    {
     "name": "stderr",
     "output_type": "stream",
     "text": [
      "C:\\Users\\mabdalla\\Anaconda3\\envs\\photonics\\lib\\site-packages\\photontorch\\networks\\network.py:450: RuntimeWarning: Simulation timestep might be too large, resulting in zero delays for nonzero lengths. Try using a smaller timestep\n",
      "  warnings.warn(\n"
     ]
    },
    {
     "name": "stdout",
     "output_type": "stream",
     "text": [
      " phase: 3.7699111843077517, attenuation: 0.30000000000000004, transmission = 0.2, nmse: 0.5274925800337301\n"
     ]
    },
    {
     "name": "stderr",
     "output_type": "stream",
     "text": [
      "C:\\Users\\mabdalla\\Anaconda3\\envs\\photonics\\lib\\site-packages\\photontorch\\networks\\network.py:450: RuntimeWarning: Simulation timestep might be too large, resulting in zero delays for nonzero lengths. Try using a smaller timestep\n",
      "  warnings.warn(\n"
     ]
    },
    {
     "name": "stdout",
     "output_type": "stream",
     "text": [
      " phase: 3.7699111843077517, attenuation: 0.30000000000000004, transmission = 0.4, nmse: 0.5988627186383269\n"
     ]
    },
    {
     "name": "stderr",
     "output_type": "stream",
     "text": [
      "C:\\Users\\mabdalla\\Anaconda3\\envs\\photonics\\lib\\site-packages\\photontorch\\networks\\network.py:450: RuntimeWarning: Simulation timestep might be too large, resulting in zero delays for nonzero lengths. Try using a smaller timestep\n",
      "  warnings.warn(\n"
     ]
    },
    {
     "name": "stdout",
     "output_type": "stream",
     "text": [
      " phase: 3.7699111843077517, attenuation: 0.30000000000000004, transmission = 0.6000000000000001, nmse: 0.6440822639476795\n"
     ]
    },
    {
     "name": "stderr",
     "output_type": "stream",
     "text": [
      "C:\\Users\\mabdalla\\Anaconda3\\envs\\photonics\\lib\\site-packages\\photontorch\\networks\\network.py:450: RuntimeWarning: Simulation timestep might be too large, resulting in zero delays for nonzero lengths. Try using a smaller timestep\n",
      "  warnings.warn(\n"
     ]
    },
    {
     "name": "stdout",
     "output_type": "stream",
     "text": [
      " phase: 3.7699111843077517, attenuation: 0.30000000000000004, transmission = 0.8, nmse: 0.6637357080367976\n"
     ]
    },
    {
     "name": "stderr",
     "output_type": "stream",
     "text": [
      "C:\\Users\\mabdalla\\Anaconda3\\envs\\photonics\\lib\\site-packages\\photontorch\\networks\\network.py:450: RuntimeWarning: Simulation timestep might be too large, resulting in zero delays for nonzero lengths. Try using a smaller timestep\n",
      "  warnings.warn(\n"
     ]
    },
    {
     "name": "stdout",
     "output_type": "stream",
     "text": [
      " phase: 3.7699111843077517, attenuation: 0.5, transmission = 0.0, nmse: 0.7483218000823836\n"
     ]
    },
    {
     "name": "stderr",
     "output_type": "stream",
     "text": [
      "C:\\Users\\mabdalla\\Anaconda3\\envs\\photonics\\lib\\site-packages\\photontorch\\networks\\network.py:450: RuntimeWarning: Simulation timestep might be too large, resulting in zero delays for nonzero lengths. Try using a smaller timestep\n",
      "  warnings.warn(\n"
     ]
    },
    {
     "name": "stdout",
     "output_type": "stream",
     "text": [
      " phase: 3.7699111843077517, attenuation: 0.5, transmission = 0.2, nmse: 0.5554798340113201\n"
     ]
    },
    {
     "name": "stderr",
     "output_type": "stream",
     "text": [
      "C:\\Users\\mabdalla\\Anaconda3\\envs\\photonics\\lib\\site-packages\\photontorch\\networks\\network.py:450: RuntimeWarning: Simulation timestep might be too large, resulting in zero delays for nonzero lengths. Try using a smaller timestep\n",
      "  warnings.warn(\n"
     ]
    },
    {
     "name": "stdout",
     "output_type": "stream",
     "text": [
      " phase: 3.7699111843077517, attenuation: 0.5, transmission = 0.4, nmse: 0.6257433065613157\n"
     ]
    },
    {
     "name": "stderr",
     "output_type": "stream",
     "text": [
      "C:\\Users\\mabdalla\\Anaconda3\\envs\\photonics\\lib\\site-packages\\photontorch\\networks\\network.py:450: RuntimeWarning: Simulation timestep might be too large, resulting in zero delays for nonzero lengths. Try using a smaller timestep\n",
      "  warnings.warn(\n"
     ]
    },
    {
     "name": "stdout",
     "output_type": "stream",
     "text": [
      " phase: 3.7699111843077517, attenuation: 0.5, transmission = 0.6000000000000001, nmse: 0.6558083958127784\n"
     ]
    },
    {
     "name": "stderr",
     "output_type": "stream",
     "text": [
      "C:\\Users\\mabdalla\\Anaconda3\\envs\\photonics\\lib\\site-packages\\photontorch\\networks\\network.py:450: RuntimeWarning: Simulation timestep might be too large, resulting in zero delays for nonzero lengths. Try using a smaller timestep\n",
      "  warnings.warn(\n"
     ]
    },
    {
     "name": "stdout",
     "output_type": "stream",
     "text": [
      " phase: 3.7699111843077517, attenuation: 0.5, transmission = 0.8, nmse: 0.665824867422817\n"
     ]
    },
    {
     "name": "stderr",
     "output_type": "stream",
     "text": [
      "C:\\Users\\mabdalla\\Anaconda3\\envs\\photonics\\lib\\site-packages\\photontorch\\networks\\network.py:450: RuntimeWarning: Simulation timestep might be too large, resulting in zero delays for nonzero lengths. Try using a smaller timestep\n",
      "  warnings.warn(\n"
     ]
    },
    {
     "name": "stdout",
     "output_type": "stream",
     "text": [
      " phase: 3.7699111843077517, attenuation: 0.7000000000000001, transmission = 0.0, nmse: 0.7483218000823836\n"
     ]
    },
    {
     "name": "stderr",
     "output_type": "stream",
     "text": [
      "C:\\Users\\mabdalla\\Anaconda3\\envs\\photonics\\lib\\site-packages\\photontorch\\networks\\network.py:450: RuntimeWarning: Simulation timestep might be too large, resulting in zero delays for nonzero lengths. Try using a smaller timestep\n",
      "  warnings.warn(\n"
     ]
    },
    {
     "name": "stdout",
     "output_type": "stream",
     "text": [
      " phase: 3.7699111843077517, attenuation: 0.7000000000000001, transmission = 0.2, nmse: 0.6046098174419343\n"
     ]
    },
    {
     "name": "stderr",
     "output_type": "stream",
     "text": [
      "C:\\Users\\mabdalla\\Anaconda3\\envs\\photonics\\lib\\site-packages\\photontorch\\networks\\network.py:450: RuntimeWarning: Simulation timestep might be too large, resulting in zero delays for nonzero lengths. Try using a smaller timestep\n",
      "  warnings.warn(\n"
     ]
    },
    {
     "name": "stdout",
     "output_type": "stream",
     "text": [
      " phase: 3.7699111843077517, attenuation: 0.7000000000000001, transmission = 0.4, nmse: 0.6508298353362996\n"
     ]
    },
    {
     "name": "stderr",
     "output_type": "stream",
     "text": [
      "C:\\Users\\mabdalla\\Anaconda3\\envs\\photonics\\lib\\site-packages\\photontorch\\networks\\network.py:450: RuntimeWarning: Simulation timestep might be too large, resulting in zero delays for nonzero lengths. Try using a smaller timestep\n",
      "  warnings.warn(\n"
     ]
    },
    {
     "name": "stdout",
     "output_type": "stream",
     "text": [
      " phase: 3.7699111843077517, attenuation: 0.7000000000000001, transmission = 0.6000000000000001, nmse: 0.6646661791811959\n"
     ]
    },
    {
     "name": "stderr",
     "output_type": "stream",
     "text": [
      "C:\\Users\\mabdalla\\Anaconda3\\envs\\photonics\\lib\\site-packages\\photontorch\\networks\\network.py:450: RuntimeWarning: Simulation timestep might be too large, resulting in zero delays for nonzero lengths. Try using a smaller timestep\n",
      "  warnings.warn(\n"
     ]
    },
    {
     "name": "stdout",
     "output_type": "stream",
     "text": [
      " phase: 3.7699111843077517, attenuation: 0.7000000000000001, transmission = 0.8, nmse: 0.6676408238651519\n"
     ]
    },
    {
     "name": "stderr",
     "output_type": "stream",
     "text": [
      "C:\\Users\\mabdalla\\Anaconda3\\envs\\photonics\\lib\\site-packages\\photontorch\\networks\\network.py:450: RuntimeWarning: Simulation timestep might be too large, resulting in zero delays for nonzero lengths. Try using a smaller timestep\n",
      "  warnings.warn(\n"
     ]
    },
    {
     "name": "stdout",
     "output_type": "stream",
     "text": [
      " phase: 3.7699111843077517, attenuation: 0.9, transmission = 0.0, nmse: 0.7483218000823836\n"
     ]
    },
    {
     "name": "stderr",
     "output_type": "stream",
     "text": [
      "C:\\Users\\mabdalla\\Anaconda3\\envs\\photonics\\lib\\site-packages\\photontorch\\networks\\network.py:450: RuntimeWarning: Simulation timestep might be too large, resulting in zero delays for nonzero lengths. Try using a smaller timestep\n",
      "  warnings.warn(\n"
     ]
    },
    {
     "name": "stdout",
     "output_type": "stream",
     "text": [
      " phase: 3.7699111843077517, attenuation: 0.9, transmission = 0.2, nmse: 0.6549398561607682\n"
     ]
    },
    {
     "name": "stderr",
     "output_type": "stream",
     "text": [
      "C:\\Users\\mabdalla\\Anaconda3\\envs\\photonics\\lib\\site-packages\\photontorch\\networks\\network.py:450: RuntimeWarning: Simulation timestep might be too large, resulting in zero delays for nonzero lengths. Try using a smaller timestep\n",
      "  warnings.warn(\n"
     ]
    },
    {
     "name": "stdout",
     "output_type": "stream",
     "text": [
      " phase: 3.7699111843077517, attenuation: 0.9, transmission = 0.4, nmse: 0.6655563223728886\n"
     ]
    },
    {
     "name": "stderr",
     "output_type": "stream",
     "text": [
      "C:\\Users\\mabdalla\\Anaconda3\\envs\\photonics\\lib\\site-packages\\photontorch\\networks\\network.py:450: RuntimeWarning: Simulation timestep might be too large, resulting in zero delays for nonzero lengths. Try using a smaller timestep\n",
      "  warnings.warn(\n"
     ]
    },
    {
     "name": "stdout",
     "output_type": "stream",
     "text": [
      " phase: 3.7699111843077517, attenuation: 0.9, transmission = 0.6000000000000001, nmse: 0.6675484170174485\n"
     ]
    },
    {
     "name": "stderr",
     "output_type": "stream",
     "text": [
      "C:\\Users\\mabdalla\\Anaconda3\\envs\\photonics\\lib\\site-packages\\photontorch\\networks\\network.py:450: RuntimeWarning: Simulation timestep might be too large, resulting in zero delays for nonzero lengths. Try using a smaller timestep\n",
      "  warnings.warn(\n"
     ]
    },
    {
     "name": "stdout",
     "output_type": "stream",
     "text": [
      " phase: 3.7699111843077517, attenuation: 0.9, transmission = 0.8, nmse: 0.6698213170709759\n"
     ]
    },
    {
     "name": "stderr",
     "output_type": "stream",
     "text": [
      "C:\\Users\\mabdalla\\Anaconda3\\envs\\photonics\\lib\\site-packages\\photontorch\\networks\\network.py:450: RuntimeWarning: Simulation timestep might be too large, resulting in zero delays for nonzero lengths. Try using a smaller timestep\n",
      "  warnings.warn(\n"
     ]
    },
    {
     "name": "stdout",
     "output_type": "stream",
     "text": [
      " phase: 4.39822971502571, attenuation: 0.1, transmission = 0.0, nmse: 0.7483218000823836\n"
     ]
    },
    {
     "name": "stderr",
     "output_type": "stream",
     "text": [
      "C:\\Users\\mabdalla\\Anaconda3\\envs\\photonics\\lib\\site-packages\\photontorch\\networks\\network.py:450: RuntimeWarning: Simulation timestep might be too large, resulting in zero delays for nonzero lengths. Try using a smaller timestep\n",
      "  warnings.warn(\n"
     ]
    },
    {
     "name": "stdout",
     "output_type": "stream",
     "text": [
      " phase: 4.39822971502571, attenuation: 0.1, transmission = 0.2, nmse: 0.46929787218352437\n"
     ]
    },
    {
     "name": "stderr",
     "output_type": "stream",
     "text": [
      "C:\\Users\\mabdalla\\Anaconda3\\envs\\photonics\\lib\\site-packages\\photontorch\\networks\\network.py:450: RuntimeWarning: Simulation timestep might be too large, resulting in zero delays for nonzero lengths. Try using a smaller timestep\n",
      "  warnings.warn(\n"
     ]
    },
    {
     "name": "stdout",
     "output_type": "stream",
     "text": [
      " phase: 4.39822971502571, attenuation: 0.1, transmission = 0.4, nmse: 0.6092470997865231\n"
     ]
    },
    {
     "name": "stderr",
     "output_type": "stream",
     "text": [
      "C:\\Users\\mabdalla\\Anaconda3\\envs\\photonics\\lib\\site-packages\\photontorch\\networks\\network.py:450: RuntimeWarning: Simulation timestep might be too large, resulting in zero delays for nonzero lengths. Try using a smaller timestep\n",
      "  warnings.warn(\n"
     ]
    },
    {
     "name": "stdout",
     "output_type": "stream",
     "text": [
      " phase: 4.39822971502571, attenuation: 0.1, transmission = 0.6000000000000001, nmse: 0.6377605655528611\n"
     ]
    },
    {
     "name": "stderr",
     "output_type": "stream",
     "text": [
      "C:\\Users\\mabdalla\\Anaconda3\\envs\\photonics\\lib\\site-packages\\photontorch\\networks\\network.py:450: RuntimeWarning: Simulation timestep might be too large, resulting in zero delays for nonzero lengths. Try using a smaller timestep\n",
      "  warnings.warn(\n"
     ]
    },
    {
     "name": "stdout",
     "output_type": "stream",
     "text": [
      " phase: 4.39822971502571, attenuation: 0.1, transmission = 0.8, nmse: 0.6627184487979129\n"
     ]
    },
    {
     "name": "stderr",
     "output_type": "stream",
     "text": [
      "C:\\Users\\mabdalla\\Anaconda3\\envs\\photonics\\lib\\site-packages\\photontorch\\networks\\network.py:450: RuntimeWarning: Simulation timestep might be too large, resulting in zero delays for nonzero lengths. Try using a smaller timestep\n",
      "  warnings.warn(\n"
     ]
    },
    {
     "name": "stdout",
     "output_type": "stream",
     "text": [
      " phase: 4.39822971502571, attenuation: 0.30000000000000004, transmission = 0.0, nmse: 0.7483218000823836\n"
     ]
    },
    {
     "name": "stderr",
     "output_type": "stream",
     "text": [
      "C:\\Users\\mabdalla\\Anaconda3\\envs\\photonics\\lib\\site-packages\\photontorch\\networks\\network.py:450: RuntimeWarning: Simulation timestep might be too large, resulting in zero delays for nonzero lengths. Try using a smaller timestep\n",
      "  warnings.warn(\n"
     ]
    },
    {
     "name": "stdout",
     "output_type": "stream",
     "text": [
      " phase: 4.39822971502571, attenuation: 0.30000000000000004, transmission = 0.2, nmse: 0.5265511226431998\n"
     ]
    },
    {
     "name": "stderr",
     "output_type": "stream",
     "text": [
      "C:\\Users\\mabdalla\\Anaconda3\\envs\\photonics\\lib\\site-packages\\photontorch\\networks\\network.py:450: RuntimeWarning: Simulation timestep might be too large, resulting in zero delays for nonzero lengths. Try using a smaller timestep\n",
      "  warnings.warn(\n"
     ]
    },
    {
     "name": "stdout",
     "output_type": "stream",
     "text": [
      " phase: 4.39822971502571, attenuation: 0.30000000000000004, transmission = 0.4, nmse: 0.6169199829983151\n"
     ]
    },
    {
     "name": "stderr",
     "output_type": "stream",
     "text": [
      "C:\\Users\\mabdalla\\Anaconda3\\envs\\photonics\\lib\\site-packages\\photontorch\\networks\\network.py:450: RuntimeWarning: Simulation timestep might be too large, resulting in zero delays for nonzero lengths. Try using a smaller timestep\n",
      "  warnings.warn(\n"
     ]
    },
    {
     "name": "stdout",
     "output_type": "stream",
     "text": [
      " phase: 4.39822971502571, attenuation: 0.30000000000000004, transmission = 0.6000000000000001, nmse: 0.6464541195510596\n"
     ]
    },
    {
     "name": "stderr",
     "output_type": "stream",
     "text": [
      "C:\\Users\\mabdalla\\Anaconda3\\envs\\photonics\\lib\\site-packages\\photontorch\\networks\\network.py:450: RuntimeWarning: Simulation timestep might be too large, resulting in zero delays for nonzero lengths. Try using a smaller timestep\n",
      "  warnings.warn(\n"
     ]
    },
    {
     "name": "stdout",
     "output_type": "stream",
     "text": [
      " phase: 4.39822971502571, attenuation: 0.30000000000000004, transmission = 0.8, nmse: 0.6634502722173345\n"
     ]
    },
    {
     "name": "stderr",
     "output_type": "stream",
     "text": [
      "C:\\Users\\mabdalla\\Anaconda3\\envs\\photonics\\lib\\site-packages\\photontorch\\networks\\network.py:450: RuntimeWarning: Simulation timestep might be too large, resulting in zero delays for nonzero lengths. Try using a smaller timestep\n",
      "  warnings.warn(\n"
     ]
    },
    {
     "name": "stdout",
     "output_type": "stream",
     "text": [
      " phase: 4.39822971502571, attenuation: 0.5, transmission = 0.0, nmse: 0.7483218000823836\n"
     ]
    },
    {
     "name": "stderr",
     "output_type": "stream",
     "text": [
      "C:\\Users\\mabdalla\\Anaconda3\\envs\\photonics\\lib\\site-packages\\photontorch\\networks\\network.py:450: RuntimeWarning: Simulation timestep might be too large, resulting in zero delays for nonzero lengths. Try using a smaller timestep\n",
      "  warnings.warn(\n"
     ]
    },
    {
     "name": "stdout",
     "output_type": "stream",
     "text": [
      " phase: 4.39822971502571, attenuation: 0.5, transmission = 0.2, nmse: 0.5744189152211137\n"
     ]
    },
    {
     "name": "stderr",
     "output_type": "stream",
     "text": [
      "C:\\Users\\mabdalla\\Anaconda3\\envs\\photonics\\lib\\site-packages\\photontorch\\networks\\network.py:450: RuntimeWarning: Simulation timestep might be too large, resulting in zero delays for nonzero lengths. Try using a smaller timestep\n",
      "  warnings.warn(\n"
     ]
    },
    {
     "name": "stdout",
     "output_type": "stream",
     "text": [
      " phase: 4.39822971502571, attenuation: 0.5, transmission = 0.4, nmse: 0.6300453224032464\n"
     ]
    },
    {
     "name": "stderr",
     "output_type": "stream",
     "text": [
      "C:\\Users\\mabdalla\\Anaconda3\\envs\\photonics\\lib\\site-packages\\photontorch\\networks\\network.py:450: RuntimeWarning: Simulation timestep might be too large, resulting in zero delays for nonzero lengths. Try using a smaller timestep\n",
      "  warnings.warn(\n"
     ]
    },
    {
     "name": "stdout",
     "output_type": "stream",
     "text": [
      " phase: 4.39822971502571, attenuation: 0.5, transmission = 0.6000000000000001, nmse: 0.6544877478842633\n"
     ]
    },
    {
     "name": "stderr",
     "output_type": "stream",
     "text": [
      "C:\\Users\\mabdalla\\Anaconda3\\envs\\photonics\\lib\\site-packages\\photontorch\\networks\\network.py:450: RuntimeWarning: Simulation timestep might be too large, resulting in zero delays for nonzero lengths. Try using a smaller timestep\n",
      "  warnings.warn(\n"
     ]
    },
    {
     "name": "stdout",
     "output_type": "stream",
     "text": [
      " phase: 4.39822971502571, attenuation: 0.5, transmission = 0.8, nmse: 0.6639962094798528\n"
     ]
    },
    {
     "name": "stderr",
     "output_type": "stream",
     "text": [
      "C:\\Users\\mabdalla\\Anaconda3\\envs\\photonics\\lib\\site-packages\\photontorch\\networks\\network.py:450: RuntimeWarning: Simulation timestep might be too large, resulting in zero delays for nonzero lengths. Try using a smaller timestep\n",
      "  warnings.warn(\n"
     ]
    },
    {
     "name": "stdout",
     "output_type": "stream",
     "text": [
      " phase: 4.39822971502571, attenuation: 0.7000000000000001, transmission = 0.0, nmse: 0.7483218000823836\n"
     ]
    },
    {
     "name": "stderr",
     "output_type": "stream",
     "text": [
      "C:\\Users\\mabdalla\\Anaconda3\\envs\\photonics\\lib\\site-packages\\photontorch\\networks\\network.py:450: RuntimeWarning: Simulation timestep might be too large, resulting in zero delays for nonzero lengths. Try using a smaller timestep\n",
      "  warnings.warn(\n"
     ]
    },
    {
     "name": "stdout",
     "output_type": "stream",
     "text": [
      " phase: 4.39822971502571, attenuation: 0.7000000000000001, transmission = 0.2, nmse: 0.6105558881633337\n"
     ]
    },
    {
     "name": "stderr",
     "output_type": "stream",
     "text": [
      "C:\\Users\\mabdalla\\Anaconda3\\envs\\photonics\\lib\\site-packages\\photontorch\\networks\\network.py:450: RuntimeWarning: Simulation timestep might be too large, resulting in zero delays for nonzero lengths. Try using a smaller timestep\n",
      "  warnings.warn(\n"
     ]
    },
    {
     "name": "stdout",
     "output_type": "stream",
     "text": [
      " phase: 4.39822971502571, attenuation: 0.7000000000000001, transmission = 0.4, nmse: 0.6465001216866689\n"
     ]
    },
    {
     "name": "stderr",
     "output_type": "stream",
     "text": [
      "C:\\Users\\mabdalla\\Anaconda3\\envs\\photonics\\lib\\site-packages\\photontorch\\networks\\network.py:450: RuntimeWarning: Simulation timestep might be too large, resulting in zero delays for nonzero lengths. Try using a smaller timestep\n",
      "  warnings.warn(\n"
     ]
    },
    {
     "name": "stdout",
     "output_type": "stream",
     "text": [
      " phase: 4.39822971502571, attenuation: 0.7000000000000001, transmission = 0.6000000000000001, nmse: 0.6601150370860336\n"
     ]
    },
    {
     "name": "stderr",
     "output_type": "stream",
     "text": [
      "C:\\Users\\mabdalla\\Anaconda3\\envs\\photonics\\lib\\site-packages\\photontorch\\networks\\network.py:450: RuntimeWarning: Simulation timestep might be too large, resulting in zero delays for nonzero lengths. Try using a smaller timestep\n",
      "  warnings.warn(\n"
     ]
    },
    {
     "name": "stdout",
     "output_type": "stream",
     "text": [
      " phase: 4.39822971502571, attenuation: 0.7000000000000001, transmission = 0.8, nmse: 0.6655230076589229\n"
     ]
    },
    {
     "name": "stderr",
     "output_type": "stream",
     "text": [
      "C:\\Users\\mabdalla\\Anaconda3\\envs\\photonics\\lib\\site-packages\\photontorch\\networks\\network.py:450: RuntimeWarning: Simulation timestep might be too large, resulting in zero delays for nonzero lengths. Try using a smaller timestep\n",
      "  warnings.warn(\n"
     ]
    },
    {
     "name": "stdout",
     "output_type": "stream",
     "text": [
      " phase: 4.39822971502571, attenuation: 0.9, transmission = 0.0, nmse: 0.7483218000823836\n"
     ]
    },
    {
     "name": "stderr",
     "output_type": "stream",
     "text": [
      "C:\\Users\\mabdalla\\Anaconda3\\envs\\photonics\\lib\\site-packages\\photontorch\\networks\\network.py:450: RuntimeWarning: Simulation timestep might be too large, resulting in zero delays for nonzero lengths. Try using a smaller timestep\n",
      "  warnings.warn(\n"
     ]
    },
    {
     "name": "stdout",
     "output_type": "stream",
     "text": [
      " phase: 4.39822971502571, attenuation: 0.9, transmission = 0.2, nmse: 0.6453448132588717\n"
     ]
    },
    {
     "name": "stderr",
     "output_type": "stream",
     "text": [
      "C:\\Users\\mabdalla\\Anaconda3\\envs\\photonics\\lib\\site-packages\\photontorch\\networks\\network.py:450: RuntimeWarning: Simulation timestep might be too large, resulting in zero delays for nonzero lengths. Try using a smaller timestep\n",
      "  warnings.warn(\n"
     ]
    },
    {
     "name": "stdout",
     "output_type": "stream",
     "text": [
      " phase: 4.39822971502571, attenuation: 0.9, transmission = 0.4, nmse: 0.6601739344964214\n"
     ]
    },
    {
     "name": "stderr",
     "output_type": "stream",
     "text": [
      "C:\\Users\\mabdalla\\Anaconda3\\envs\\photonics\\lib\\site-packages\\photontorch\\networks\\network.py:450: RuntimeWarning: Simulation timestep might be too large, resulting in zero delays for nonzero lengths. Try using a smaller timestep\n",
      "  warnings.warn(\n"
     ]
    },
    {
     "name": "stdout",
     "output_type": "stream",
     "text": [
      " phase: 4.39822971502571, attenuation: 0.9, transmission = 0.6000000000000001, nmse: 0.6637487259669503\n"
     ]
    },
    {
     "name": "stderr",
     "output_type": "stream",
     "text": [
      "C:\\Users\\mabdalla\\Anaconda3\\envs\\photonics\\lib\\site-packages\\photontorch\\networks\\network.py:450: RuntimeWarning: Simulation timestep might be too large, resulting in zero delays for nonzero lengths. Try using a smaller timestep\n",
      "  warnings.warn(\n"
     ]
    },
    {
     "name": "stdout",
     "output_type": "stream",
     "text": [
      " phase: 4.39822971502571, attenuation: 0.9, transmission = 0.8, nmse: 0.665955906990192\n"
     ]
    },
    {
     "name": "stderr",
     "output_type": "stream",
     "text": [
      "C:\\Users\\mabdalla\\Anaconda3\\envs\\photonics\\lib\\site-packages\\photontorch\\networks\\network.py:450: RuntimeWarning: Simulation timestep might be too large, resulting in zero delays for nonzero lengths. Try using a smaller timestep\n",
      "  warnings.warn(\n"
     ]
    },
    {
     "name": "stdout",
     "output_type": "stream",
     "text": [
      " phase: 5.026548245743669, attenuation: 0.1, transmission = 0.0, nmse: 0.7483218000823836\n"
     ]
    },
    {
     "name": "stderr",
     "output_type": "stream",
     "text": [
      "C:\\Users\\mabdalla\\Anaconda3\\envs\\photonics\\lib\\site-packages\\photontorch\\networks\\network.py:450: RuntimeWarning: Simulation timestep might be too large, resulting in zero delays for nonzero lengths. Try using a smaller timestep\n",
      "  warnings.warn(\n"
     ]
    },
    {
     "name": "stdout",
     "output_type": "stream",
     "text": [
      " phase: 5.026548245743669, attenuation: 0.1, transmission = 0.2, nmse: 0.3524131598244904\n"
     ]
    },
    {
     "name": "stderr",
     "output_type": "stream",
     "text": [
      "C:\\Users\\mabdalla\\Anaconda3\\envs\\photonics\\lib\\site-packages\\photontorch\\networks\\network.py:450: RuntimeWarning: Simulation timestep might be too large, resulting in zero delays for nonzero lengths. Try using a smaller timestep\n",
      "  warnings.warn(\n"
     ]
    },
    {
     "name": "stdout",
     "output_type": "stream",
     "text": [
      " phase: 5.026548245743669, attenuation: 0.1, transmission = 0.4, nmse: 0.5844427570298402\n"
     ]
    },
    {
     "name": "stderr",
     "output_type": "stream",
     "text": [
      "C:\\Users\\mabdalla\\Anaconda3\\envs\\photonics\\lib\\site-packages\\photontorch\\networks\\network.py:450: RuntimeWarning: Simulation timestep might be too large, resulting in zero delays for nonzero lengths. Try using a smaller timestep\n",
      "  warnings.warn(\n"
     ]
    },
    {
     "name": "stdout",
     "output_type": "stream",
     "text": [
      " phase: 5.026548245743669, attenuation: 0.1, transmission = 0.6000000000000001, nmse: 0.6554777161248527\n"
     ]
    },
    {
     "name": "stderr",
     "output_type": "stream",
     "text": [
      "C:\\Users\\mabdalla\\Anaconda3\\envs\\photonics\\lib\\site-packages\\photontorch\\networks\\network.py:450: RuntimeWarning: Simulation timestep might be too large, resulting in zero delays for nonzero lengths. Try using a smaller timestep\n",
      "  warnings.warn(\n"
     ]
    },
    {
     "name": "stdout",
     "output_type": "stream",
     "text": [
      " phase: 5.026548245743669, attenuation: 0.1, transmission = 0.8, nmse: 0.6642842661509271\n"
     ]
    },
    {
     "name": "stderr",
     "output_type": "stream",
     "text": [
      "C:\\Users\\mabdalla\\Anaconda3\\envs\\photonics\\lib\\site-packages\\photontorch\\networks\\network.py:450: RuntimeWarning: Simulation timestep might be too large, resulting in zero delays for nonzero lengths. Try using a smaller timestep\n",
      "  warnings.warn(\n"
     ]
    },
    {
     "name": "stdout",
     "output_type": "stream",
     "text": [
      " phase: 5.026548245743669, attenuation: 0.30000000000000004, transmission = 0.0, nmse: 0.7483218000823836\n"
     ]
    },
    {
     "name": "stderr",
     "output_type": "stream",
     "text": [
      "C:\\Users\\mabdalla\\Anaconda3\\envs\\photonics\\lib\\site-packages\\photontorch\\networks\\network.py:450: RuntimeWarning: Simulation timestep might be too large, resulting in zero delays for nonzero lengths. Try using a smaller timestep\n",
      "  warnings.warn(\n"
     ]
    },
    {
     "name": "stdout",
     "output_type": "stream",
     "text": [
      " phase: 5.026548245743669, attenuation: 0.30000000000000004, transmission = 0.2, nmse: 0.41882579763214056\n"
     ]
    },
    {
     "name": "stderr",
     "output_type": "stream",
     "text": [
      "C:\\Users\\mabdalla\\Anaconda3\\envs\\photonics\\lib\\site-packages\\photontorch\\networks\\network.py:450: RuntimeWarning: Simulation timestep might be too large, resulting in zero delays for nonzero lengths. Try using a smaller timestep\n",
      "  warnings.warn(\n"
     ]
    },
    {
     "name": "stdout",
     "output_type": "stream",
     "text": [
      " phase: 5.026548245743669, attenuation: 0.30000000000000004, transmission = 0.4, nmse: 0.6140946087436869\n"
     ]
    },
    {
     "name": "stderr",
     "output_type": "stream",
     "text": [
      "C:\\Users\\mabdalla\\Anaconda3\\envs\\photonics\\lib\\site-packages\\photontorch\\networks\\network.py:450: RuntimeWarning: Simulation timestep might be too large, resulting in zero delays for nonzero lengths. Try using a smaller timestep\n",
      "  warnings.warn(\n"
     ]
    },
    {
     "name": "stdout",
     "output_type": "stream",
     "text": [
      " phase: 5.026548245743669, attenuation: 0.30000000000000004, transmission = 0.6000000000000001, nmse: 0.6597712840004386\n"
     ]
    },
    {
     "name": "stderr",
     "output_type": "stream",
     "text": [
      "C:\\Users\\mabdalla\\Anaconda3\\envs\\photonics\\lib\\site-packages\\photontorch\\networks\\network.py:450: RuntimeWarning: Simulation timestep might be too large, resulting in zero delays for nonzero lengths. Try using a smaller timestep\n",
      "  warnings.warn(\n"
     ]
    },
    {
     "name": "stdout",
     "output_type": "stream",
     "text": [
      " phase: 5.026548245743669, attenuation: 0.30000000000000004, transmission = 0.8, nmse: 0.6647019453832775\n"
     ]
    },
    {
     "name": "stderr",
     "output_type": "stream",
     "text": [
      "C:\\Users\\mabdalla\\Anaconda3\\envs\\photonics\\lib\\site-packages\\photontorch\\networks\\network.py:450: RuntimeWarning: Simulation timestep might be too large, resulting in zero delays for nonzero lengths. Try using a smaller timestep\n",
      "  warnings.warn(\n"
     ]
    },
    {
     "name": "stdout",
     "output_type": "stream",
     "text": [
      " phase: 5.026548245743669, attenuation: 0.5, transmission = 0.0, nmse: 0.7483218000823836\n"
     ]
    },
    {
     "name": "stderr",
     "output_type": "stream",
     "text": [
      "C:\\Users\\mabdalla\\Anaconda3\\envs\\photonics\\lib\\site-packages\\photontorch\\networks\\network.py:450: RuntimeWarning: Simulation timestep might be too large, resulting in zero delays for nonzero lengths. Try using a smaller timestep\n",
      "  warnings.warn(\n"
     ]
    },
    {
     "name": "stdout",
     "output_type": "stream",
     "text": [
      " phase: 5.026548245743669, attenuation: 0.5, transmission = 0.2, nmse: 0.5092463012214808\n"
     ]
    },
    {
     "name": "stderr",
     "output_type": "stream",
     "text": [
      "C:\\Users\\mabdalla\\Anaconda3\\envs\\photonics\\lib\\site-packages\\photontorch\\networks\\network.py:450: RuntimeWarning: Simulation timestep might be too large, resulting in zero delays for nonzero lengths. Try using a smaller timestep\n",
      "  warnings.warn(\n"
     ]
    },
    {
     "name": "stdout",
     "output_type": "stream",
     "text": [
      " phase: 5.026548245743669, attenuation: 0.5, transmission = 0.4, nmse: 0.6395200298628785\n"
     ]
    },
    {
     "name": "stderr",
     "output_type": "stream",
     "text": [
      "C:\\Users\\mabdalla\\Anaconda3\\envs\\photonics\\lib\\site-packages\\photontorch\\networks\\network.py:450: RuntimeWarning: Simulation timestep might be too large, resulting in zero delays for nonzero lengths. Try using a smaller timestep\n",
      "  warnings.warn(\n"
     ]
    },
    {
     "name": "stdout",
     "output_type": "stream",
     "text": [
      " phase: 5.026548245743669, attenuation: 0.5, transmission = 0.6000000000000001, nmse: 0.6628017458867919\n"
     ]
    },
    {
     "name": "stderr",
     "output_type": "stream",
     "text": [
      "C:\\Users\\mabdalla\\Anaconda3\\envs\\photonics\\lib\\site-packages\\photontorch\\networks\\network.py:450: RuntimeWarning: Simulation timestep might be too large, resulting in zero delays for nonzero lengths. Try using a smaller timestep\n",
      "  warnings.warn(\n"
     ]
    },
    {
     "name": "stdout",
     "output_type": "stream",
     "text": [
      " phase: 5.026548245743669, attenuation: 0.5, transmission = 0.8, nmse: 0.6648563831308927\n"
     ]
    },
    {
     "name": "stderr",
     "output_type": "stream",
     "text": [
      "C:\\Users\\mabdalla\\Anaconda3\\envs\\photonics\\lib\\site-packages\\photontorch\\networks\\network.py:450: RuntimeWarning: Simulation timestep might be too large, resulting in zero delays for nonzero lengths. Try using a smaller timestep\n",
      "  warnings.warn(\n"
     ]
    },
    {
     "name": "stdout",
     "output_type": "stream",
     "text": [
      " phase: 5.026548245743669, attenuation: 0.7000000000000001, transmission = 0.0, nmse: 0.7483218000823836\n"
     ]
    },
    {
     "name": "stderr",
     "output_type": "stream",
     "text": [
      "C:\\Users\\mabdalla\\Anaconda3\\envs\\photonics\\lib\\site-packages\\photontorch\\networks\\network.py:450: RuntimeWarning: Simulation timestep might be too large, resulting in zero delays for nonzero lengths. Try using a smaller timestep\n",
      "  warnings.warn(\n"
     ]
    },
    {
     "name": "stdout",
     "output_type": "stream",
     "text": [
      " phase: 5.026548245743669, attenuation: 0.7000000000000001, transmission = 0.2, nmse: 0.6009143686313092\n"
     ]
    },
    {
     "name": "stderr",
     "output_type": "stream",
     "text": [
      "C:\\Users\\mabdalla\\Anaconda3\\envs\\photonics\\lib\\site-packages\\photontorch\\networks\\network.py:450: RuntimeWarning: Simulation timestep might be too large, resulting in zero delays for nonzero lengths. Try using a smaller timestep\n",
      "  warnings.warn(\n"
     ]
    },
    {
     "name": "stdout",
     "output_type": "stream",
     "text": [
      " phase: 5.026548245743669, attenuation: 0.7000000000000001, transmission = 0.4, nmse: 0.6563354212828675\n"
     ]
    },
    {
     "name": "stderr",
     "output_type": "stream",
     "text": [
      "C:\\Users\\mabdalla\\Anaconda3\\envs\\photonics\\lib\\site-packages\\photontorch\\networks\\network.py:450: RuntimeWarning: Simulation timestep might be too large, resulting in zero delays for nonzero lengths. Try using a smaller timestep\n",
      "  warnings.warn(\n"
     ]
    },
    {
     "name": "stdout",
     "output_type": "stream",
     "text": [
      " phase: 5.026548245743669, attenuation: 0.7000000000000001, transmission = 0.6000000000000001, nmse: 0.6649064427529219\n"
     ]
    },
    {
     "name": "stderr",
     "output_type": "stream",
     "text": [
      "C:\\Users\\mabdalla\\Anaconda3\\envs\\photonics\\lib\\site-packages\\photontorch\\networks\\network.py:450: RuntimeWarning: Simulation timestep might be too large, resulting in zero delays for nonzero lengths. Try using a smaller timestep\n",
      "  warnings.warn(\n"
     ]
    },
    {
     "name": "stdout",
     "output_type": "stream",
     "text": [
      " phase: 5.026548245743669, attenuation: 0.7000000000000001, transmission = 0.8, nmse: 0.6649954476634694\n"
     ]
    },
    {
     "name": "stderr",
     "output_type": "stream",
     "text": [
      "C:\\Users\\mabdalla\\Anaconda3\\envs\\photonics\\lib\\site-packages\\photontorch\\networks\\network.py:450: RuntimeWarning: Simulation timestep might be too large, resulting in zero delays for nonzero lengths. Try using a smaller timestep\n",
      "  warnings.warn(\n"
     ]
    },
    {
     "name": "stdout",
     "output_type": "stream",
     "text": [
      " phase: 5.026548245743669, attenuation: 0.9, transmission = 0.0, nmse: 0.7483218000823836\n"
     ]
    },
    {
     "name": "stderr",
     "output_type": "stream",
     "text": [
      "C:\\Users\\mabdalla\\Anaconda3\\envs\\photonics\\lib\\site-packages\\photontorch\\networks\\network.py:450: RuntimeWarning: Simulation timestep might be too large, resulting in zero delays for nonzero lengths. Try using a smaller timestep\n",
      "  warnings.warn(\n"
     ]
    },
    {
     "name": "stdout",
     "output_type": "stream",
     "text": [
      " phase: 5.026548245743669, attenuation: 0.9, transmission = 0.2, nmse: 0.6560760367350079\n"
     ]
    },
    {
     "name": "stderr",
     "output_type": "stream",
     "text": [
      "C:\\Users\\mabdalla\\Anaconda3\\envs\\photonics\\lib\\site-packages\\photontorch\\networks\\network.py:450: RuntimeWarning: Simulation timestep might be too large, resulting in zero delays for nonzero lengths. Try using a smaller timestep\n",
      "  warnings.warn(\n"
     ]
    },
    {
     "name": "stdout",
     "output_type": "stream",
     "text": [
      " phase: 5.026548245743669, attenuation: 0.9, transmission = 0.4, nmse: 0.66457817100269\n"
     ]
    },
    {
     "name": "stderr",
     "output_type": "stream",
     "text": [
      "C:\\Users\\mabdalla\\Anaconda3\\envs\\photonics\\lib\\site-packages\\photontorch\\networks\\network.py:450: RuntimeWarning: Simulation timestep might be too large, resulting in zero delays for nonzero lengths. Try using a smaller timestep\n",
      "  warnings.warn(\n"
     ]
    },
    {
     "name": "stdout",
     "output_type": "stream",
     "text": [
      " phase: 5.026548245743669, attenuation: 0.9, transmission = 0.6000000000000001, nmse: 0.6654128406376839\n"
     ]
    },
    {
     "name": "stderr",
     "output_type": "stream",
     "text": [
      "C:\\Users\\mabdalla\\Anaconda3\\envs\\photonics\\lib\\site-packages\\photontorch\\networks\\network.py:450: RuntimeWarning: Simulation timestep might be too large, resulting in zero delays for nonzero lengths. Try using a smaller timestep\n",
      "  warnings.warn(\n"
     ]
    },
    {
     "name": "stdout",
     "output_type": "stream",
     "text": [
      " phase: 5.026548245743669, attenuation: 0.9, transmission = 0.8, nmse: 0.6662274785614125\n"
     ]
    },
    {
     "name": "stderr",
     "output_type": "stream",
     "text": [
      "C:\\Users\\mabdalla\\Anaconda3\\envs\\photonics\\lib\\site-packages\\photontorch\\networks\\network.py:450: RuntimeWarning: Simulation timestep might be too large, resulting in zero delays for nonzero lengths. Try using a smaller timestep\n",
      "  warnings.warn(\n"
     ]
    },
    {
     "name": "stdout",
     "output_type": "stream",
     "text": [
      " phase: 5.654866776461628, attenuation: 0.1, transmission = 0.0, nmse: 0.7483218000823836\n"
     ]
    },
    {
     "name": "stderr",
     "output_type": "stream",
     "text": [
      "C:\\Users\\mabdalla\\Anaconda3\\envs\\photonics\\lib\\site-packages\\photontorch\\networks\\network.py:450: RuntimeWarning: Simulation timestep might be too large, resulting in zero delays for nonzero lengths. Try using a smaller timestep\n",
      "  warnings.warn(\n"
     ]
    },
    {
     "name": "stdout",
     "output_type": "stream",
     "text": [
      " phase: 5.654866776461628, attenuation: 0.1, transmission = 0.2, nmse: 0.2938880216024977\n"
     ]
    },
    {
     "name": "stderr",
     "output_type": "stream",
     "text": [
      "C:\\Users\\mabdalla\\Anaconda3\\envs\\photonics\\lib\\site-packages\\photontorch\\networks\\network.py:450: RuntimeWarning: Simulation timestep might be too large, resulting in zero delays for nonzero lengths. Try using a smaller timestep\n",
      "  warnings.warn(\n"
     ]
    },
    {
     "name": "stdout",
     "output_type": "stream",
     "text": [
      " phase: 5.654866776461628, attenuation: 0.1, transmission = 0.4, nmse: 0.4732615533519504\n"
     ]
    },
    {
     "name": "stderr",
     "output_type": "stream",
     "text": [
      "C:\\Users\\mabdalla\\Anaconda3\\envs\\photonics\\lib\\site-packages\\photontorch\\networks\\network.py:450: RuntimeWarning: Simulation timestep might be too large, resulting in zero delays for nonzero lengths. Try using a smaller timestep\n",
      "  warnings.warn(\n"
     ]
    },
    {
     "name": "stdout",
     "output_type": "stream",
     "text": [
      " phase: 5.654866776461628, attenuation: 0.1, transmission = 0.6000000000000001, nmse: 0.6513565044989003\n"
     ]
    },
    {
     "name": "stderr",
     "output_type": "stream",
     "text": [
      "C:\\Users\\mabdalla\\Anaconda3\\envs\\photonics\\lib\\site-packages\\photontorch\\networks\\network.py:450: RuntimeWarning: Simulation timestep might be too large, resulting in zero delays for nonzero lengths. Try using a smaller timestep\n",
      "  warnings.warn(\n"
     ]
    },
    {
     "name": "stdout",
     "output_type": "stream",
     "text": [
      " phase: 5.654866776461628, attenuation: 0.1, transmission = 0.8, nmse: 0.6683129514126739\n"
     ]
    },
    {
     "name": "stderr",
     "output_type": "stream",
     "text": [
      "C:\\Users\\mabdalla\\Anaconda3\\envs\\photonics\\lib\\site-packages\\photontorch\\networks\\network.py:450: RuntimeWarning: Simulation timestep might be too large, resulting in zero delays for nonzero lengths. Try using a smaller timestep\n",
      "  warnings.warn(\n"
     ]
    },
    {
     "name": "stdout",
     "output_type": "stream",
     "text": [
      " phase: 5.654866776461628, attenuation: 0.30000000000000004, transmission = 0.0, nmse: 0.7483218000823836\n"
     ]
    },
    {
     "name": "stderr",
     "output_type": "stream",
     "text": [
      "C:\\Users\\mabdalla\\Anaconda3\\envs\\photonics\\lib\\site-packages\\photontorch\\networks\\network.py:450: RuntimeWarning: Simulation timestep might be too large, resulting in zero delays for nonzero lengths. Try using a smaller timestep\n",
      "  warnings.warn(\n"
     ]
    },
    {
     "name": "stdout",
     "output_type": "stream",
     "text": [
      " phase: 5.654866776461628, attenuation: 0.30000000000000004, transmission = 0.2, nmse: 0.31077097445493207\n"
     ]
    },
    {
     "name": "stderr",
     "output_type": "stream",
     "text": [
      "C:\\Users\\mabdalla\\Anaconda3\\envs\\photonics\\lib\\site-packages\\photontorch\\networks\\network.py:450: RuntimeWarning: Simulation timestep might be too large, resulting in zero delays for nonzero lengths. Try using a smaller timestep\n",
      "  warnings.warn(\n"
     ]
    },
    {
     "name": "stdout",
     "output_type": "stream",
     "text": [
      " phase: 5.654866776461628, attenuation: 0.30000000000000004, transmission = 0.4, nmse: 0.5435536768395955\n"
     ]
    },
    {
     "name": "stderr",
     "output_type": "stream",
     "text": [
      "C:\\Users\\mabdalla\\Anaconda3\\envs\\photonics\\lib\\site-packages\\photontorch\\networks\\network.py:450: RuntimeWarning: Simulation timestep might be too large, resulting in zero delays for nonzero lengths. Try using a smaller timestep\n",
      "  warnings.warn(\n"
     ]
    },
    {
     "name": "stdout",
     "output_type": "stream",
     "text": [
      " phase: 5.654866776461628, attenuation: 0.30000000000000004, transmission = 0.6000000000000001, nmse: 0.6615498034643796\n"
     ]
    },
    {
     "name": "stderr",
     "output_type": "stream",
     "text": [
      "C:\\Users\\mabdalla\\Anaconda3\\envs\\photonics\\lib\\site-packages\\photontorch\\networks\\network.py:450: RuntimeWarning: Simulation timestep might be too large, resulting in zero delays for nonzero lengths. Try using a smaller timestep\n",
      "  warnings.warn(\n"
     ]
    },
    {
     "name": "stdout",
     "output_type": "stream",
     "text": [
      " phase: 5.654866776461628, attenuation: 0.30000000000000004, transmission = 0.8, nmse: 0.6682864053532136\n"
     ]
    },
    {
     "name": "stderr",
     "output_type": "stream",
     "text": [
      "C:\\Users\\mabdalla\\Anaconda3\\envs\\photonics\\lib\\site-packages\\photontorch\\networks\\network.py:450: RuntimeWarning: Simulation timestep might be too large, resulting in zero delays for nonzero lengths. Try using a smaller timestep\n",
      "  warnings.warn(\n"
     ]
    },
    {
     "name": "stdout",
     "output_type": "stream",
     "text": [
      " phase: 5.654866776461628, attenuation: 0.5, transmission = 0.0, nmse: 0.7483218000823836\n"
     ]
    },
    {
     "name": "stderr",
     "output_type": "stream",
     "text": [
      "C:\\Users\\mabdalla\\Anaconda3\\envs\\photonics\\lib\\site-packages\\photontorch\\networks\\network.py:450: RuntimeWarning: Simulation timestep might be too large, resulting in zero delays for nonzero lengths. Try using a smaller timestep\n",
      "  warnings.warn(\n"
     ]
    },
    {
     "name": "stdout",
     "output_type": "stream",
     "text": [
      " phase: 5.654866776461628, attenuation: 0.5, transmission = 0.2, nmse: 0.38878051881207343\n"
     ]
    },
    {
     "name": "stderr",
     "output_type": "stream",
     "text": [
      "C:\\Users\\mabdalla\\Anaconda3\\envs\\photonics\\lib\\site-packages\\photontorch\\networks\\network.py:450: RuntimeWarning: Simulation timestep might be too large, resulting in zero delays for nonzero lengths. Try using a smaller timestep\n",
      "  warnings.warn(\n"
     ]
    },
    {
     "name": "stdout",
     "output_type": "stream",
     "text": [
      " phase: 5.654866776461628, attenuation: 0.5, transmission = 0.4, nmse: 0.6092143702434792\n"
     ]
    },
    {
     "name": "stderr",
     "output_type": "stream",
     "text": [
      "C:\\Users\\mabdalla\\Anaconda3\\envs\\photonics\\lib\\site-packages\\photontorch\\networks\\network.py:450: RuntimeWarning: Simulation timestep might be too large, resulting in zero delays for nonzero lengths. Try using a smaller timestep\n",
      "  warnings.warn(\n"
     ]
    },
    {
     "name": "stdout",
     "output_type": "stream",
     "text": [
      " phase: 5.654866776461628, attenuation: 0.5, transmission = 0.6000000000000001, nmse: 0.6669584257608442\n"
     ]
    },
    {
     "name": "stderr",
     "output_type": "stream",
     "text": [
      "C:\\Users\\mabdalla\\Anaconda3\\envs\\photonics\\lib\\site-packages\\photontorch\\networks\\network.py:450: RuntimeWarning: Simulation timestep might be too large, resulting in zero delays for nonzero lengths. Try using a smaller timestep\n",
      "  warnings.warn(\n"
     ]
    },
    {
     "name": "stdout",
     "output_type": "stream",
     "text": [
      " phase: 5.654866776461628, attenuation: 0.5, transmission = 0.8, nmse: 0.6677748314118018\n"
     ]
    },
    {
     "name": "stderr",
     "output_type": "stream",
     "text": [
      "C:\\Users\\mabdalla\\Anaconda3\\envs\\photonics\\lib\\site-packages\\photontorch\\networks\\network.py:450: RuntimeWarning: Simulation timestep might be too large, resulting in zero delays for nonzero lengths. Try using a smaller timestep\n",
      "  warnings.warn(\n"
     ]
    },
    {
     "name": "stdout",
     "output_type": "stream",
     "text": [
      " phase: 5.654866776461628, attenuation: 0.7000000000000001, transmission = 0.0, nmse: 0.7483218000823836\n"
     ]
    },
    {
     "name": "stderr",
     "output_type": "stream",
     "text": [
      "C:\\Users\\mabdalla\\Anaconda3\\envs\\photonics\\lib\\site-packages\\photontorch\\networks\\network.py:450: RuntimeWarning: Simulation timestep might be too large, resulting in zero delays for nonzero lengths. Try using a smaller timestep\n",
      "  warnings.warn(\n"
     ]
    },
    {
     "name": "stdout",
     "output_type": "stream",
     "text": [
      " phase: 5.654866776461628, attenuation: 0.7000000000000001, transmission = 0.2, nmse: 0.5472158532542075\n"
     ]
    },
    {
     "name": "stderr",
     "output_type": "stream",
     "text": [
      "C:\\Users\\mabdalla\\Anaconda3\\envs\\photonics\\lib\\site-packages\\photontorch\\networks\\network.py:450: RuntimeWarning: Simulation timestep might be too large, resulting in zero delays for nonzero lengths. Try using a smaller timestep\n",
      "  warnings.warn(\n"
     ]
    },
    {
     "name": "stdout",
     "output_type": "stream",
     "text": [
      " phase: 5.654866776461628, attenuation: 0.7000000000000001, transmission = 0.4, nmse: 0.6534064924168599\n"
     ]
    },
    {
     "name": "stderr",
     "output_type": "stream",
     "text": [
      "C:\\Users\\mabdalla\\Anaconda3\\envs\\photonics\\lib\\site-packages\\photontorch\\networks\\network.py:450: RuntimeWarning: Simulation timestep might be too large, resulting in zero delays for nonzero lengths. Try using a smaller timestep\n",
      "  warnings.warn(\n"
     ]
    },
    {
     "name": "stdout",
     "output_type": "stream",
     "text": [
      " phase: 5.654866776461628, attenuation: 0.7000000000000001, transmission = 0.6000000000000001, nmse: 0.6683682763656246\n"
     ]
    },
    {
     "name": "stderr",
     "output_type": "stream",
     "text": [
      "C:\\Users\\mabdalla\\Anaconda3\\envs\\photonics\\lib\\site-packages\\photontorch\\networks\\network.py:450: RuntimeWarning: Simulation timestep might be too large, resulting in zero delays for nonzero lengths. Try using a smaller timestep\n",
      "  warnings.warn(\n"
     ]
    },
    {
     "name": "stdout",
     "output_type": "stream",
     "text": [
      " phase: 5.654866776461628, attenuation: 0.7000000000000001, transmission = 0.8, nmse: 0.6667443331333265\n"
     ]
    },
    {
     "name": "stderr",
     "output_type": "stream",
     "text": [
      "C:\\Users\\mabdalla\\Anaconda3\\envs\\photonics\\lib\\site-packages\\photontorch\\networks\\network.py:450: RuntimeWarning: Simulation timestep might be too large, resulting in zero delays for nonzero lengths. Try using a smaller timestep\n",
      "  warnings.warn(\n"
     ]
    },
    {
     "name": "stdout",
     "output_type": "stream",
     "text": [
      " phase: 5.654866776461628, attenuation: 0.9, transmission = 0.0, nmse: 0.7483218000823836\n"
     ]
    },
    {
     "name": "stderr",
     "output_type": "stream",
     "text": [
      "C:\\Users\\mabdalla\\Anaconda3\\envs\\photonics\\lib\\site-packages\\photontorch\\networks\\network.py:450: RuntimeWarning: Simulation timestep might be too large, resulting in zero delays for nonzero lengths. Try using a smaller timestep\n",
      "  warnings.warn(\n"
     ]
    },
    {
     "name": "stdout",
     "output_type": "stream",
     "text": [
      " phase: 5.654866776461628, attenuation: 0.9, transmission = 0.2, nmse: 0.6610981819533571\n"
     ]
    },
    {
     "name": "stderr",
     "output_type": "stream",
     "text": [
      "C:\\Users\\mabdalla\\Anaconda3\\envs\\photonics\\lib\\site-packages\\photontorch\\networks\\network.py:450: RuntimeWarning: Simulation timestep might be too large, resulting in zero delays for nonzero lengths. Try using a smaller timestep\n",
      "  warnings.warn(\n"
     ]
    },
    {
     "name": "stdout",
     "output_type": "stream",
     "text": [
      " phase: 5.654866776461628, attenuation: 0.9, transmission = 0.4, nmse: 0.6684387700709362\n"
     ]
    },
    {
     "name": "stderr",
     "output_type": "stream",
     "text": [
      "C:\\Users\\mabdalla\\Anaconda3\\envs\\photonics\\lib\\site-packages\\photontorch\\networks\\network.py:450: RuntimeWarning: Simulation timestep might be too large, resulting in zero delays for nonzero lengths. Try using a smaller timestep\n",
      "  warnings.warn(\n"
     ]
    },
    {
     "name": "stdout",
     "output_type": "stream",
     "text": [
      " phase: 5.654866776461628, attenuation: 0.9, transmission = 0.6000000000000001, nmse: 0.6677362972315708\n"
     ]
    },
    {
     "name": "stderr",
     "output_type": "stream",
     "text": [
      "C:\\Users\\mabdalla\\Anaconda3\\envs\\photonics\\lib\\site-packages\\photontorch\\networks\\network.py:450: RuntimeWarning: Simulation timestep might be too large, resulting in zero delays for nonzero lengths. Try using a smaller timestep\n",
      "  warnings.warn(\n"
     ]
    },
    {
     "name": "stdout",
     "output_type": "stream",
     "text": [
      " phase: 5.654866776461628, attenuation: 0.9, transmission = 0.8, nmse: 0.6695060208490948\n"
     ]
    }
   ],
   "source": [
    "'''----- Train the Circuit at 1.55um -----'''\n",
    "Bits = N\n",
    "\n",
    "for i in range(10):\n",
    "    wg_phase_= 2*np.pi*0.1*i\n",
    "    \n",
    "    for j in range(5):\n",
    "        fb_att_ = 0.2*j + 0.1\n",
    "        \n",
    "        for k in range(5):\n",
    "            tr_=0.2*k\n",
    "            ring_res = ring_reservoir(las_pow=las_pow, attenuation=fb_att_, wg_delay=wg_delay, wg_phase=wg_phase_, \n",
    "                                      ng=ng, tr=tr_, neff=neff, mask_vector=mask_vector, nodes=Nodes)\n",
    "\n",
    "            with pt.Environment(t=t):\n",
    "                detected = ring_res(source=trstream.rename(\"t\", \"b\"))[:,0,0,:] # lower dimensional sources should have named dimensions\n",
    "                #ring_res.plot(detected)\n",
    "                #plt.show()\n",
    "    \n",
    "            #Data preparation -- Removing the first 200 bits\n",
    "            detected_np = detected.numpy()\n",
    "            detected_np = detected_np.reshape(Bits,Nodes)\n",
    "            target_now = narma10_jaeger(trbits).numpy().reshape(Bits,1)\n",
    "            detected_np_cut = detected_np[200:,:]\n",
    "            target_now_cut = target_now[200:]\n",
    "        \n",
    "            #Regression and Prediction\n",
    "            regr = linear_model.LinearRegression()\n",
    "            x = regr.fit(detected_np_cut,target_now_cut)\n",
    "            y = regr.predict(detected_np_cut)\n",
    "        \n",
    "            #Error Calculation\n",
    "            nmse = 1 - regr.score(detected_np_cut,target_now_cut)\n",
    "            mse = mse_new(target_now_cut,y,Bits)\n",
    "\n",
    "            print(f' phase: {wg_phase_}, attenuation: {fb_att_}, transmission = {tr_}, nmse: {nmse}')            "
   ]
  },
  {
   "cell_type": "markdown",
   "id": "pursuant-ultimate",
   "metadata": {},
   "source": [
    "## Testing at the training wavelength for Validation set"
   ]
  },
  {
   "cell_type": "code",
   "execution_count": 19,
   "id": "alleged-single",
   "metadata": {},
   "outputs": [
    {
     "data": {
      "image/png": "[encoded data removed]",
      "text/plain": [
       "<Figure size 432x288 with 1 Axes>"
      ]
     },
     "metadata": {
      "needs_background": "light"
     },
     "output_type": "display_data"
    },
    {
     "name": "stdout",
     "output_type": "stream",
     "text": [
      " phase: 0, attenuation: 0, transmission = 0.2, nmse: 0.23116393719697093\n"
     ]
    },
    {
     "name": "stderr",
     "output_type": "stream",
     "text": [
      "C:\\Users\\mabdalla\\Anaconda3\\envs\\photonics\\lib\\site-packages\\photontorch\\networks\\network.py:450: RuntimeWarning: Simulation timestep might be too large, resulting in zero delays for nonzero lengths. Try using a smaller timestep\n",
      "  warnings.warn(\n"
     ]
    },
    {
     "data": {
      "image/png": "[encoded data removed]",
      "text/plain": [
       "<Figure size 432x288 with 1 Axes>"
      ]
     },
     "metadata": {
      "needs_background": "light"
     },
     "output_type": "display_data"
    },
    {
     "data": {
      "image/png": "[encoded data removed]",
      "text/plain": [
       "<Figure size 432x288 with 1 Axes>"
      ]
     },
     "metadata": {
      "needs_background": "light"
     },
     "output_type": "display_data"
    },
    {
     "name": "stdout",
     "output_type": "stream",
     "text": [
      " phase: 0, attenuation: 0, transmission = 0.2, nmse: 0.22033141743101314\n"
     ]
    }
   ],
   "source": [
    "'''----- Training -----'''\n",
    "wg_phase_=0\n",
    "tr_=0.2\n",
    "fb_att_=0\n",
    "\n",
    "ring_res_test = ring_reservoir(las_pow=las_pow, attenuation=fb_att_, wg_delay=wg_delay, wg_phase=wg_phase_, \n",
    "                            ng=ng, tr=tr_, neff=neff, mask_vector=mask_vector, nodes=Nodes)\n",
    "\n",
    "with pt.Environment(t=t):\n",
    "    detected = ring_res_test(source=trstream.rename(\"t\", \"b\"))[:,0,0,:] # lower dimensional sources should have named dimensions\n",
    "    ring_res.plot(detected)\n",
    "    plt.show()\n",
    "    \n",
    "#Data preparation -- Removing the first 200 bits\n",
    "detected_np = detected.numpy()\n",
    "detected_np = detected_np.reshape(Bits,Nodes)\n",
    "target_now = narma10_jaeger(trbits).numpy().reshape(Bits,1)\n",
    "detected_np_cut = detected_np[200:,:]\n",
    "target_now_cut = target_now[200:]\n",
    "        \n",
    "#Regression and Prediction\n",
    "regr = linear_model.LinearRegression()\n",
    "x = regr.fit(detected_np_cut,target_now_cut)\n",
    "y = regr.predict(detected_np_cut)\n",
    "        \n",
    "#Error Calculation\n",
    "nmse = 1 - regr.score(detected_np_cut,target_now_cut)\n",
    "mse = mse_new(target_now_cut,y,Bits)\n",
    "\n",
    "print(f' phase: {wg_phase_}, attenuation: {fb_att_}, transmission = {tr_}, nmse: {nmse}')            \n",
    "\n",
    "\n",
    "'''----- Validation Test -----'''\n",
    "with pt.Environment(t=t):\n",
    "    detected_va = ring_res_test(source=vastream.rename(\"t\", \"b\"))[:,0,0,:] # lower dimensional sources should have named dimensions\n",
    "    ring_res_test.plot(detected_va)\n",
    "    plt.show()\n",
    "\n",
    "#Data preparation -- Removing the first 200 bits\n",
    "detected_va_np = detected_va.numpy()\n",
    "detected_va_np = detected_va_np.reshape(Bits,Nodes)\n",
    "target_va_now = narma10_jaeger(vabits).numpy().reshape(Bits,1)\n",
    "detected_va_np_cut = detected_va_np[200:,:]\n",
    "target_va_now_cut = target_va_now[200:]\n",
    "\n",
    "#Prediction\n",
    "y_va = regr.predict(detected_va_np_cut)\n",
    "\n",
    "#Error Calculation\n",
    "nmse_va = 1 - regr.score(detected_va_np_cut,target_va_now_cut)\n",
    "mse_va = mse_new(target_va_now_cut,y_va,Bits)\n",
    "\n",
    "#Plots\n",
    "plt.plot(y_va,label='Predicted')\n",
    "plt.plot(target_va_now_cut,label='Target')\n",
    "plt.legend(loc='upper right')\n",
    "plt.xlabel('Sample')\n",
    "plt.ylabel('Power')\n",
    "plt.show()\n",
    "\n",
    "print(f' phase: {wg_phase_}, attenuation: {fb_att_}, transmission = {tr_}, nmse: {nmse_va}')            "
   ]
  },
  {
   "cell_type": "code",
   "execution_count": null,
   "id": "comic-brazilian",
   "metadata": {},
   "outputs": [],
   "source": [
    "'''----- Scatter Plot of predicted vs expected ------'''\n",
    "\n",
    "plt.scatter(y_va, target_va_now_cut, marker='.', alpha=0.2)\n",
    "plt.xlabel('Predicted', fontsize=12)\n",
    "plt.ylabel('Expected', fontsize=12)\n",
    "plt.show()"
   ]
  },
  {
   "cell_type": "markdown",
   "id": "fatty-disposition",
   "metadata": {},
   "source": [
    "## Sweeping Across Wavelength:\n",
    "### Validation Set Performance"
   ]
  },
  {
   "cell_type": "code",
   "execution_count": null,
   "id": "expressed-touch",
   "metadata": {},
   "outputs": [],
   "source": [
    "'''----- Sweep the Circuit at several wavelengths -----'''\n",
    "wavelengths = 1e-6*np.linspace(1.3,1.8,11) #[m] Wavelengths to sweep over\n",
    "#wg_ng = np.array([1.4616 ,1.4617, 1.4618, 1.4620, 1.4623, 1.4626, 1.4629, 1.4633, 1.4638, 1.4643, 1.4648])\n",
    "#wg_neff = np.array([1.4469, 1.4464, 1.4458, 1.4452, 1.4446,1.4440, 1.4434, 1.4428, 1.4422, 1.4415, 1.4409])\n",
    "ng_mzm = np.array([2.2744, 2.2715, 2.2690, 2.2669, 2.2651, 2.2637, 2.2625, 2.2615, 2.2608, 2.2602, 2.2599])\n",
    "neff_mzm = np.array([2.2204, 2.2184, 2.2164, 2.2146, 2.2128, 2.2111, 2.2094, 2.2078, 2.2062, 2.2046, 2.2030])\n",
    "nmse = np.zeros_like(wavelengths)\n",
    "\n",
    "for i in range(11):\n",
    "    \n",
    "    Reservoir_oe_multiwl = oe_reservoir(gain=gain,wl0=wavelengths[i], las_pow=las_pow, \n",
    "                            attenuation=att, wg_delay=wg_delay, wg_ng=ng_mzm[i], wg_neff=neff_mzm[i], \n",
    "                            mask_vector=mask_vector, nodes=Nodes, weights=weights_, \n",
    "                            bias=bias, neff_mzm=neff_mzm[i], ng_mzm=ng_mzm[i])\n",
    "\n",
    "    with pt.Environment(t=t,wl=wavelengths[i]):\n",
    "        detected_va_wl = Reservoir_oe_multiwl(source=vastream.rename(\"t\", \"b\"))[:,0,0,:] # lower dimensional sources should have named dimensions\n",
    "        Reservoir_oe_multiwl.plot(detected_va_wl)\n",
    "        plt.show()\n",
    "\n",
    "    #Data preparation -- Removing the first 200 bits\n",
    "    detected_va_wl_np = detected_va_wl.numpy()\n",
    "    detected_va_wl_np = detected_va_wl_np.reshape(Bits,Nodes)\n",
    "    #target_va_now = narma10_jaeger(vabits).numpy().reshape(Bits,1)\n",
    "    detected_va_wl_np_cut = detected_va_wl_np[200:,:]\n",
    "    #target_va_wl_now_cut = target_va_now[200:]\n",
    "\n",
    "    #Prediction\n",
    "    y_va_wl = regr.predict(detected_va_wl_np_cut)\n",
    "\n",
    "    #Error Calculation\n",
    "    nmse_va_wl = 1 - regr.score(detected_va_wl_np_cut,target_va_now_cut)\n",
    "    mse_va_wl = mse_new(target_va_now_cut,y_va_wl,Bits)\n",
    "\n",
    "    #Plots\n",
    "    plt.plot(y_va_wl,label='Predicted')\n",
    "    plt.plot(target_va_now_cut,label='Target')\n",
    "    plt.legend(loc='upper right')\n",
    "    plt.xlabel('Sample')\n",
    "    plt.ylabel('Power')\n",
    "    plt.show()\n",
    "    nmse[i] = nmse_va_wl\n",
    "    print(f' wavelength: {wavelengths[i]}, mse: {mse_va_wl}, nmse: {nmse_va_wl}')    "
   ]
  },
  {
   "cell_type": "code",
   "execution_count": null,
   "id": "solar-operation",
   "metadata": {},
   "outputs": [],
   "source": [
    "plt.plot(wavelengths,nmse)\n",
    "plt.xlabel('Wavelengths')\n",
    "plt.ylabel('NMSE')\n",
    "plt.show()"
   ]
  },
  {
   "cell_type": "code",
   "execution_count": null,
   "id": "checked-veteran",
   "metadata": {},
   "outputs": [],
   "source": [
    "torch.manual_seed(2)\n",
    "x=torch.rand([2,2])\n",
    "x\n",
    "y=torch.transpose(x,0,1)\n",
    "print(y)\n",
    "print(x)"
   ]
  },
  {
   "cell_type": "code",
   "execution_count": null,
   "id": "weighted-system",
   "metadata": {},
   "outputs": [],
   "source": [
    "dt = 1e-14 #[s]\n",
    "total_time = 2000*dt #[s]\n",
    "time = np.arange(0, total_time, dt)\n",
    "c = 299792458 #[m/s]\n",
    "ring_per = 2*np.pi*6.75e-6 #[m] Perimeter of ring\n",
    "transmission = 0.7 #[]\n",
    "neff_lnb = neff_mzm\n",
    "wavelengths = 1e-6*np.linspace(1.5, 1.550, 1000) #[m]"
   ]
  },
  {
   "cell_type": "code",
   "execution_count": null,
   "id": "communist-filing",
   "metadata": {},
   "outputs": [],
   "source": [
    "with pt.Network() as nw:\n",
    "    nw.term_in = pt.Source()\n",
    "    nw.term_thru = nw.term_add = nw.term_drop = pt.Detector()\n",
    "    nw.dc1 = nw.dc2 = pt.DirectionalCoupler(1-transmission)\n",
    "    nw.wg1 = nw.wg2 = pt.Waveguide(0.5*ring_per, loss=0, neff=neff_lnb)\n",
    "    nw.link('term_in:0', '0:dc1:2', '0:wg1:1', '1:dc2:3', '0:term_drop')\n",
    "    nw.link('term_thru:0', '1:dc1:3', '0:wg2:1', '0:dc2:2', '0:term_add')"
   ]
  },
  {
   "cell_type": "code",
   "execution_count": null,
   "id": "australian-journalism",
   "metadata": {},
   "outputs": [],
   "source": [
    "with pt.Environment(wl=np.mean(wavelengths), t=time):\n",
    "    detected = nw(source=1)\n",
    "    nw.plot(detected);"
   ]
  },
  {
   "cell_type": "code",
   "execution_count": null,
   "id": "authorized-rings",
   "metadata": {},
   "outputs": [],
   "source": [
    "with pt.Environment(wl=wavelengths, freqdomain=True):\n",
    "    detected = nw(source=1)\n",
    "    nw.plot(detected)"
   ]
  },
  {
   "cell_type": "code",
   "execution_count": null,
   "id": "smaller-mayor",
   "metadata": {},
   "outputs": [],
   "source": [
    "with pt.Network() as nw2:\n",
    "    nw2.src = pt.Source()\n",
    "    nw2.det = pt.Detector()\n",
    "    nw2.soa = pt.AgrawalSoa(L=0.005, W=2e-06, H=2e-07, N0=1e+24, a=2.7e-20, I=0.18666666666666668, \n",
    "                            tc=3e-10, gamma=0.3, alpha=5.0, neff=2.34, ng=3.75, wl=1.55e-06, name=None)\n",
    "    #nw2.wg = pt.Waveguide(ring_length, loss=0, neff=2.86)\n",
    "    nw2.link('src:0' , '0:soa:1', '0:det')\n",
    "    "
   ]
  },
  {
   "cell_type": "code",
   "execution_count": null,
   "id": "spanish-reason",
   "metadata": {},
   "outputs": [],
   "source": [
    "with pt.Environment(wl=np.mean(wavelengths), t=50*time):\n",
    "    detected = nw2(source=1)\n",
    "    nw2.plot(detected);"
   ]
  },
  {
   "cell_type": "code",
   "execution_count": null,
   "id": "overall-bangkok",
   "metadata": {},
   "outputs": [],
   "source": [
    "class add_drop(pt.Network):\n",
    "    def __init__(self):\n",
    "        super(add_drop,self).__init__()\n",
    "        self.dc1 = self.dc2 = pt.DirectionalCoupler(1-transmission)\n",
    "        self.wg1 = self.wg2 = pt.Waveguide(0.5*ring_per, loss=0, neff=neff_lnb)\n",
    "        self.link('0:dc1:2', '0:wg1:1', '1:dc2:3')\n",
    "        self.link('1:dc1:3', '0:wg2:1', '0:dc2:2')\n",
    "\n",
    "print(torch.where(add_drop().free_ports_at)[0])"
   ]
  },
  {
   "cell_type": "code",
   "execution_count": null,
   "id": "potential-bikini",
   "metadata": {},
   "outputs": [],
   "source": [
    "Bits = N\n",
    "        \n",
    "ring_res = ring_reservoir(gain=gain, wl0=1.55e-6, las_pow=las_pow, attenuation=att, wg_delay=wg_delay, wg_ng=ng, wg_neff=neff, mask_vector=mask_vector, nodes=Nodes, weights=weights_, bias=bias, neff_mzm=neff_mzm, ng_mzm=ng_mzm)\n",
    "\n",
    "with pt.Environment(t=t):\n",
    "    detected = Reservoir_oe(source=trstream.rename(\"t\", \"b\"))[:,0,0,:] # lower dimensional sources should have named dimensions\n",
    "    Reservoir_oe.plot(detected)\n",
    "    plt.show()\n",
    "#Data preparation -- Removing the first 200 bits\n",
    "detected_np = detected.numpy()\n",
    "detected_np = detected_np.reshape(Bits,Nodes)\n",
    "target_now = narma10_jaeger(trbits).numpy().reshape(Bits,1)\n",
    "detected_np_cut = detected_np[200:,:]\n",
    "target_now_cut = target_now[200:]\n",
    "        \n",
    "#Regression and Prediction\n",
    "regr = linear_model.LinearRegression()\n",
    "x = regr.fit(detected_np_cut,target_now_cut)\n",
    "y = regr.predict(detected_np_cut)\n",
    "        \n",
    "#Error Calculation\n",
    "nmse = 1 - regr.score(detected_np_cut,target_now_cut)\n",
    "mse = mse_new(target_now_cut,y,Bits)\n",
    "\n",
    "print(f' attenuation: {att}, gain: {gain}, mse: {mse}, nmse: {nmse}')  "
   ]
  }
 ],
 "metadata": {
  "kernelspec": {
   "display_name": "Python 3",
   "language": "python",
   "name": "python3"
  },
  "language_info": {
   "codemirror_mode": {
    "name": "ipython",
    "version": 3
   },
   "file_extension": ".py",
   "mimetype": "text/x-python",
   "name": "python",
   "nbconvert_exporter": "python",
   "pygments_lexer": "ipython3",
   "version": "3.8.5"
  }
 },
 "nbformat": 4,
 "nbformat_minor": 5
}
